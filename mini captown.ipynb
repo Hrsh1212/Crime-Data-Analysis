{
 "cells": [
  {
   "cell_type": "markdown",
   "metadata": {},
   "source": [
    "First we have to install pymtsql...."
   ]
  },
  {
   "cell_type": "code",
   "execution_count": 1,
   "metadata": {},
   "outputs": [
    {
     "name": "stdout",
     "output_type": "stream",
     "text": [
      "Requirement already satisfied: pymysql in c:\\users\\vaibhav\\appdata\\local\\programs\\python\\python312\\lib\\site-packages (1.1.1)\n"
     ]
    }
   ],
   "source": [
    "!pip install pymysql"
   ]
  },
  {
   "cell_type": "markdown",
   "metadata": {},
   "source": [
    "After that we have to import pymysql and connect with our my sql server... "
   ]
  },
  {
   "cell_type": "code",
   "execution_count": 2,
   "metadata": {},
   "outputs": [
    {
     "data": {
      "text/plain": [
       "<pymysql.connections.Connection at 0x1962f5a0cb0>"
      ]
     },
     "execution_count": 2,
     "metadata": {},
     "output_type": "execute_result"
    }
   ],
   "source": [
    "import pymysql\n",
    "connection=pymysql.connect(host='localhost',user='root',password='4b92bdmtsu',database='crime_db')\n",
    "connection"
   ]
  },
  {
   "cell_type": "markdown",
   "metadata": {},
   "source": [
    "Lets disable first warning notification..."
   ]
  },
  {
   "cell_type": "code",
   "execution_count": 3,
   "metadata": {},
   "outputs": [],
   "source": [
    "import warnings\n",
    "warnings.filterwarnings('ignore')"
   ]
  },
  {
   "cell_type": "markdown",
   "metadata": {},
   "source": [
    "Lets import pandas and run our sql query with python...."
   ]
  },
  {
   "cell_type": "code",
   "execution_count": 4,
   "metadata": {},
   "outputs": [
    {
     "data": {
      "text/html": [
       "<div>\n",
       "<style scoped>\n",
       "    .dataframe tbody tr th:only-of-type {\n",
       "        vertical-align: middle;\n",
       "    }\n",
       "\n",
       "    .dataframe tbody tr th {\n",
       "        vertical-align: top;\n",
       "    }\n",
       "\n",
       "    .dataframe thead th {\n",
       "        text-align: right;\n",
       "    }\n",
       "</style>\n",
       "<table border=\"1\" class=\"dataframe\">\n",
       "  <thead>\n",
       "    <tr style=\"text-align: right;\">\n",
       "      <th></th>\n",
       "      <th>DR_NO</th>\n",
       "      <th>Date_Rptd</th>\n",
       "      <th>DATE_OCC</th>\n",
       "      <th>AREA_NAME</th>\n",
       "      <th>Crm_Cd</th>\n",
       "      <th>Crm_Cd_Desc</th>\n",
       "      <th>Vict_Age</th>\n",
       "      <th>Vict_Sex</th>\n",
       "      <th>Premis_Desc</th>\n",
       "      <th>Status</th>\n",
       "      <th>Location</th>\n",
       "      <th>LAT</th>\n",
       "      <th>LON</th>\n",
       "    </tr>\n",
       "  </thead>\n",
       "  <tbody>\n",
       "    <tr>\n",
       "      <th>0</th>\n",
       "      <td>10304468</td>\n",
       "      <td>01-08-2020</td>\n",
       "      <td>01-08-2020</td>\n",
       "      <td>Southwest</td>\n",
       "      <td>624</td>\n",
       "      <td>BATTERY - SIMPLE ASSAULT</td>\n",
       "      <td>36</td>\n",
       "      <td>F</td>\n",
       "      <td>SINGLE FAMILY DWELLING</td>\n",
       "      <td>AO</td>\n",
       "      <td>1100 W 39TH PL</td>\n",
       "      <td>34.01</td>\n",
       "      <td>-118.30</td>\n",
       "    </tr>\n",
       "    <tr>\n",
       "      <th>1</th>\n",
       "      <td>190101086</td>\n",
       "      <td>01-02-2020</td>\n",
       "      <td>01-01-2020</td>\n",
       "      <td>Central</td>\n",
       "      <td>624</td>\n",
       "      <td>BATTERY - SIMPLE ASSAULT</td>\n",
       "      <td>25</td>\n",
       "      <td>M</td>\n",
       "      <td>SIDEWALK</td>\n",
       "      <td>IC</td>\n",
       "      <td>700 S HILL ST</td>\n",
       "      <td>34.05</td>\n",
       "      <td>-118.25</td>\n",
       "    </tr>\n",
       "    <tr>\n",
       "      <th>2</th>\n",
       "      <td>191501505</td>\n",
       "      <td>01-01-2020</td>\n",
       "      <td>01-01-2020</td>\n",
       "      <td>N Hollywood</td>\n",
       "      <td>745</td>\n",
       "      <td>VANDALISM - MISDEAMEANOR ($399 OR UNDER)</td>\n",
       "      <td>76</td>\n",
       "      <td>F</td>\n",
       "      <td>MULTI-UNIT DWELLING (APARTMENT, DUPLEX, ETC)</td>\n",
       "      <td>IC</td>\n",
       "      <td>5400 CORTEEN PL</td>\n",
       "      <td>34.17</td>\n",
       "      <td>-118.40</td>\n",
       "    </tr>\n",
       "    <tr>\n",
       "      <th>3</th>\n",
       "      <td>191921269</td>\n",
       "      <td>01-01-2020</td>\n",
       "      <td>01-01-2020</td>\n",
       "      <td>Mission</td>\n",
       "      <td>740</td>\n",
       "      <td>VANDALISM - FELONY ($400 &amp; OVER, ALL CHURCH VA...</td>\n",
       "      <td>31</td>\n",
       "      <td>X</td>\n",
       "      <td>BEAUTY SUPPLY STORE</td>\n",
       "      <td>IC</td>\n",
       "      <td>14400 TITUS ST</td>\n",
       "      <td>34.22</td>\n",
       "      <td>-118.45</td>\n",
       "    </tr>\n",
       "    <tr>\n",
       "      <th>4</th>\n",
       "      <td>200100502</td>\n",
       "      <td>01-02-2020</td>\n",
       "      <td>01-02-2020</td>\n",
       "      <td>Central</td>\n",
       "      <td>442</td>\n",
       "      <td>SHOPLIFTING - PETTY THEFT ($950 &amp; UNDER)</td>\n",
       "      <td>23</td>\n",
       "      <td>M</td>\n",
       "      <td>DEPARTMENT STORE</td>\n",
       "      <td>IC</td>\n",
       "      <td>700 S FIGUEROA ST</td>\n",
       "      <td>34.05</td>\n",
       "      <td>-118.26</td>\n",
       "    </tr>\n",
       "    <tr>\n",
       "      <th>...</th>\n",
       "      <td>...</td>\n",
       "      <td>...</td>\n",
       "      <td>...</td>\n",
       "      <td>...</td>\n",
       "      <td>...</td>\n",
       "      <td>...</td>\n",
       "      <td>...</td>\n",
       "      <td>...</td>\n",
       "      <td>...</td>\n",
       "      <td>...</td>\n",
       "      <td>...</td>\n",
       "      <td>...</td>\n",
       "      <td>...</td>\n",
       "    </tr>\n",
       "    <tr>\n",
       "      <th>494</th>\n",
       "      <td>200106614</td>\n",
       "      <td>02-07-2020</td>\n",
       "      <td>02-07-2020</td>\n",
       "      <td>Central</td>\n",
       "      <td>624</td>\n",
       "      <td>BATTERY - SIMPLE ASSAULT</td>\n",
       "      <td>33</td>\n",
       "      <td>M</td>\n",
       "      <td>SIDEWALK</td>\n",
       "      <td>IC</td>\n",
       "      <td>2400 ELLENDALE PL</td>\n",
       "      <td>34.05</td>\n",
       "      <td>-118.26</td>\n",
       "    </tr>\n",
       "    <tr>\n",
       "      <th>495</th>\n",
       "      <td>200106615</td>\n",
       "      <td>02-07-2020</td>\n",
       "      <td>02-07-2020</td>\n",
       "      <td>Central</td>\n",
       "      <td>624</td>\n",
       "      <td>BATTERY - SIMPLE ASSAULT</td>\n",
       "      <td>25</td>\n",
       "      <td>M</td>\n",
       "      <td>SIDEWALK</td>\n",
       "      <td>IC</td>\n",
       "      <td>39TH PL</td>\n",
       "      <td>34.05</td>\n",
       "      <td>-118.26</td>\n",
       "    </tr>\n",
       "    <tr>\n",
       "      <th>496</th>\n",
       "      <td>200106616</td>\n",
       "      <td>02-07-2020</td>\n",
       "      <td>02-07-2020</td>\n",
       "      <td>Central</td>\n",
       "      <td>624</td>\n",
       "      <td>BATTERY - SIMPLE ASSAULT</td>\n",
       "      <td>35</td>\n",
       "      <td>M</td>\n",
       "      <td>OTHER STORE</td>\n",
       "      <td>IC</td>\n",
       "      <td>2500 W VERNON AV</td>\n",
       "      <td>34.05</td>\n",
       "      <td>-118.25</td>\n",
       "    </tr>\n",
       "    <tr>\n",
       "      <th>497</th>\n",
       "      <td>200106617</td>\n",
       "      <td>02-07-2020</td>\n",
       "      <td>01-10-2020</td>\n",
       "      <td>Central</td>\n",
       "      <td>510</td>\n",
       "      <td>VEHICLE - STOLEN</td>\n",
       "      <td>0</td>\n",
       "      <td>F</td>\n",
       "      <td>PARKING LOT</td>\n",
       "      <td>IC</td>\n",
       "      <td>700 EXPOSITION BL</td>\n",
       "      <td>34.05</td>\n",
       "      <td>-118.25</td>\n",
       "    </tr>\n",
       "    <tr>\n",
       "      <th>498</th>\n",
       "      <td>200106618</td>\n",
       "      <td>02-07-2020</td>\n",
       "      <td>02-03-2020</td>\n",
       "      <td>Central</td>\n",
       "      <td>745</td>\n",
       "      <td>VANDALISM - MISDEAMEANOR ($399 OR UNDER)</td>\n",
       "      <td>72</td>\n",
       "      <td>M</td>\n",
       "      <td>VEHICLE, PASSENGER/TRUCK</td>\n",
       "      <td>IC</td>\n",
       "      <td>2600 S FIGUEROA ST</td>\n",
       "      <td>34.05</td>\n",
       "      <td>-118.24</td>\n",
       "    </tr>\n",
       "  </tbody>\n",
       "</table>\n",
       "<p>499 rows × 13 columns</p>\n",
       "</div>"
      ],
      "text/plain": [
       "         DR_NO   Date_Rptd    DATE_OCC    AREA_NAME  Crm_Cd  \\\n",
       "0     10304468  01-08-2020  01-08-2020    Southwest     624   \n",
       "1    190101086  01-02-2020  01-01-2020      Central     624   \n",
       "2    191501505  01-01-2020  01-01-2020  N Hollywood     745   \n",
       "3    191921269  01-01-2020  01-01-2020      Mission     740   \n",
       "4    200100502  01-02-2020  01-02-2020      Central     442   \n",
       "..         ...         ...         ...          ...     ...   \n",
       "494  200106614  02-07-2020  02-07-2020      Central     624   \n",
       "495  200106615  02-07-2020  02-07-2020      Central     624   \n",
       "496  200106616  02-07-2020  02-07-2020      Central     624   \n",
       "497  200106617  02-07-2020  01-10-2020      Central     510   \n",
       "498  200106618  02-07-2020  02-03-2020      Central     745   \n",
       "\n",
       "                                           Crm_Cd_Desc  Vict_Age Vict_Sex  \\\n",
       "0                             BATTERY - SIMPLE ASSAULT        36        F   \n",
       "1                             BATTERY - SIMPLE ASSAULT        25        M   \n",
       "2             VANDALISM - MISDEAMEANOR ($399 OR UNDER)        76        F   \n",
       "3    VANDALISM - FELONY ($400 & OVER, ALL CHURCH VA...        31        X   \n",
       "4             SHOPLIFTING - PETTY THEFT ($950 & UNDER)        23        M   \n",
       "..                                                 ...       ...      ...   \n",
       "494                           BATTERY - SIMPLE ASSAULT        33        M   \n",
       "495                           BATTERY - SIMPLE ASSAULT        25        M   \n",
       "496                           BATTERY - SIMPLE ASSAULT        35        M   \n",
       "497                                   VEHICLE - STOLEN         0        F   \n",
       "498           VANDALISM - MISDEAMEANOR ($399 OR UNDER)        72        M   \n",
       "\n",
       "                                      Premis_Desc Status            Location  \\\n",
       "0                          SINGLE FAMILY DWELLING     AO      1100 W 39TH PL   \n",
       "1                                        SIDEWALK     IC       700 S HILL ST   \n",
       "2    MULTI-UNIT DWELLING (APARTMENT, DUPLEX, ETC)     IC     5400 CORTEEN PL   \n",
       "3                             BEAUTY SUPPLY STORE     IC      14400 TITUS ST   \n",
       "4                                DEPARTMENT STORE     IC   700 S FIGUEROA ST   \n",
       "..                                            ...    ...                 ...   \n",
       "494                                      SIDEWALK     IC   2400 ELLENDALE PL   \n",
       "495                                      SIDEWALK     IC             39TH PL   \n",
       "496                                   OTHER STORE     IC    2500 W VERNON AV   \n",
       "497                                   PARKING LOT     IC   700 EXPOSITION BL   \n",
       "498                      VEHICLE, PASSENGER/TRUCK     IC  2600 S FIGUEROA ST   \n",
       "\n",
       "       LAT     LON  \n",
       "0    34.01 -118.30  \n",
       "1    34.05 -118.25  \n",
       "2    34.17 -118.40  \n",
       "3    34.22 -118.45  \n",
       "4    34.05 -118.26  \n",
       "..     ...     ...  \n",
       "494  34.05 -118.26  \n",
       "495  34.05 -118.26  \n",
       "496  34.05 -118.25  \n",
       "497  34.05 -118.25  \n",
       "498  34.05 -118.24  \n",
       "\n",
       "[499 rows x 13 columns]"
      ]
     },
     "execution_count": 4,
     "metadata": {},
     "output_type": "execute_result"
    }
   ],
   "source": [
    "import pandas as pd\n",
    "query='select * from crime_data'\n",
    "df= pd.read_sql(query,connection)\n",
    "df"
   ]
  },
  {
   "cell_type": "markdown",
   "metadata": {},
   "source": [
    "So our Total number or records are 499  is this dataset.."
   ]
  },
  {
   "cell_type": "markdown",
   "metadata": {},
   "source": [
    "Lets fatch some unique values form crm_cd and CRM_cd_desc..."
   ]
  },
  {
   "cell_type": "code",
   "execution_count": 5,
   "metadata": {},
   "outputs": [
    {
     "data": {
      "text/html": [
       "<div>\n",
       "<style scoped>\n",
       "    .dataframe tbody tr th:only-of-type {\n",
       "        vertical-align: middle;\n",
       "    }\n",
       "\n",
       "    .dataframe tbody tr th {\n",
       "        vertical-align: top;\n",
       "    }\n",
       "\n",
       "    .dataframe thead th {\n",
       "        text-align: right;\n",
       "    }\n",
       "</style>\n",
       "<table border=\"1\" class=\"dataframe\">\n",
       "  <thead>\n",
       "    <tr style=\"text-align: right;\">\n",
       "      <th></th>\n",
       "      <th>count(distinct(Crm_Cd))</th>\n",
       "      <th>count(distinct(Crm_Cd_Desc))</th>\n",
       "    </tr>\n",
       "  </thead>\n",
       "  <tbody>\n",
       "    <tr>\n",
       "      <th>0</th>\n",
       "      <td>42</td>\n",
       "      <td>42</td>\n",
       "    </tr>\n",
       "  </tbody>\n",
       "</table>\n",
       "</div>"
      ],
      "text/plain": [
       "   count(distinct(Crm_Cd))  count(distinct(Crm_Cd_Desc))\n",
       "0                       42                            42"
      ]
     },
     "execution_count": 5,
     "metadata": {},
     "output_type": "execute_result"
    }
   ],
   "source": [
    "query='select count(distinct(Crm_Cd)),count(distinct(Crm_Cd_Desc)) from crime_data;'\n",
    "df=pd.read_sql(query,connection)\n",
    "df\n"
   ]
  },
  {
   "cell_type": "markdown",
   "metadata": {},
   "source": [
    "The count of unique value is 42"
   ]
  },
  {
   "cell_type": "code",
   "execution_count": 6,
   "metadata": {},
   "outputs": [
    {
     "data": {
      "text/html": [
       "<div>\n",
       "<style scoped>\n",
       "    .dataframe tbody tr th:only-of-type {\n",
       "        vertical-align: middle;\n",
       "    }\n",
       "\n",
       "    .dataframe tbody tr th {\n",
       "        vertical-align: top;\n",
       "    }\n",
       "\n",
       "    .dataframe thead th {\n",
       "        text-align: right;\n",
       "    }\n",
       "</style>\n",
       "<table border=\"1\" class=\"dataframe\">\n",
       "  <thead>\n",
       "    <tr style=\"text-align: right;\">\n",
       "      <th></th>\n",
       "      <th>Crm_Cd</th>\n",
       "      <th>Crm_Cd_Desc</th>\n",
       "    </tr>\n",
       "  </thead>\n",
       "  <tbody>\n",
       "    <tr>\n",
       "      <th>0</th>\n",
       "      <td>624</td>\n",
       "      <td>BATTERY - SIMPLE ASSAULT</td>\n",
       "    </tr>\n",
       "    <tr>\n",
       "      <th>1</th>\n",
       "      <td>745</td>\n",
       "      <td>VANDALISM - MISDEAMEANOR ($399 OR UNDER)</td>\n",
       "    </tr>\n",
       "    <tr>\n",
       "      <th>2</th>\n",
       "      <td>740</td>\n",
       "      <td>VANDALISM - FELONY ($400 &amp; OVER, ALL CHURCH VA...</td>\n",
       "    </tr>\n",
       "    <tr>\n",
       "      <th>3</th>\n",
       "      <td>442</td>\n",
       "      <td>SHOPLIFTING - PETTY THEFT ($950 &amp; UNDER)</td>\n",
       "    </tr>\n",
       "    <tr>\n",
       "      <th>4</th>\n",
       "      <td>946</td>\n",
       "      <td>OTHER MISCELLANEOUS CRIME</td>\n",
       "    </tr>\n",
       "    <tr>\n",
       "      <th>5</th>\n",
       "      <td>341</td>\n",
       "      <td>THEFT-GRAND ($950.01 &amp; OVER)EXCPT,GUNS,FOWL,LI...</td>\n",
       "    </tr>\n",
       "    <tr>\n",
       "      <th>6</th>\n",
       "      <td>330</td>\n",
       "      <td>BURGLARY FROM VEHICLE</td>\n",
       "    </tr>\n",
       "    <tr>\n",
       "      <th>7</th>\n",
       "      <td>930</td>\n",
       "      <td>CRIMINAL THREATS - NO WEAPON DISPLAYED</td>\n",
       "    </tr>\n",
       "    <tr>\n",
       "      <th>8</th>\n",
       "      <td>648</td>\n",
       "      <td>ARSON</td>\n",
       "    </tr>\n",
       "    <tr>\n",
       "      <th>9</th>\n",
       "      <td>354</td>\n",
       "      <td>THEFT OF IDENTITY</td>\n",
       "    </tr>\n",
       "    <tr>\n",
       "      <th>10</th>\n",
       "      <td>230</td>\n",
       "      <td>ASSAULT WITH DEADLY WEAPON, AGGRAVATED ASSAULT</td>\n",
       "    </tr>\n",
       "    <tr>\n",
       "      <th>11</th>\n",
       "      <td>761</td>\n",
       "      <td>BRANDISH WEAPON</td>\n",
       "    </tr>\n",
       "    <tr>\n",
       "      <th>12</th>\n",
       "      <td>350</td>\n",
       "      <td>THEFT, PERSON</td>\n",
       "    </tr>\n",
       "    <tr>\n",
       "      <th>13</th>\n",
       "      <td>310</td>\n",
       "      <td>BURGLARY</td>\n",
       "    </tr>\n",
       "    <tr>\n",
       "      <th>14</th>\n",
       "      <td>480</td>\n",
       "      <td>BIKE - STOLEN</td>\n",
       "    </tr>\n",
       "    <tr>\n",
       "      <th>15</th>\n",
       "      <td>623</td>\n",
       "      <td>BATTERY POLICE (SIMPLE)</td>\n",
       "    </tr>\n",
       "    <tr>\n",
       "      <th>16</th>\n",
       "      <td>440</td>\n",
       "      <td>THEFT PLAIN - PETTY ($950 &amp; UNDER)</td>\n",
       "    </tr>\n",
       "    <tr>\n",
       "      <th>17</th>\n",
       "      <td>510</td>\n",
       "      <td>VEHICLE - STOLEN</td>\n",
       "    </tr>\n",
       "    <tr>\n",
       "      <th>18</th>\n",
       "      <td>210</td>\n",
       "      <td>ROBBERY</td>\n",
       "    </tr>\n",
       "    <tr>\n",
       "      <th>19</th>\n",
       "      <td>900</td>\n",
       "      <td>VIOLATION OF COURT ORDER</td>\n",
       "    </tr>\n",
       "    <tr>\n",
       "      <th>20</th>\n",
       "      <td>888</td>\n",
       "      <td>TRESPASSING</td>\n",
       "    </tr>\n",
       "    <tr>\n",
       "      <th>21</th>\n",
       "      <td>420</td>\n",
       "      <td>THEFT FROM MOTOR VEHICLE - PETTY ($950 &amp; UNDER)</td>\n",
       "    </tr>\n",
       "    <tr>\n",
       "      <th>22</th>\n",
       "      <td>886</td>\n",
       "      <td>DISTURBING THE PEACE</td>\n",
       "    </tr>\n",
       "    <tr>\n",
       "      <th>23</th>\n",
       "      <td>421</td>\n",
       "      <td>THEFT FROM MOTOR VEHICLE - ATTEMPT</td>\n",
       "    </tr>\n",
       "    <tr>\n",
       "      <th>24</th>\n",
       "      <td>647</td>\n",
       "      <td>THROWING OBJECT AT MOVING VEHICLE</td>\n",
       "    </tr>\n",
       "    <tr>\n",
       "      <th>25</th>\n",
       "      <td>940</td>\n",
       "      <td>EXTORTION</td>\n",
       "    </tr>\n",
       "    <tr>\n",
       "      <th>26</th>\n",
       "      <td>662</td>\n",
       "      <td>BUNCO, GRAND THEFT</td>\n",
       "    </tr>\n",
       "    <tr>\n",
       "      <th>27</th>\n",
       "      <td>220</td>\n",
       "      <td>ATTEMPTED ROBBERY</td>\n",
       "    </tr>\n",
       "    <tr>\n",
       "      <th>28</th>\n",
       "      <td>625</td>\n",
       "      <td>OTHER ASSAULT</td>\n",
       "    </tr>\n",
       "    <tr>\n",
       "      <th>29</th>\n",
       "      <td>755</td>\n",
       "      <td>BOMB SCARE</td>\n",
       "    </tr>\n",
       "    <tr>\n",
       "      <th>30</th>\n",
       "      <td>649</td>\n",
       "      <td>DOCUMENT FORGERY / STOLEN FELONY</td>\n",
       "    </tr>\n",
       "    <tr>\n",
       "      <th>31</th>\n",
       "      <td>901</td>\n",
       "      <td>VIOLATION OF RESTRAINING ORDER</td>\n",
       "    </tr>\n",
       "    <tr>\n",
       "      <th>32</th>\n",
       "      <td>320</td>\n",
       "      <td>BURGLARY, ATTEMPTED</td>\n",
       "    </tr>\n",
       "    <tr>\n",
       "      <th>33</th>\n",
       "      <td>890</td>\n",
       "      <td>FAILURE TO YIELD</td>\n",
       "    </tr>\n",
       "    <tr>\n",
       "      <th>34</th>\n",
       "      <td>351</td>\n",
       "      <td>PURSE SNATCHING</td>\n",
       "    </tr>\n",
       "    <tr>\n",
       "      <th>35</th>\n",
       "      <td>956</td>\n",
       "      <td>LETTERS, LEWD  -  TELEPHONE CALLS, LEWD</td>\n",
       "    </tr>\n",
       "    <tr>\n",
       "      <th>36</th>\n",
       "      <td>820</td>\n",
       "      <td>ORAL COPULATION</td>\n",
       "    </tr>\n",
       "    <tr>\n",
       "      <th>37</th>\n",
       "      <td>812</td>\n",
       "      <td>CRM AGNST CHLD (13 OR UNDER) (14-15 &amp; SUSP 10 ...</td>\n",
       "    </tr>\n",
       "    <tr>\n",
       "      <th>38</th>\n",
       "      <td>920</td>\n",
       "      <td>KIDNAPPING - GRAND ATTEMPT</td>\n",
       "    </tr>\n",
       "    <tr>\n",
       "      <th>39</th>\n",
       "      <td>850</td>\n",
       "      <td>INDECENT EXPOSURE</td>\n",
       "    </tr>\n",
       "    <tr>\n",
       "      <th>40</th>\n",
       "      <td>666</td>\n",
       "      <td>BUNCO, ATTEMPT</td>\n",
       "    </tr>\n",
       "    <tr>\n",
       "      <th>41</th>\n",
       "      <td>343</td>\n",
       "      <td>SHOPLIFTING-GRAND THEFT ($950.01 &amp; OVER)</td>\n",
       "    </tr>\n",
       "  </tbody>\n",
       "</table>\n",
       "</div>"
      ],
      "text/plain": [
       "    Crm_Cd                                        Crm_Cd_Desc\n",
       "0      624                           BATTERY - SIMPLE ASSAULT\n",
       "1      745           VANDALISM - MISDEAMEANOR ($399 OR UNDER)\n",
       "2      740  VANDALISM - FELONY ($400 & OVER, ALL CHURCH VA...\n",
       "3      442           SHOPLIFTING - PETTY THEFT ($950 & UNDER)\n",
       "4      946                          OTHER MISCELLANEOUS CRIME\n",
       "5      341  THEFT-GRAND ($950.01 & OVER)EXCPT,GUNS,FOWL,LI...\n",
       "6      330                              BURGLARY FROM VEHICLE\n",
       "7      930             CRIMINAL THREATS - NO WEAPON DISPLAYED\n",
       "8      648                                              ARSON\n",
       "9      354                                  THEFT OF IDENTITY\n",
       "10     230     ASSAULT WITH DEADLY WEAPON, AGGRAVATED ASSAULT\n",
       "11     761                                    BRANDISH WEAPON\n",
       "12     350                                      THEFT, PERSON\n",
       "13     310                                           BURGLARY\n",
       "14     480                                      BIKE - STOLEN\n",
       "15     623                            BATTERY POLICE (SIMPLE)\n",
       "16     440                 THEFT PLAIN - PETTY ($950 & UNDER)\n",
       "17     510                                   VEHICLE - STOLEN\n",
       "18     210                                            ROBBERY\n",
       "19     900                           VIOLATION OF COURT ORDER\n",
       "20     888                                        TRESPASSING\n",
       "21     420    THEFT FROM MOTOR VEHICLE - PETTY ($950 & UNDER)\n",
       "22     886                               DISTURBING THE PEACE\n",
       "23     421                 THEFT FROM MOTOR VEHICLE - ATTEMPT\n",
       "24     647                  THROWING OBJECT AT MOVING VEHICLE\n",
       "25     940                                          EXTORTION\n",
       "26     662                                 BUNCO, GRAND THEFT\n",
       "27     220                                  ATTEMPTED ROBBERY\n",
       "28     625                                      OTHER ASSAULT\n",
       "29     755                                         BOMB SCARE\n",
       "30     649                   DOCUMENT FORGERY / STOLEN FELONY\n",
       "31     901                     VIOLATION OF RESTRAINING ORDER\n",
       "32     320                                BURGLARY, ATTEMPTED\n",
       "33     890                                   FAILURE TO YIELD\n",
       "34     351                                    PURSE SNATCHING\n",
       "35     956            LETTERS, LEWD  -  TELEPHONE CALLS, LEWD\n",
       "36     820                                    ORAL COPULATION\n",
       "37     812  CRM AGNST CHLD (13 OR UNDER) (14-15 & SUSP 10 ...\n",
       "38     920                         KIDNAPPING - GRAND ATTEMPT\n",
       "39     850                                  INDECENT EXPOSURE\n",
       "40     666                                     BUNCO, ATTEMPT\n",
       "41     343           SHOPLIFTING-GRAND THEFT ($950.01 & OVER)"
      ]
     },
     "execution_count": 6,
     "metadata": {},
     "output_type": "execute_result"
    }
   ],
   "source": [
    "query='select distinct(Crm_Cd),Crm_Cd_Desc from crime_data;'\n",
    "df=pd.read_sql(query,connection)\n",
    "df"
   ]
  },
  {
   "cell_type": "markdown",
   "metadata": {},
   "source": [
    "These are those unique values"
   ]
  },
  {
   "cell_type": "markdown",
   "metadata": {},
   "source": [
    "First we have to import all important lib... for Data visualization and for better understanding..."
   ]
  },
  {
   "cell_type": "code",
   "execution_count": 7,
   "metadata": {},
   "outputs": [],
   "source": [
    "import matplotlib.pyplot as plt\n",
    "import seaborn as sns\n",
    "import plotly as px\n",
    "import pandas as pd"
   ]
  },
  {
   "cell_type": "code",
   "execution_count": 8,
   "metadata": {},
   "outputs": [
    {
     "data": {
      "text/html": [
       "<div>\n",
       "<style scoped>\n",
       "    .dataframe tbody tr th:only-of-type {\n",
       "        vertical-align: middle;\n",
       "    }\n",
       "\n",
       "    .dataframe tbody tr th {\n",
       "        vertical-align: top;\n",
       "    }\n",
       "\n",
       "    .dataframe thead th {\n",
       "        text-align: right;\n",
       "    }\n",
       "</style>\n",
       "<table border=\"1\" class=\"dataframe\">\n",
       "  <thead>\n",
       "    <tr style=\"text-align: right;\">\n",
       "      <th></th>\n",
       "      <th>crm_months</th>\n",
       "      <th>count</th>\n",
       "    </tr>\n",
       "  </thead>\n",
       "  <tbody>\n",
       "    <tr>\n",
       "      <th>0</th>\n",
       "      <td>2020-01</td>\n",
       "      <td>314</td>\n",
       "    </tr>\n",
       "    <tr>\n",
       "      <th>1</th>\n",
       "      <td>2020-02</td>\n",
       "      <td>130</td>\n",
       "    </tr>\n",
       "    <tr>\n",
       "      <th>2</th>\n",
       "      <td>2020-03</td>\n",
       "      <td>4</td>\n",
       "    </tr>\n",
       "    <tr>\n",
       "      <th>3</th>\n",
       "      <td>2020-04</td>\n",
       "      <td>5</td>\n",
       "    </tr>\n",
       "    <tr>\n",
       "      <th>4</th>\n",
       "      <td>2020-05</td>\n",
       "      <td>5</td>\n",
       "    </tr>\n",
       "    <tr>\n",
       "      <th>5</th>\n",
       "      <td>2020-06</td>\n",
       "      <td>6</td>\n",
       "    </tr>\n",
       "    <tr>\n",
       "      <th>6</th>\n",
       "      <td>2020-07</td>\n",
       "      <td>3</td>\n",
       "    </tr>\n",
       "    <tr>\n",
       "      <th>7</th>\n",
       "      <td>2020-08</td>\n",
       "      <td>3</td>\n",
       "    </tr>\n",
       "    <tr>\n",
       "      <th>8</th>\n",
       "      <td>2020-09</td>\n",
       "      <td>5</td>\n",
       "    </tr>\n",
       "    <tr>\n",
       "      <th>9</th>\n",
       "      <td>2020-10</td>\n",
       "      <td>4</td>\n",
       "    </tr>\n",
       "    <tr>\n",
       "      <th>10</th>\n",
       "      <td>2020-11</td>\n",
       "      <td>8</td>\n",
       "    </tr>\n",
       "    <tr>\n",
       "      <th>11</th>\n",
       "      <td>2020-12</td>\n",
       "      <td>12</td>\n",
       "    </tr>\n",
       "  </tbody>\n",
       "</table>\n",
       "</div>"
      ],
      "text/plain": [
       "   crm_months  count\n",
       "0     2020-01    314\n",
       "1     2020-02    130\n",
       "2     2020-03      4\n",
       "3     2020-04      5\n",
       "4     2020-05      5\n",
       "5     2020-06      6\n",
       "6     2020-07      3\n",
       "7     2020-08      3\n",
       "8     2020-09      5\n",
       "9     2020-10      4\n",
       "10    2020-11      8\n",
       "11    2020-12     12"
      ]
     },
     "execution_count": 8,
     "metadata": {},
     "output_type": "execute_result"
    }
   ],
   "source": [
    "\n",
    "query='''\n",
    "\n",
    "SELECT DATE_FORMAT(str_to_date(date_occ, '%m-%d-%Y'), '%Y-%m') AS crm_months,\n",
    "       COUNT(*) AS count\n",
    "FROM crime_data\n",
    "GROUP BY crm_months\n",
    "ORDER BY crm_months;\n",
    "\n",
    "'''\n",
    "df= pd.read_sql(query,connection)\n",
    "df"
   ]
  },
  {
   "cell_type": "markdown",
   "metadata": {},
   "source": [
    "These are the case occures by the months"
   ]
  },
  {
   "cell_type": "markdown",
   "metadata": {},
   "source": [
    "Lets visualize this trends by the help of line plot...."
   ]
  },
  {
   "cell_type": "code",
   "execution_count": 9,
   "metadata": {},
   "outputs": [
    {
     "data": {
      "application/vnd.plotly.v1+json": {
       "config": {
        "plotlyServerURL": "https://plot.ly"
       },
       "data": [
        {
         "hovertemplate": "crm_months=%{x}<br>count=%{y}<extra></extra>",
         "legendgroup": "",
         "line": {
          "color": "#636efa",
          "dash": "solid"
         },
         "marker": {
          "symbol": "circle"
         },
         "mode": "lines",
         "name": "",
         "orientation": "v",
         "showlegend": false,
         "type": "scatter",
         "x": [
          "2020-01",
          "2020-02",
          "2020-03",
          "2020-04",
          "2020-05",
          "2020-06",
          "2020-07",
          "2020-08",
          "2020-09",
          "2020-10",
          "2020-11",
          "2020-12"
         ],
         "xaxis": "x",
         "y": [
          314,
          130,
          4,
          5,
          5,
          6,
          3,
          3,
          5,
          4,
          8,
          12
         ],
         "yaxis": "y"
        }
       ],
       "layout": {
        "height": 400,
        "legend": {
         "tracegroupgap": 0
        },
        "template": {
         "data": {
          "bar": [
           {
            "error_x": {
             "color": "#2a3f5f"
            },
            "error_y": {
             "color": "#2a3f5f"
            },
            "marker": {
             "line": {
              "color": "#E5ECF6",
              "width": 0.5
             },
             "pattern": {
              "fillmode": "overlay",
              "size": 10,
              "solidity": 0.2
             }
            },
            "type": "bar"
           }
          ],
          "barpolar": [
           {
            "marker": {
             "line": {
              "color": "#E5ECF6",
              "width": 0.5
             },
             "pattern": {
              "fillmode": "overlay",
              "size": 10,
              "solidity": 0.2
             }
            },
            "type": "barpolar"
           }
          ],
          "carpet": [
           {
            "aaxis": {
             "endlinecolor": "#2a3f5f",
             "gridcolor": "white",
             "linecolor": "white",
             "minorgridcolor": "white",
             "startlinecolor": "#2a3f5f"
            },
            "baxis": {
             "endlinecolor": "#2a3f5f",
             "gridcolor": "white",
             "linecolor": "white",
             "minorgridcolor": "white",
             "startlinecolor": "#2a3f5f"
            },
            "type": "carpet"
           }
          ],
          "choropleth": [
           {
            "colorbar": {
             "outlinewidth": 0,
             "ticks": ""
            },
            "type": "choropleth"
           }
          ],
          "contour": [
           {
            "colorbar": {
             "outlinewidth": 0,
             "ticks": ""
            },
            "colorscale": [
             [
              0,
              "#0d0887"
             ],
             [
              0.1111111111111111,
              "#46039f"
             ],
             [
              0.2222222222222222,
              "#7201a8"
             ],
             [
              0.3333333333333333,
              "#9c179e"
             ],
             [
              0.4444444444444444,
              "#bd3786"
             ],
             [
              0.5555555555555556,
              "#d8576b"
             ],
             [
              0.6666666666666666,
              "#ed7953"
             ],
             [
              0.7777777777777778,
              "#fb9f3a"
             ],
             [
              0.8888888888888888,
              "#fdca26"
             ],
             [
              1,
              "#f0f921"
             ]
            ],
            "type": "contour"
           }
          ],
          "contourcarpet": [
           {
            "colorbar": {
             "outlinewidth": 0,
             "ticks": ""
            },
            "type": "contourcarpet"
           }
          ],
          "heatmap": [
           {
            "colorbar": {
             "outlinewidth": 0,
             "ticks": ""
            },
            "colorscale": [
             [
              0,
              "#0d0887"
             ],
             [
              0.1111111111111111,
              "#46039f"
             ],
             [
              0.2222222222222222,
              "#7201a8"
             ],
             [
              0.3333333333333333,
              "#9c179e"
             ],
             [
              0.4444444444444444,
              "#bd3786"
             ],
             [
              0.5555555555555556,
              "#d8576b"
             ],
             [
              0.6666666666666666,
              "#ed7953"
             ],
             [
              0.7777777777777778,
              "#fb9f3a"
             ],
             [
              0.8888888888888888,
              "#fdca26"
             ],
             [
              1,
              "#f0f921"
             ]
            ],
            "type": "heatmap"
           }
          ],
          "heatmapgl": [
           {
            "colorbar": {
             "outlinewidth": 0,
             "ticks": ""
            },
            "colorscale": [
             [
              0,
              "#0d0887"
             ],
             [
              0.1111111111111111,
              "#46039f"
             ],
             [
              0.2222222222222222,
              "#7201a8"
             ],
             [
              0.3333333333333333,
              "#9c179e"
             ],
             [
              0.4444444444444444,
              "#bd3786"
             ],
             [
              0.5555555555555556,
              "#d8576b"
             ],
             [
              0.6666666666666666,
              "#ed7953"
             ],
             [
              0.7777777777777778,
              "#fb9f3a"
             ],
             [
              0.8888888888888888,
              "#fdca26"
             ],
             [
              1,
              "#f0f921"
             ]
            ],
            "type": "heatmapgl"
           }
          ],
          "histogram": [
           {
            "marker": {
             "pattern": {
              "fillmode": "overlay",
              "size": 10,
              "solidity": 0.2
             }
            },
            "type": "histogram"
           }
          ],
          "histogram2d": [
           {
            "colorbar": {
             "outlinewidth": 0,
             "ticks": ""
            },
            "colorscale": [
             [
              0,
              "#0d0887"
             ],
             [
              0.1111111111111111,
              "#46039f"
             ],
             [
              0.2222222222222222,
              "#7201a8"
             ],
             [
              0.3333333333333333,
              "#9c179e"
             ],
             [
              0.4444444444444444,
              "#bd3786"
             ],
             [
              0.5555555555555556,
              "#d8576b"
             ],
             [
              0.6666666666666666,
              "#ed7953"
             ],
             [
              0.7777777777777778,
              "#fb9f3a"
             ],
             [
              0.8888888888888888,
              "#fdca26"
             ],
             [
              1,
              "#f0f921"
             ]
            ],
            "type": "histogram2d"
           }
          ],
          "histogram2dcontour": [
           {
            "colorbar": {
             "outlinewidth": 0,
             "ticks": ""
            },
            "colorscale": [
             [
              0,
              "#0d0887"
             ],
             [
              0.1111111111111111,
              "#46039f"
             ],
             [
              0.2222222222222222,
              "#7201a8"
             ],
             [
              0.3333333333333333,
              "#9c179e"
             ],
             [
              0.4444444444444444,
              "#bd3786"
             ],
             [
              0.5555555555555556,
              "#d8576b"
             ],
             [
              0.6666666666666666,
              "#ed7953"
             ],
             [
              0.7777777777777778,
              "#fb9f3a"
             ],
             [
              0.8888888888888888,
              "#fdca26"
             ],
             [
              1,
              "#f0f921"
             ]
            ],
            "type": "histogram2dcontour"
           }
          ],
          "mesh3d": [
           {
            "colorbar": {
             "outlinewidth": 0,
             "ticks": ""
            },
            "type": "mesh3d"
           }
          ],
          "parcoords": [
           {
            "line": {
             "colorbar": {
              "outlinewidth": 0,
              "ticks": ""
             }
            },
            "type": "parcoords"
           }
          ],
          "pie": [
           {
            "automargin": true,
            "type": "pie"
           }
          ],
          "scatter": [
           {
            "fillpattern": {
             "fillmode": "overlay",
             "size": 10,
             "solidity": 0.2
            },
            "type": "scatter"
           }
          ],
          "scatter3d": [
           {
            "line": {
             "colorbar": {
              "outlinewidth": 0,
              "ticks": ""
             }
            },
            "marker": {
             "colorbar": {
              "outlinewidth": 0,
              "ticks": ""
             }
            },
            "type": "scatter3d"
           }
          ],
          "scattercarpet": [
           {
            "marker": {
             "colorbar": {
              "outlinewidth": 0,
              "ticks": ""
             }
            },
            "type": "scattercarpet"
           }
          ],
          "scattergeo": [
           {
            "marker": {
             "colorbar": {
              "outlinewidth": 0,
              "ticks": ""
             }
            },
            "type": "scattergeo"
           }
          ],
          "scattergl": [
           {
            "marker": {
             "colorbar": {
              "outlinewidth": 0,
              "ticks": ""
             }
            },
            "type": "scattergl"
           }
          ],
          "scattermapbox": [
           {
            "marker": {
             "colorbar": {
              "outlinewidth": 0,
              "ticks": ""
             }
            },
            "type": "scattermapbox"
           }
          ],
          "scatterpolar": [
           {
            "marker": {
             "colorbar": {
              "outlinewidth": 0,
              "ticks": ""
             }
            },
            "type": "scatterpolar"
           }
          ],
          "scatterpolargl": [
           {
            "marker": {
             "colorbar": {
              "outlinewidth": 0,
              "ticks": ""
             }
            },
            "type": "scatterpolargl"
           }
          ],
          "scatterternary": [
           {
            "marker": {
             "colorbar": {
              "outlinewidth": 0,
              "ticks": ""
             }
            },
            "type": "scatterternary"
           }
          ],
          "surface": [
           {
            "colorbar": {
             "outlinewidth": 0,
             "ticks": ""
            },
            "colorscale": [
             [
              0,
              "#0d0887"
             ],
             [
              0.1111111111111111,
              "#46039f"
             ],
             [
              0.2222222222222222,
              "#7201a8"
             ],
             [
              0.3333333333333333,
              "#9c179e"
             ],
             [
              0.4444444444444444,
              "#bd3786"
             ],
             [
              0.5555555555555556,
              "#d8576b"
             ],
             [
              0.6666666666666666,
              "#ed7953"
             ],
             [
              0.7777777777777778,
              "#fb9f3a"
             ],
             [
              0.8888888888888888,
              "#fdca26"
             ],
             [
              1,
              "#f0f921"
             ]
            ],
            "type": "surface"
           }
          ],
          "table": [
           {
            "cells": {
             "fill": {
              "color": "#EBF0F8"
             },
             "line": {
              "color": "white"
             }
            },
            "header": {
             "fill": {
              "color": "#C8D4E3"
             },
             "line": {
              "color": "white"
             }
            },
            "type": "table"
           }
          ]
         },
         "layout": {
          "annotationdefaults": {
           "arrowcolor": "#2a3f5f",
           "arrowhead": 0,
           "arrowwidth": 1
          },
          "autotypenumbers": "strict",
          "coloraxis": {
           "colorbar": {
            "outlinewidth": 0,
            "ticks": ""
           }
          },
          "colorscale": {
           "diverging": [
            [
             0,
             "#8e0152"
            ],
            [
             0.1,
             "#c51b7d"
            ],
            [
             0.2,
             "#de77ae"
            ],
            [
             0.3,
             "#f1b6da"
            ],
            [
             0.4,
             "#fde0ef"
            ],
            [
             0.5,
             "#f7f7f7"
            ],
            [
             0.6,
             "#e6f5d0"
            ],
            [
             0.7,
             "#b8e186"
            ],
            [
             0.8,
             "#7fbc41"
            ],
            [
             0.9,
             "#4d9221"
            ],
            [
             1,
             "#276419"
            ]
           ],
           "sequential": [
            [
             0,
             "#0d0887"
            ],
            [
             0.1111111111111111,
             "#46039f"
            ],
            [
             0.2222222222222222,
             "#7201a8"
            ],
            [
             0.3333333333333333,
             "#9c179e"
            ],
            [
             0.4444444444444444,
             "#bd3786"
            ],
            [
             0.5555555555555556,
             "#d8576b"
            ],
            [
             0.6666666666666666,
             "#ed7953"
            ],
            [
             0.7777777777777778,
             "#fb9f3a"
            ],
            [
             0.8888888888888888,
             "#fdca26"
            ],
            [
             1,
             "#f0f921"
            ]
           ],
           "sequentialminus": [
            [
             0,
             "#0d0887"
            ],
            [
             0.1111111111111111,
             "#46039f"
            ],
            [
             0.2222222222222222,
             "#7201a8"
            ],
            [
             0.3333333333333333,
             "#9c179e"
            ],
            [
             0.4444444444444444,
             "#bd3786"
            ],
            [
             0.5555555555555556,
             "#d8576b"
            ],
            [
             0.6666666666666666,
             "#ed7953"
            ],
            [
             0.7777777777777778,
             "#fb9f3a"
            ],
            [
             0.8888888888888888,
             "#fdca26"
            ],
            [
             1,
             "#f0f921"
            ]
           ]
          },
          "colorway": [
           "#636efa",
           "#EF553B",
           "#00cc96",
           "#ab63fa",
           "#FFA15A",
           "#19d3f3",
           "#FF6692",
           "#B6E880",
           "#FF97FF",
           "#FECB52"
          ],
          "font": {
           "color": "#2a3f5f"
          },
          "geo": {
           "bgcolor": "white",
           "lakecolor": "white",
           "landcolor": "#E5ECF6",
           "showlakes": true,
           "showland": true,
           "subunitcolor": "white"
          },
          "hoverlabel": {
           "align": "left"
          },
          "hovermode": "closest",
          "mapbox": {
           "style": "light"
          },
          "paper_bgcolor": "white",
          "plot_bgcolor": "#E5ECF6",
          "polar": {
           "angularaxis": {
            "gridcolor": "white",
            "linecolor": "white",
            "ticks": ""
           },
           "bgcolor": "#E5ECF6",
           "radialaxis": {
            "gridcolor": "white",
            "linecolor": "white",
            "ticks": ""
           }
          },
          "scene": {
           "xaxis": {
            "backgroundcolor": "#E5ECF6",
            "gridcolor": "white",
            "gridwidth": 2,
            "linecolor": "white",
            "showbackground": true,
            "ticks": "",
            "zerolinecolor": "white"
           },
           "yaxis": {
            "backgroundcolor": "#E5ECF6",
            "gridcolor": "white",
            "gridwidth": 2,
            "linecolor": "white",
            "showbackground": true,
            "ticks": "",
            "zerolinecolor": "white"
           },
           "zaxis": {
            "backgroundcolor": "#E5ECF6",
            "gridcolor": "white",
            "gridwidth": 2,
            "linecolor": "white",
            "showbackground": true,
            "ticks": "",
            "zerolinecolor": "white"
           }
          },
          "shapedefaults": {
           "line": {
            "color": "#2a3f5f"
           }
          },
          "ternary": {
           "aaxis": {
            "gridcolor": "white",
            "linecolor": "white",
            "ticks": ""
           },
           "baxis": {
            "gridcolor": "white",
            "linecolor": "white",
            "ticks": ""
           },
           "bgcolor": "#E5ECF6",
           "caxis": {
            "gridcolor": "white",
            "linecolor": "white",
            "ticks": ""
           }
          },
          "title": {
           "x": 0.05
          },
          "xaxis": {
           "automargin": true,
           "gridcolor": "white",
           "linecolor": "white",
           "ticks": "",
           "title": {
            "standoff": 15
           },
           "zerolinecolor": "white",
           "zerolinewidth": 2
          },
          "yaxis": {
           "automargin": true,
           "gridcolor": "white",
           "linecolor": "white",
           "ticks": "",
           "title": {
            "standoff": 15
           },
           "zerolinecolor": "white",
           "zerolinewidth": 2
          }
         }
        },
        "title": {
         "text": "Crime occurrence over the months"
        },
        "width": 800,
        "xaxis": {
         "anchor": "y",
         "domain": [
          0,
          1
         ],
         "title": {
          "text": "Months"
         }
        },
        "yaxis": {
         "anchor": "x",
         "domain": [
          0,
          1
         ],
         "title": {
          "text": "No. of Crimes"
         }
        }
       }
      }
     },
     "metadata": {},
     "output_type": "display_data"
    }
   ],
   "source": [
    "import plotly.express as px\n",
    "import seaborn as sns\n",
    "df= pd.read_sql(query,connection)\n",
    "df\n",
    "line_fig = px.line(df,x='crm_months', y='count', title='Crime occurrence over the months')\n",
    "line_fig.update_layout(height=400, width=800)\n",
    "line_fig.update_xaxes(title_text='Months') \n",
    "line_fig.update_yaxes(title_text='No. of Crimes') \n",
    "line_fig.show()"
   ]
  },
  {
   "cell_type": "markdown",
   "metadata": {},
   "source": [
    "So the most crimes are occurred in Jan=314 and Feb=130 in 2020"
   ]
  },
  {
   "cell_type": "code",
   "execution_count": 10,
   "metadata": {},
   "outputs": [
    {
     "data": {
      "text/html": [
       "<div>\n",
       "<style scoped>\n",
       "    .dataframe tbody tr th:only-of-type {\n",
       "        vertical-align: middle;\n",
       "    }\n",
       "\n",
       "    .dataframe tbody tr th {\n",
       "        vertical-align: top;\n",
       "    }\n",
       "\n",
       "    .dataframe thead th {\n",
       "        text-align: right;\n",
       "    }\n",
       "</style>\n",
       "<table border=\"1\" class=\"dataframe\">\n",
       "  <thead>\n",
       "    <tr style=\"text-align: right;\">\n",
       "      <th></th>\n",
       "      <th>LAT</th>\n",
       "      <th>LON</th>\n",
       "    </tr>\n",
       "  </thead>\n",
       "  <tbody>\n",
       "    <tr>\n",
       "      <th>0</th>\n",
       "      <td>34.01</td>\n",
       "      <td>-118.30</td>\n",
       "    </tr>\n",
       "    <tr>\n",
       "      <th>1</th>\n",
       "      <td>34.05</td>\n",
       "      <td>-118.25</td>\n",
       "    </tr>\n",
       "    <tr>\n",
       "      <th>2</th>\n",
       "      <td>34.17</td>\n",
       "      <td>-118.40</td>\n",
       "    </tr>\n",
       "    <tr>\n",
       "      <th>3</th>\n",
       "      <td>34.22</td>\n",
       "      <td>-118.45</td>\n",
       "    </tr>\n",
       "    <tr>\n",
       "      <th>4</th>\n",
       "      <td>34.05</td>\n",
       "      <td>-118.26</td>\n",
       "    </tr>\n",
       "    <tr>\n",
       "      <th>...</th>\n",
       "      <td>...</td>\n",
       "      <td>...</td>\n",
       "    </tr>\n",
       "    <tr>\n",
       "      <th>494</th>\n",
       "      <td>34.05</td>\n",
       "      <td>-118.26</td>\n",
       "    </tr>\n",
       "    <tr>\n",
       "      <th>495</th>\n",
       "      <td>34.05</td>\n",
       "      <td>-118.26</td>\n",
       "    </tr>\n",
       "    <tr>\n",
       "      <th>496</th>\n",
       "      <td>34.05</td>\n",
       "      <td>-118.25</td>\n",
       "    </tr>\n",
       "    <tr>\n",
       "      <th>497</th>\n",
       "      <td>34.05</td>\n",
       "      <td>-118.25</td>\n",
       "    </tr>\n",
       "    <tr>\n",
       "      <th>498</th>\n",
       "      <td>34.05</td>\n",
       "      <td>-118.24</td>\n",
       "    </tr>\n",
       "  </tbody>\n",
       "</table>\n",
       "<p>499 rows × 2 columns</p>\n",
       "</div>"
      ],
      "text/plain": [
       "       LAT     LON\n",
       "0    34.01 -118.30\n",
       "1    34.05 -118.25\n",
       "2    34.17 -118.40\n",
       "3    34.22 -118.45\n",
       "4    34.05 -118.26\n",
       "..     ...     ...\n",
       "494  34.05 -118.26\n",
       "495  34.05 -118.26\n",
       "496  34.05 -118.25\n",
       "497  34.05 -118.25\n",
       "498  34.05 -118.24\n",
       "\n",
       "[499 rows x 2 columns]"
      ]
     },
     "execution_count": 10,
     "metadata": {},
     "output_type": "execute_result"
    }
   ],
   "source": [
    "query='select LAT,LON from crime_data'\n",
    "df=pd.read_sql(query,connection)\n",
    "df"
   ]
  },
  {
   "cell_type": "markdown",
   "metadata": {},
   "source": [
    " These are the geographical information (Latitude and Longitude) to perform spatial analysis."
   ]
  },
  {
   "cell_type": "markdown",
   "metadata": {},
   "source": [
    "Lets create a scatter plot for more easy understanding......"
   ]
  },
  {
   "cell_type": "code",
   "execution_count": 11,
   "metadata": {},
   "outputs": [
    {
     "data": {
      "application/vnd.plotly.v1+json": {
       "config": {
        "plotlyServerURL": "https://plot.ly"
       },
       "data": [
        {
         "hovertemplate": "LON=%{x}<br>LAT=%{y}<extra></extra>",
         "legendgroup": "",
         "marker": {
          "color": "#636efa",
          "symbol": "circle"
         },
         "mode": "markers",
         "name": "",
         "orientation": "v",
         "showlegend": false,
         "type": "scatter",
         "x": [
          -118.3,
          -118.25,
          -118.4,
          -118.45,
          -118.26,
          -118.25,
          -118.24,
          -118.26,
          -118.24,
          -118.26,
          -118.26,
          -118.24,
          -118.43,
          -118.37,
          -118.25,
          -118.26,
          -118.25,
          -118.28,
          -118.26,
          -118.25,
          -118.25,
          -118.26,
          -118.24,
          -118.25,
          -118.26,
          -118.27,
          -118.24,
          -118.25,
          -118.25,
          -118.26,
          -118.25,
          -118.25,
          -118.24,
          -118.25,
          -118.26,
          -118.23,
          -118.26,
          -118.24,
          -118.25,
          -118.25,
          -118.25,
          -118.26,
          -118.26,
          -118.25,
          -118.26,
          -118.24,
          -118.45,
          -118.25,
          -118.24,
          -118.24,
          -118.26,
          -118.24,
          -118.24,
          -118.26,
          -118.25,
          -118.24,
          -118.24,
          -118.26,
          -118.26,
          -118.24,
          -118.31,
          -118.26,
          -118.45,
          -118.24,
          -118.25,
          -118.25,
          -118.24,
          -118.27,
          -118.26,
          -118.25,
          -118.24,
          -118.25,
          -118.26,
          -118.26,
          -118.24,
          -118.26,
          -118.24,
          -118.25,
          -118.24,
          -118.23,
          -118.26,
          -118.26,
          -118.26,
          -118.22,
          -118.25,
          -118.3,
          -118.24,
          -118.25,
          -118.26,
          -118.38,
          -118.26,
          -118.24,
          -118.23,
          -118.26,
          -118.25,
          -118.26,
          -118.25,
          -118.25,
          -118.26,
          -118.24,
          -118.25,
          -118.25,
          -118.25,
          -118.23,
          -118.26,
          -118.25,
          -118.25,
          -118.24,
          -118.25,
          -118.26,
          -118.24,
          -118.25,
          -118.25,
          -118.25,
          -118.27,
          -118.24,
          -118.25,
          -118.25,
          -118.24,
          -118.24,
          -118.24,
          -118.21,
          -118.26,
          -118.25,
          -118.26,
          -118.26,
          -118.26,
          -118.25,
          -118.25,
          -118.42,
          -118.24,
          -118.24,
          -118.25,
          -118.24,
          -118.23,
          -118.26,
          -118.24,
          -118.25,
          -118.26,
          -118.25,
          -118.25,
          -118.25,
          -118.26,
          -118.26,
          -118.26,
          -118.19,
          -118.26,
          -118.25,
          -118.26,
          -118.26,
          -118.27,
          -118.24,
          -118.26,
          -118.25,
          -118.25,
          -118.24,
          -118.27,
          -118.25,
          -118.26,
          -118.24,
          -118.25,
          -118.24,
          -118.27,
          -118.26,
          -118.26,
          -118.27,
          -118.26,
          -118.24,
          -118.26,
          -118.24,
          -118.23,
          -118.23,
          -118.23,
          -118.26,
          -118.24,
          -118.25,
          -118.25,
          -118.27,
          -118.27,
          -118.26,
          -118.25,
          -118.26,
          -118.26,
          -118.25,
          -118.24,
          -118.25,
          -118.26,
          -118.26,
          -118.24,
          -118.24,
          -118.25,
          -118.27,
          -118.36,
          -118.24,
          -118.24,
          -118.26,
          -118.27,
          -118.24,
          -118.24,
          -118.26,
          -118.25,
          -118.26,
          -118.24,
          -118.25,
          -118.26,
          -118.23,
          -118.24,
          -118.24,
          -118.26,
          -118.27,
          -118.26,
          -118.24,
          -118.33,
          -118.34,
          -118.3,
          -118.24,
          -118.26,
          -118.26,
          -118.26,
          -118.25,
          -118.26,
          -118.26,
          -118.25,
          -118.37,
          -118.24,
          -118.25,
          -118.24,
          -118.26,
          -118.27,
          -118.23,
          -118.24,
          -118.25,
          -118.24,
          -118.24,
          -118.25,
          -118.26,
          -118.24,
          -118.26,
          -118.25,
          -118.23,
          -118.24,
          -118.27,
          -118.24,
          -118.24,
          -118.26,
          -118.27,
          -118.25,
          -118.26,
          -118.25,
          -118.24,
          -118.27,
          -118.24,
          -118.25,
          -118.24,
          -118.25,
          -118.25,
          -118.24,
          -118.25,
          -118.27,
          -118.23,
          -118.26,
          -118.25,
          -118.26,
          -118.24,
          -118.24,
          -118.26,
          -118.25,
          -118.25,
          -118.23,
          -118.24,
          -118.24,
          -118.26,
          -118.25,
          -118.25,
          -118.24,
          -118.27,
          -118.24,
          -118.25,
          -118.24,
          -118.26,
          -118.25,
          -118.27,
          -118.26,
          -118.24,
          -118.46,
          -118.24,
          -118.24,
          -118.56,
          -118.26,
          -118.25,
          -118.24,
          -118.26,
          -118.25,
          -118.26,
          -118.25,
          -118.25,
          -118.26,
          -118.27,
          -118.26,
          -118.26,
          -118.27,
          -118.26,
          -118.25,
          -118.25,
          -118.26,
          -118.24,
          -118.26,
          -118.27,
          -118.26,
          -118.26,
          -118.28,
          -118.28,
          -118.25,
          -118.27,
          -118.25,
          -118.25,
          -118.24,
          -118.24,
          -118.33,
          -118.25,
          -118.25,
          -118.29,
          -118.23,
          -118.25,
          -118.26,
          -118.26,
          -118.25,
          -118.25,
          -118.29,
          -118.32,
          -118.41,
          -118.32,
          -118.3,
          -118.3,
          -118.47,
          -118.29,
          -118.34,
          -118.22,
          -118.2,
          -118.27,
          -118.24,
          -118.26,
          -118.26,
          -118.31,
          -118.56,
          -118.22,
          -118.33,
          -118.31,
          -118.19,
          -118.27,
          -118.29,
          -118.33,
          -118.31,
          -118.19,
          -118.28,
          -118.31,
          -118.44,
          -118.22,
          -118.35,
          -118.25,
          -118.24,
          -118.2,
          -118.25,
          -118.24,
          -118.29,
          -118.24,
          -118.26,
          -118.25,
          -118.25,
          -118.26,
          -118.24,
          -118.24,
          -118.26,
          -118.24,
          -118.26,
          -118.26,
          -118.26,
          -118.26,
          -118.25,
          -118.26,
          -118.26,
          -118.26,
          -118.26,
          -118.27,
          -118.25,
          -118.26,
          -118.23,
          -118.25,
          -118.26,
          -118.26,
          -118.26,
          -118.25,
          -118.23,
          -118.44,
          -118.28,
          -118.26,
          -118.25,
          -118.23,
          -118.26,
          -118.24,
          -118.31,
          -118.27,
          -118.26,
          -118.25,
          -118.25,
          -118.25,
          -118.25,
          -118.25,
          -118.26,
          -118.25,
          -118.25,
          -118.26,
          -118.26,
          -118.26,
          -118.26,
          -118.24,
          -118.26,
          -118.26,
          -118.25,
          -118.23,
          -118.24,
          -118.26,
          -118.25,
          -118.24,
          -118.25,
          -118.25,
          -118.25,
          -118.24,
          -118.35,
          -118.2,
          -118.25,
          -118.25,
          -118.25,
          -118.26,
          -118.23,
          -118.25,
          -118.26,
          -118.24,
          -118.24,
          -118.26,
          -118.25,
          -118.27,
          -118.23,
          -118.3,
          -118.44,
          -118.25,
          -118.25,
          -118.24,
          -118.24,
          -118.25,
          -118.26,
          -118.25,
          -118.26,
          -118.29,
          -118.26,
          -118.25,
          -118.24,
          -118.3,
          -118.4,
          -118.26,
          -118.25,
          -118.24,
          -118.26,
          -118.23,
          -118.26,
          -118.24,
          -118.26,
          -118.24,
          -118.25,
          -118.24,
          -118.25,
          -118.37,
          -118.24,
          -118.26,
          -118.24,
          -118.24,
          -118.26,
          -118.26,
          -118.26,
          -118.26,
          -118.24,
          -118.26,
          -118.23,
          -118.35,
          -118.3,
          -118.23,
          -118.26,
          -118.23,
          -118.26,
          -118.26,
          -118.24,
          -118.24,
          -118.24,
          -118.25,
          -118.26,
          -118.26,
          -118.25,
          -118.25,
          -118.24
         ],
         "xaxis": "x",
         "y": [
          34.01,
          34.05,
          34.17,
          34.22,
          34.05,
          34.04,
          34.07,
          34.04,
          34.06,
          34.05,
          34.05,
          34.05,
          34.2,
          34.08,
          34.05,
          34.05,
          34.04,
          34.07,
          34.05,
          34.05,
          34.05,
          34.05,
          34.06,
          34.04,
          34.05,
          34.03,
          34.06,
          34.05,
          34.05,
          34.05,
          34.05,
          34.04,
          34.05,
          34.05,
          34.05,
          34.06,
          34.04,
          34.06,
          34.05,
          34.04,
          34.05,
          34.03,
          34.05,
          34.04,
          34.05,
          34.06,
          34.18,
          34.05,
          34.04,
          34.04,
          34.05,
          34.05,
          34.05,
          34.04,
          34.05,
          34.04,
          34.06,
          34.05,
          34.05,
          34.04,
          33.81,
          34.05,
          34.01,
          34.05,
          34.05,
          34.04,
          34.05,
          34.04,
          34.05,
          34.04,
          34.05,
          34.05,
          34.05,
          34.05,
          34.04,
          34.05,
          34.04,
          34.05,
          34.05,
          34.04,
          34.05,
          34.04,
          34.04,
          34.08,
          34.04,
          34.01,
          34.06,
          34.04,
          34.04,
          34.06,
          34.05,
          34.06,
          34.04,
          34.05,
          34.04,
          34.05,
          34.05,
          34.05,
          34.05,
          34.06,
          34.05,
          34.04,
          34.07,
          34.07,
          34.05,
          34.05,
          34.04,
          34.06,
          34.04,
          34.05,
          34.05,
          34.04,
          34.04,
          34.04,
          34.04,
          34.06,
          34.05,
          34.05,
          34.06,
          34.04,
          34.06,
          34.04,
          34.04,
          34.05,
          34.04,
          34.03,
          34.05,
          34.05,
          34.05,
          34.11,
          34.05,
          34.06,
          34.04,
          34.06,
          34.04,
          34.05,
          34.04,
          34.05,
          34.05,
          34.05,
          34.04,
          34.06,
          34.05,
          34.03,
          34.04,
          34.12,
          34.05,
          34.05,
          34.05,
          34.05,
          34.04,
          34.06,
          34.05,
          34.05,
          34.05,
          34.04,
          34.04,
          34.04,
          34.04,
          34.05,
          34.04,
          34.05,
          34.04,
          34.05,
          34.05,
          34.04,
          34.05,
          34.05,
          34.05,
          34.04,
          34.07,
          34.06,
          34.06,
          34.05,
          34.05,
          34.06,
          34.05,
          34.05,
          34.04,
          34.05,
          34.07,
          34.05,
          34.04,
          34.05,
          34.05,
          34.04,
          34.04,
          34.04,
          34.04,
          34.05,
          34.04,
          34.04,
          34.27,
          34.05,
          34.05,
          34.05,
          34.04,
          34.05,
          34.06,
          34.05,
          34.04,
          34.05,
          34.06,
          34.05,
          34.05,
          34.07,
          34.06,
          34.06,
          34.04,
          34.03,
          34.05,
          34.05,
          34.1,
          34.1,
          34.02,
          34.06,
          34.05,
          34.04,
          34.05,
          34.04,
          34.05,
          34.05,
          34.04,
          34.23,
          34.06,
          34.04,
          34.05,
          34.04,
          34.04,
          34.05,
          34.05,
          34.05,
          34.04,
          34.04,
          34.05,
          34.04,
          34.04,
          34.05,
          34.05,
          34.04,
          34.05,
          34.06,
          34.05,
          34.05,
          34.05,
          34.04,
          34.04,
          34.04,
          34.05,
          34.06,
          34.04,
          34.04,
          34.05,
          34.04,
          34.05,
          34.04,
          34.05,
          34.05,
          34.04,
          34.07,
          34.03,
          34.06,
          34.04,
          34.06,
          34.05,
          34.05,
          34.05,
          34.05,
          34.06,
          34.06,
          34.06,
          34.05,
          34.07,
          34.05,
          34.04,
          34.04,
          34.06,
          34.05,
          34.04,
          34.04,
          34.05,
          34.04,
          34.04,
          34.05,
          34.2,
          34.06,
          34.05,
          34.21,
          34.05,
          34.04,
          34.04,
          34.05,
          34.05,
          34.05,
          34.05,
          34.05,
          34.05,
          34.04,
          34.05,
          34.05,
          34.05,
          34.05,
          34.05,
          34.05,
          34.04,
          34.06,
          34.04,
          34.05,
          34.05,
          34.05,
          33.78,
          34.05,
          34.04,
          34.04,
          34.05,
          34.05,
          34.06,
          34.05,
          34.1,
          34.04,
          34.04,
          33.72,
          34.05,
          34.06,
          34.04,
          34.08,
          34.04,
          34.04,
          33.79,
          33.98,
          34.21,
          34.1,
          34.08,
          34.05,
          34.28,
          33.71,
          34.06,
          34.14,
          34.02,
          34.06,
          34.05,
          34.06,
          34.05,
          33.85,
          34.21,
          34.07,
          34.1,
          33.78,
          34.11,
          34.04,
          33.74,
          33.98,
          33.99,
          34.11,
          34.09,
          33.99,
          34.08,
          34.11,
          34.02,
          34.05,
          34.05,
          34.14,
          34.04,
          34.06,
          33.74,
          34.06,
          34.05,
          34.05,
          34.04,
          34.05,
          34.06,
          34.06,
          34.04,
          34.06,
          34.05,
          34.05,
          34.05,
          34.05,
          34.05,
          34.05,
          34.04,
          34.05,
          34.05,
          34.04,
          34.04,
          34.04,
          34.05,
          34.05,
          34.04,
          34.04,
          34.05,
          34.05,
          34.06,
          34.05,
          34.09,
          34.04,
          34.05,
          34.05,
          34.04,
          34.05,
          33.99,
          34.04,
          34.06,
          34.05,
          34.06,
          34.04,
          34.05,
          34.05,
          34.05,
          34.05,
          34.04,
          34.05,
          34.04,
          34.04,
          34.05,
          34.05,
          34.04,
          33.96,
          34.05,
          34.05,
          34.05,
          34.05,
          34.04,
          34.06,
          34.05,
          34.05,
          34.04,
          34.05,
          34.09,
          34.13,
          34.05,
          34.05,
          34.05,
          34.04,
          34.06,
          34.05,
          34.04,
          34.06,
          34.06,
          34.05,
          34.04,
          34.04,
          34.05,
          33.75,
          34.16,
          34.05,
          34.04,
          34.05,
          34.06,
          34.05,
          34.05,
          34.05,
          34.05,
          33.74,
          34.05,
          34.05,
          34.06,
          33.8,
          34.04,
          34.05,
          34.04,
          34.06,
          34.04,
          34.07,
          34.04,
          34.04,
          34.05,
          34.04,
          34.04,
          34.04,
          34.04,
          34.07,
          34.07,
          34.05,
          34.11,
          34.05,
          34.05,
          34.05,
          34.05,
          34.05,
          34.06,
          34.05,
          34.07,
          34.08,
          34.1,
          34.07,
          34.05,
          34.14,
          34.05,
          34.05,
          34.04,
          34.06,
          34.04,
          34.05,
          34.05,
          34.05,
          34.05,
          34.05,
          34.05
         ],
         "yaxis": "y"
        }
       ],
       "layout": {
        "height": 500,
        "legend": {
         "tracegroupgap": 0
        },
        "template": {
         "data": {
          "bar": [
           {
            "error_x": {
             "color": "#2a3f5f"
            },
            "error_y": {
             "color": "#2a3f5f"
            },
            "marker": {
             "line": {
              "color": "#E5ECF6",
              "width": 0.5
             },
             "pattern": {
              "fillmode": "overlay",
              "size": 10,
              "solidity": 0.2
             }
            },
            "type": "bar"
           }
          ],
          "barpolar": [
           {
            "marker": {
             "line": {
              "color": "#E5ECF6",
              "width": 0.5
             },
             "pattern": {
              "fillmode": "overlay",
              "size": 10,
              "solidity": 0.2
             }
            },
            "type": "barpolar"
           }
          ],
          "carpet": [
           {
            "aaxis": {
             "endlinecolor": "#2a3f5f",
             "gridcolor": "white",
             "linecolor": "white",
             "minorgridcolor": "white",
             "startlinecolor": "#2a3f5f"
            },
            "baxis": {
             "endlinecolor": "#2a3f5f",
             "gridcolor": "white",
             "linecolor": "white",
             "minorgridcolor": "white",
             "startlinecolor": "#2a3f5f"
            },
            "type": "carpet"
           }
          ],
          "choropleth": [
           {
            "colorbar": {
             "outlinewidth": 0,
             "ticks": ""
            },
            "type": "choropleth"
           }
          ],
          "contour": [
           {
            "colorbar": {
             "outlinewidth": 0,
             "ticks": ""
            },
            "colorscale": [
             [
              0,
              "#0d0887"
             ],
             [
              0.1111111111111111,
              "#46039f"
             ],
             [
              0.2222222222222222,
              "#7201a8"
             ],
             [
              0.3333333333333333,
              "#9c179e"
             ],
             [
              0.4444444444444444,
              "#bd3786"
             ],
             [
              0.5555555555555556,
              "#d8576b"
             ],
             [
              0.6666666666666666,
              "#ed7953"
             ],
             [
              0.7777777777777778,
              "#fb9f3a"
             ],
             [
              0.8888888888888888,
              "#fdca26"
             ],
             [
              1,
              "#f0f921"
             ]
            ],
            "type": "contour"
           }
          ],
          "contourcarpet": [
           {
            "colorbar": {
             "outlinewidth": 0,
             "ticks": ""
            },
            "type": "contourcarpet"
           }
          ],
          "heatmap": [
           {
            "colorbar": {
             "outlinewidth": 0,
             "ticks": ""
            },
            "colorscale": [
             [
              0,
              "#0d0887"
             ],
             [
              0.1111111111111111,
              "#46039f"
             ],
             [
              0.2222222222222222,
              "#7201a8"
             ],
             [
              0.3333333333333333,
              "#9c179e"
             ],
             [
              0.4444444444444444,
              "#bd3786"
             ],
             [
              0.5555555555555556,
              "#d8576b"
             ],
             [
              0.6666666666666666,
              "#ed7953"
             ],
             [
              0.7777777777777778,
              "#fb9f3a"
             ],
             [
              0.8888888888888888,
              "#fdca26"
             ],
             [
              1,
              "#f0f921"
             ]
            ],
            "type": "heatmap"
           }
          ],
          "heatmapgl": [
           {
            "colorbar": {
             "outlinewidth": 0,
             "ticks": ""
            },
            "colorscale": [
             [
              0,
              "#0d0887"
             ],
             [
              0.1111111111111111,
              "#46039f"
             ],
             [
              0.2222222222222222,
              "#7201a8"
             ],
             [
              0.3333333333333333,
              "#9c179e"
             ],
             [
              0.4444444444444444,
              "#bd3786"
             ],
             [
              0.5555555555555556,
              "#d8576b"
             ],
             [
              0.6666666666666666,
              "#ed7953"
             ],
             [
              0.7777777777777778,
              "#fb9f3a"
             ],
             [
              0.8888888888888888,
              "#fdca26"
             ],
             [
              1,
              "#f0f921"
             ]
            ],
            "type": "heatmapgl"
           }
          ],
          "histogram": [
           {
            "marker": {
             "pattern": {
              "fillmode": "overlay",
              "size": 10,
              "solidity": 0.2
             }
            },
            "type": "histogram"
           }
          ],
          "histogram2d": [
           {
            "colorbar": {
             "outlinewidth": 0,
             "ticks": ""
            },
            "colorscale": [
             [
              0,
              "#0d0887"
             ],
             [
              0.1111111111111111,
              "#46039f"
             ],
             [
              0.2222222222222222,
              "#7201a8"
             ],
             [
              0.3333333333333333,
              "#9c179e"
             ],
             [
              0.4444444444444444,
              "#bd3786"
             ],
             [
              0.5555555555555556,
              "#d8576b"
             ],
             [
              0.6666666666666666,
              "#ed7953"
             ],
             [
              0.7777777777777778,
              "#fb9f3a"
             ],
             [
              0.8888888888888888,
              "#fdca26"
             ],
             [
              1,
              "#f0f921"
             ]
            ],
            "type": "histogram2d"
           }
          ],
          "histogram2dcontour": [
           {
            "colorbar": {
             "outlinewidth": 0,
             "ticks": ""
            },
            "colorscale": [
             [
              0,
              "#0d0887"
             ],
             [
              0.1111111111111111,
              "#46039f"
             ],
             [
              0.2222222222222222,
              "#7201a8"
             ],
             [
              0.3333333333333333,
              "#9c179e"
             ],
             [
              0.4444444444444444,
              "#bd3786"
             ],
             [
              0.5555555555555556,
              "#d8576b"
             ],
             [
              0.6666666666666666,
              "#ed7953"
             ],
             [
              0.7777777777777778,
              "#fb9f3a"
             ],
             [
              0.8888888888888888,
              "#fdca26"
             ],
             [
              1,
              "#f0f921"
             ]
            ],
            "type": "histogram2dcontour"
           }
          ],
          "mesh3d": [
           {
            "colorbar": {
             "outlinewidth": 0,
             "ticks": ""
            },
            "type": "mesh3d"
           }
          ],
          "parcoords": [
           {
            "line": {
             "colorbar": {
              "outlinewidth": 0,
              "ticks": ""
             }
            },
            "type": "parcoords"
           }
          ],
          "pie": [
           {
            "automargin": true,
            "type": "pie"
           }
          ],
          "scatter": [
           {
            "fillpattern": {
             "fillmode": "overlay",
             "size": 10,
             "solidity": 0.2
            },
            "type": "scatter"
           }
          ],
          "scatter3d": [
           {
            "line": {
             "colorbar": {
              "outlinewidth": 0,
              "ticks": ""
             }
            },
            "marker": {
             "colorbar": {
              "outlinewidth": 0,
              "ticks": ""
             }
            },
            "type": "scatter3d"
           }
          ],
          "scattercarpet": [
           {
            "marker": {
             "colorbar": {
              "outlinewidth": 0,
              "ticks": ""
             }
            },
            "type": "scattercarpet"
           }
          ],
          "scattergeo": [
           {
            "marker": {
             "colorbar": {
              "outlinewidth": 0,
              "ticks": ""
             }
            },
            "type": "scattergeo"
           }
          ],
          "scattergl": [
           {
            "marker": {
             "colorbar": {
              "outlinewidth": 0,
              "ticks": ""
             }
            },
            "type": "scattergl"
           }
          ],
          "scattermapbox": [
           {
            "marker": {
             "colorbar": {
              "outlinewidth": 0,
              "ticks": ""
             }
            },
            "type": "scattermapbox"
           }
          ],
          "scatterpolar": [
           {
            "marker": {
             "colorbar": {
              "outlinewidth": 0,
              "ticks": ""
             }
            },
            "type": "scatterpolar"
           }
          ],
          "scatterpolargl": [
           {
            "marker": {
             "colorbar": {
              "outlinewidth": 0,
              "ticks": ""
             }
            },
            "type": "scatterpolargl"
           }
          ],
          "scatterternary": [
           {
            "marker": {
             "colorbar": {
              "outlinewidth": 0,
              "ticks": ""
             }
            },
            "type": "scatterternary"
           }
          ],
          "surface": [
           {
            "colorbar": {
             "outlinewidth": 0,
             "ticks": ""
            },
            "colorscale": [
             [
              0,
              "#0d0887"
             ],
             [
              0.1111111111111111,
              "#46039f"
             ],
             [
              0.2222222222222222,
              "#7201a8"
             ],
             [
              0.3333333333333333,
              "#9c179e"
             ],
             [
              0.4444444444444444,
              "#bd3786"
             ],
             [
              0.5555555555555556,
              "#d8576b"
             ],
             [
              0.6666666666666666,
              "#ed7953"
             ],
             [
              0.7777777777777778,
              "#fb9f3a"
             ],
             [
              0.8888888888888888,
              "#fdca26"
             ],
             [
              1,
              "#f0f921"
             ]
            ],
            "type": "surface"
           }
          ],
          "table": [
           {
            "cells": {
             "fill": {
              "color": "#EBF0F8"
             },
             "line": {
              "color": "white"
             }
            },
            "header": {
             "fill": {
              "color": "#C8D4E3"
             },
             "line": {
              "color": "white"
             }
            },
            "type": "table"
           }
          ]
         },
         "layout": {
          "annotationdefaults": {
           "arrowcolor": "#2a3f5f",
           "arrowhead": 0,
           "arrowwidth": 1
          },
          "autotypenumbers": "strict",
          "coloraxis": {
           "colorbar": {
            "outlinewidth": 0,
            "ticks": ""
           }
          },
          "colorscale": {
           "diverging": [
            [
             0,
             "#8e0152"
            ],
            [
             0.1,
             "#c51b7d"
            ],
            [
             0.2,
             "#de77ae"
            ],
            [
             0.3,
             "#f1b6da"
            ],
            [
             0.4,
             "#fde0ef"
            ],
            [
             0.5,
             "#f7f7f7"
            ],
            [
             0.6,
             "#e6f5d0"
            ],
            [
             0.7,
             "#b8e186"
            ],
            [
             0.8,
             "#7fbc41"
            ],
            [
             0.9,
             "#4d9221"
            ],
            [
             1,
             "#276419"
            ]
           ],
           "sequential": [
            [
             0,
             "#0d0887"
            ],
            [
             0.1111111111111111,
             "#46039f"
            ],
            [
             0.2222222222222222,
             "#7201a8"
            ],
            [
             0.3333333333333333,
             "#9c179e"
            ],
            [
             0.4444444444444444,
             "#bd3786"
            ],
            [
             0.5555555555555556,
             "#d8576b"
            ],
            [
             0.6666666666666666,
             "#ed7953"
            ],
            [
             0.7777777777777778,
             "#fb9f3a"
            ],
            [
             0.8888888888888888,
             "#fdca26"
            ],
            [
             1,
             "#f0f921"
            ]
           ],
           "sequentialminus": [
            [
             0,
             "#0d0887"
            ],
            [
             0.1111111111111111,
             "#46039f"
            ],
            [
             0.2222222222222222,
             "#7201a8"
            ],
            [
             0.3333333333333333,
             "#9c179e"
            ],
            [
             0.4444444444444444,
             "#bd3786"
            ],
            [
             0.5555555555555556,
             "#d8576b"
            ],
            [
             0.6666666666666666,
             "#ed7953"
            ],
            [
             0.7777777777777778,
             "#fb9f3a"
            ],
            [
             0.8888888888888888,
             "#fdca26"
            ],
            [
             1,
             "#f0f921"
            ]
           ]
          },
          "colorway": [
           "#636efa",
           "#EF553B",
           "#00cc96",
           "#ab63fa",
           "#FFA15A",
           "#19d3f3",
           "#FF6692",
           "#B6E880",
           "#FF97FF",
           "#FECB52"
          ],
          "font": {
           "color": "#2a3f5f"
          },
          "geo": {
           "bgcolor": "white",
           "lakecolor": "white",
           "landcolor": "#E5ECF6",
           "showlakes": true,
           "showland": true,
           "subunitcolor": "white"
          },
          "hoverlabel": {
           "align": "left"
          },
          "hovermode": "closest",
          "mapbox": {
           "style": "light"
          },
          "paper_bgcolor": "white",
          "plot_bgcolor": "#E5ECF6",
          "polar": {
           "angularaxis": {
            "gridcolor": "white",
            "linecolor": "white",
            "ticks": ""
           },
           "bgcolor": "#E5ECF6",
           "radialaxis": {
            "gridcolor": "white",
            "linecolor": "white",
            "ticks": ""
           }
          },
          "scene": {
           "xaxis": {
            "backgroundcolor": "#E5ECF6",
            "gridcolor": "white",
            "gridwidth": 2,
            "linecolor": "white",
            "showbackground": true,
            "ticks": "",
            "zerolinecolor": "white"
           },
           "yaxis": {
            "backgroundcolor": "#E5ECF6",
            "gridcolor": "white",
            "gridwidth": 2,
            "linecolor": "white",
            "showbackground": true,
            "ticks": "",
            "zerolinecolor": "white"
           },
           "zaxis": {
            "backgroundcolor": "#E5ECF6",
            "gridcolor": "white",
            "gridwidth": 2,
            "linecolor": "white",
            "showbackground": true,
            "ticks": "",
            "zerolinecolor": "white"
           }
          },
          "shapedefaults": {
           "line": {
            "color": "#2a3f5f"
           }
          },
          "ternary": {
           "aaxis": {
            "gridcolor": "white",
            "linecolor": "white",
            "ticks": ""
           },
           "baxis": {
            "gridcolor": "white",
            "linecolor": "white",
            "ticks": ""
           },
           "bgcolor": "#E5ECF6",
           "caxis": {
            "gridcolor": "white",
            "linecolor": "white",
            "ticks": ""
           }
          },
          "title": {
           "x": 0.05
          },
          "xaxis": {
           "automargin": true,
           "gridcolor": "white",
           "linecolor": "white",
           "ticks": "",
           "title": {
            "standoff": 15
           },
           "zerolinecolor": "white",
           "zerolinewidth": 2
          },
          "yaxis": {
           "automargin": true,
           "gridcolor": "white",
           "linecolor": "white",
           "ticks": "",
           "title": {
            "standoff": 15
           },
           "zerolinecolor": "white",
           "zerolinewidth": 2
          }
         }
        },
        "title": {
         "text": "Crime Occurrence(Spatial)"
        },
        "width": 800,
        "xaxis": {
         "anchor": "y",
         "domain": [
          0,
          1
         ],
         "title": {
          "text": "Longitude"
         }
        },
        "yaxis": {
         "anchor": "x",
         "domain": [
          0,
          1
         ],
         "title": {
          "text": "Latitude"
         }
        }
       }
      }
     },
     "metadata": {},
     "output_type": "display_data"
    }
   ],
   "source": [
    "fig=px.scatter(df,x='LON',y='LAT',title='Crime Occurrence(Spatial)')\n",
    "fig.update_layout(height=500, width=800)\n",
    "fig.update_xaxes(title_text='Longitude')\n",
    "fig.update_yaxes(title_text='Latitude')\n",
    "fig.show()\n",
    "\n"
   ]
  },
  {
   "cell_type": "markdown",
   "metadata": {},
   "source": [
    "So most of the cases occurred in the LON=188.25 and LAT=34.05"
   ]
  },
  {
   "cell_type": "markdown",
   "metadata": {},
   "source": [
    "---If we want to show the crime hotspot in map so we have to install folium..."
   ]
  },
  {
   "cell_type": "code",
   "execution_count": 12,
   "metadata": {},
   "outputs": [
    {
     "name": "stdout",
     "output_type": "stream",
     "text": [
      "Requirement already satisfied: folium in c:\\users\\vaibhav\\appdata\\local\\programs\\python\\python312\\lib\\site-packages (0.16.0)\n",
      "Requirement already satisfied: branca>=0.6.0 in c:\\users\\vaibhav\\appdata\\local\\programs\\python\\python312\\lib\\site-packages (from folium) (0.7.2)\n",
      "Requirement already satisfied: jinja2>=2.9 in c:\\users\\vaibhav\\appdata\\local\\programs\\python\\python312\\lib\\site-packages (from folium) (3.1.4)\n",
      "Requirement already satisfied: numpy in c:\\users\\vaibhav\\appdata\\local\\programs\\python\\python312\\lib\\site-packages (from folium) (1.26.4)\n",
      "Requirement already satisfied: requests in c:\\users\\vaibhav\\appdata\\local\\programs\\python\\python312\\lib\\site-packages (from folium) (2.32.3)\n",
      "Requirement already satisfied: xyzservices in c:\\users\\vaibhav\\appdata\\local\\programs\\python\\python312\\lib\\site-packages (from folium) (2024.6.0)\n",
      "Requirement already satisfied: MarkupSafe>=2.0 in c:\\users\\vaibhav\\appdata\\local\\programs\\python\\python312\\lib\\site-packages (from jinja2>=2.9->folium) (2.1.5)\n",
      "Requirement already satisfied: charset-normalizer<4,>=2 in c:\\users\\vaibhav\\appdata\\local\\programs\\python\\python312\\lib\\site-packages (from requests->folium) (3.3.2)\n",
      "Requirement already satisfied: idna<4,>=2.5 in c:\\users\\vaibhav\\appdata\\local\\programs\\python\\python312\\lib\\site-packages (from requests->folium) (3.7)\n",
      "Requirement already satisfied: urllib3<3,>=1.21.1 in c:\\users\\vaibhav\\appdata\\local\\programs\\python\\python312\\lib\\site-packages (from requests->folium) (2.2.1)\n",
      "Requirement already satisfied: certifi>=2017.4.17 in c:\\users\\vaibhav\\appdata\\local\\programs\\python\\python312\\lib\\site-packages (from requests->folium) (2024.6.2)\n"
     ]
    }
   ],
   "source": [
    "!pip install folium"
   ]
  },
  {
   "cell_type": "code",
   "execution_count": 13,
   "metadata": {},
   "outputs": [
    {
     "data": {
      "text/html": [
       "<div style=\"width:100%;\"><div style=\"position:relative;width:100%;height:0;padding-bottom:60%;\"><span style=\"color:#565656\">Make this Notebook Trusted to load map: File -> Trust Notebook</span><iframe srcdoc=\"&lt;!DOCTYPE html&gt;\n",
       "&lt;html&gt;\n",
       "&lt;head&gt;\n",
       "    \n",
       "    &lt;meta http-equiv=&quot;content-type&quot; content=&quot;text/html; charset=UTF-8&quot; /&gt;\n",
       "    \n",
       "        &lt;script&gt;\n",
       "            L_NO_TOUCH = false;\n",
       "            L_DISABLE_3D = false;\n",
       "        &lt;/script&gt;\n",
       "    \n",
       "    &lt;style&gt;html, body {width: 100%;height: 100%;margin: 0;padding: 0;}&lt;/style&gt;\n",
       "    &lt;style&gt;#map {position:absolute;top:0;bottom:0;right:0;left:0;}&lt;/style&gt;\n",
       "    &lt;script src=&quot;https://cdn.jsdelivr.net/npm/leaflet@1.9.3/dist/leaflet.js&quot;&gt;&lt;/script&gt;\n",
       "    &lt;script src=&quot;https://code.jquery.com/jquery-3.7.1.min.js&quot;&gt;&lt;/script&gt;\n",
       "    &lt;script src=&quot;https://cdn.jsdelivr.net/npm/bootstrap@5.2.2/dist/js/bootstrap.bundle.min.js&quot;&gt;&lt;/script&gt;\n",
       "    &lt;script src=&quot;https://cdnjs.cloudflare.com/ajax/libs/Leaflet.awesome-markers/2.0.2/leaflet.awesome-markers.js&quot;&gt;&lt;/script&gt;\n",
       "    &lt;link rel=&quot;stylesheet&quot; href=&quot;https://cdn.jsdelivr.net/npm/leaflet@1.9.3/dist/leaflet.css&quot;/&gt;\n",
       "    &lt;link rel=&quot;stylesheet&quot; href=&quot;https://cdn.jsdelivr.net/npm/bootstrap@5.2.2/dist/css/bootstrap.min.css&quot;/&gt;\n",
       "    &lt;link rel=&quot;stylesheet&quot; href=&quot;https://netdna.bootstrapcdn.com/bootstrap/3.0.0/css/bootstrap.min.css&quot;/&gt;\n",
       "    &lt;link rel=&quot;stylesheet&quot; href=&quot;https://cdn.jsdelivr.net/npm/@fortawesome/fontawesome-free@6.2.0/css/all.min.css&quot;/&gt;\n",
       "    &lt;link rel=&quot;stylesheet&quot; href=&quot;https://cdnjs.cloudflare.com/ajax/libs/Leaflet.awesome-markers/2.0.2/leaflet.awesome-markers.css&quot;/&gt;\n",
       "    &lt;link rel=&quot;stylesheet&quot; href=&quot;https://cdn.jsdelivr.net/gh/python-visualization/folium/folium/templates/leaflet.awesome.rotate.min.css&quot;/&gt;\n",
       "    \n",
       "            &lt;meta name=&quot;viewport&quot; content=&quot;width=device-width,\n",
       "                initial-scale=1.0, maximum-scale=1.0, user-scalable=no&quot; /&gt;\n",
       "            &lt;style&gt;\n",
       "                #map_ffc830d4db735b4e21de58186666cf54 {\n",
       "                    position: relative;\n",
       "                    width: 100.0%;\n",
       "                    height: 100.0%;\n",
       "                    left: 0.0%;\n",
       "                    top: 0.0%;\n",
       "                }\n",
       "                .leaflet-container { font-size: 1rem; }\n",
       "            &lt;/style&gt;\n",
       "        \n",
       "    &lt;script src=&quot;https://cdn.jsdelivr.net/gh/python-visualization/folium@main/folium/templates/leaflet_heat.min.js&quot;&gt;&lt;/script&gt;\n",
       "&lt;/head&gt;\n",
       "&lt;body&gt;\n",
       "    \n",
       "    \n",
       "            &lt;div class=&quot;folium-map&quot; id=&quot;map_ffc830d4db735b4e21de58186666cf54&quot; &gt;&lt;/div&gt;\n",
       "        \n",
       "&lt;/body&gt;\n",
       "&lt;script&gt;\n",
       "    \n",
       "    \n",
       "            var map_ffc830d4db735b4e21de58186666cf54 = L.map(\n",
       "                &quot;map_ffc830d4db735b4e21de58186666cf54&quot;,\n",
       "                {\n",
       "                    center: [34.04733466933868, -118.26128256513026],\n",
       "                    crs: L.CRS.EPSG3857,\n",
       "                    zoom: 10,\n",
       "                    zoomControl: true,\n",
       "                    preferCanvas: false,\n",
       "                }\n",
       "            );\n",
       "\n",
       "            \n",
       "\n",
       "        \n",
       "    \n",
       "            var tile_layer_631fb6f9c686fce11679ad31b7c01e61 = L.tileLayer(\n",
       "                &quot;https://tile.openstreetmap.org/{z}/{x}/{y}.png&quot;,\n",
       "                {&quot;attribution&quot;: &quot;\\u0026copy; \\u003ca href=\\&quot;https://www.openstreetmap.org/copyright\\&quot;\\u003eOpenStreetMap\\u003c/a\\u003e contributors&quot;, &quot;detectRetina&quot;: false, &quot;maxNativeZoom&quot;: 19, &quot;maxZoom&quot;: 19, &quot;minZoom&quot;: 0, &quot;noWrap&quot;: false, &quot;opacity&quot;: 1, &quot;subdomains&quot;: &quot;abc&quot;, &quot;tms&quot;: false}\n",
       "            );\n",
       "        \n",
       "    \n",
       "            tile_layer_631fb6f9c686fce11679ad31b7c01e61.addTo(map_ffc830d4db735b4e21de58186666cf54);\n",
       "        \n",
       "    \n",
       "            var marker_35accb24f4f3bd0456b9d98d8f4f4864 = L.marker(\n",
       "                [34.01, -118.3],\n",
       "                {}\n",
       "            ).addTo(map_ffc830d4db735b4e21de58186666cf54);\n",
       "        \n",
       "    \n",
       "            var marker_a685140f085c325101cb897feb25f31c = L.marker(\n",
       "                [34.05, -118.25],\n",
       "                {}\n",
       "            ).addTo(map_ffc830d4db735b4e21de58186666cf54);\n",
       "        \n",
       "    \n",
       "            var marker_5143b2a254ee267a25e573df2bdd4ca7 = L.marker(\n",
       "                [34.17, -118.4],\n",
       "                {}\n",
       "            ).addTo(map_ffc830d4db735b4e21de58186666cf54);\n",
       "        \n",
       "    \n",
       "            var marker_b246b20d23ee5451ddcfde7da0c0554d = L.marker(\n",
       "                [34.22, -118.45],\n",
       "                {}\n",
       "            ).addTo(map_ffc830d4db735b4e21de58186666cf54);\n",
       "        \n",
       "    \n",
       "            var marker_e680ef8c4e202f3f5de0f8269e8285d2 = L.marker(\n",
       "                [34.05, -118.26],\n",
       "                {}\n",
       "            ).addTo(map_ffc830d4db735b4e21de58186666cf54);\n",
       "        \n",
       "    \n",
       "            var marker_ad4db6b855cf08662cd690dcc494f187 = L.marker(\n",
       "                [34.04, -118.25],\n",
       "                {}\n",
       "            ).addTo(map_ffc830d4db735b4e21de58186666cf54);\n",
       "        \n",
       "    \n",
       "            var marker_056c49ddb4934d4e39cc56ba676321a8 = L.marker(\n",
       "                [34.07, -118.24],\n",
       "                {}\n",
       "            ).addTo(map_ffc830d4db735b4e21de58186666cf54);\n",
       "        \n",
       "    \n",
       "            var marker_9b6951c43483a47a9eb69374d3460d00 = L.marker(\n",
       "                [34.04, -118.26],\n",
       "                {}\n",
       "            ).addTo(map_ffc830d4db735b4e21de58186666cf54);\n",
       "        \n",
       "    \n",
       "            var marker_607496ab7ea4c5ec7270b37f27cfec17 = L.marker(\n",
       "                [34.06, -118.24],\n",
       "                {}\n",
       "            ).addTo(map_ffc830d4db735b4e21de58186666cf54);\n",
       "        \n",
       "    \n",
       "            var marker_21250f425d689e3e8a400958e364a51f = L.marker(\n",
       "                [34.05, -118.26],\n",
       "                {}\n",
       "            ).addTo(map_ffc830d4db735b4e21de58186666cf54);\n",
       "        \n",
       "    \n",
       "            var marker_485c70c0022b333a0c19109f52822b02 = L.marker(\n",
       "                [34.05, -118.26],\n",
       "                {}\n",
       "            ).addTo(map_ffc830d4db735b4e21de58186666cf54);\n",
       "        \n",
       "    \n",
       "            var marker_aa9102fda3da620ca2245fb753cc569a = L.marker(\n",
       "                [34.05, -118.24],\n",
       "                {}\n",
       "            ).addTo(map_ffc830d4db735b4e21de58186666cf54);\n",
       "        \n",
       "    \n",
       "            var marker_7aad32d209e92c3283398bcd9081ef9f = L.marker(\n",
       "                [34.2, -118.43],\n",
       "                {}\n",
       "            ).addTo(map_ffc830d4db735b4e21de58186666cf54);\n",
       "        \n",
       "    \n",
       "            var marker_373c92df8561c335b42f92afac8fadfb = L.marker(\n",
       "                [34.08, -118.37],\n",
       "                {}\n",
       "            ).addTo(map_ffc830d4db735b4e21de58186666cf54);\n",
       "        \n",
       "    \n",
       "            var marker_857e041e43e1a4eb88ea9ced2f6667b2 = L.marker(\n",
       "                [34.05, -118.25],\n",
       "                {}\n",
       "            ).addTo(map_ffc830d4db735b4e21de58186666cf54);\n",
       "        \n",
       "    \n",
       "            var marker_409a95eb55ecbb335b67863cd71754ea = L.marker(\n",
       "                [34.05, -118.26],\n",
       "                {}\n",
       "            ).addTo(map_ffc830d4db735b4e21de58186666cf54);\n",
       "        \n",
       "    \n",
       "            var marker_faa339787ec47dbdcf08aba69890ee0a = L.marker(\n",
       "                [34.04, -118.25],\n",
       "                {}\n",
       "            ).addTo(map_ffc830d4db735b4e21de58186666cf54);\n",
       "        \n",
       "    \n",
       "            var marker_f224b0ca9223952c5bf457b72953ab36 = L.marker(\n",
       "                [34.07, -118.28],\n",
       "                {}\n",
       "            ).addTo(map_ffc830d4db735b4e21de58186666cf54);\n",
       "        \n",
       "    \n",
       "            var marker_9a213d2ef6e83ffce86f333cadd1500b = L.marker(\n",
       "                [34.05, -118.26],\n",
       "                {}\n",
       "            ).addTo(map_ffc830d4db735b4e21de58186666cf54);\n",
       "        \n",
       "    \n",
       "            var marker_3115d1ac310593ac5518aad20c9ac116 = L.marker(\n",
       "                [34.05, -118.25],\n",
       "                {}\n",
       "            ).addTo(map_ffc830d4db735b4e21de58186666cf54);\n",
       "        \n",
       "    \n",
       "            var marker_f5f319101d0f0cdb69efe84c2cede1e4 = L.marker(\n",
       "                [34.05, -118.25],\n",
       "                {}\n",
       "            ).addTo(map_ffc830d4db735b4e21de58186666cf54);\n",
       "        \n",
       "    \n",
       "            var marker_2823b7130dc4e59a66c0fd62c1f913bf = L.marker(\n",
       "                [34.05, -118.26],\n",
       "                {}\n",
       "            ).addTo(map_ffc830d4db735b4e21de58186666cf54);\n",
       "        \n",
       "    \n",
       "            var marker_99c9428d8cada9fe3679724f6745d752 = L.marker(\n",
       "                [34.06, -118.24],\n",
       "                {}\n",
       "            ).addTo(map_ffc830d4db735b4e21de58186666cf54);\n",
       "        \n",
       "    \n",
       "            var marker_ad00ceb1f22185b6034df638900e2da5 = L.marker(\n",
       "                [34.04, -118.25],\n",
       "                {}\n",
       "            ).addTo(map_ffc830d4db735b4e21de58186666cf54);\n",
       "        \n",
       "    \n",
       "            var marker_fbf2eb4cf39e3ec09ba20597723f2aca = L.marker(\n",
       "                [34.05, -118.26],\n",
       "                {}\n",
       "            ).addTo(map_ffc830d4db735b4e21de58186666cf54);\n",
       "        \n",
       "    \n",
       "            var marker_373f591c41e6f8ea699cd584ab8817b4 = L.marker(\n",
       "                [34.03, -118.27],\n",
       "                {}\n",
       "            ).addTo(map_ffc830d4db735b4e21de58186666cf54);\n",
       "        \n",
       "    \n",
       "            var marker_df21dc46b6c2496d7365d70fdfc10dc8 = L.marker(\n",
       "                [34.06, -118.24],\n",
       "                {}\n",
       "            ).addTo(map_ffc830d4db735b4e21de58186666cf54);\n",
       "        \n",
       "    \n",
       "            var marker_80546878ef4dc80d1fba7adc0596c4e8 = L.marker(\n",
       "                [34.05, -118.25],\n",
       "                {}\n",
       "            ).addTo(map_ffc830d4db735b4e21de58186666cf54);\n",
       "        \n",
       "    \n",
       "            var marker_21f084a964d483965f1adc76106cd135 = L.marker(\n",
       "                [34.05, -118.25],\n",
       "                {}\n",
       "            ).addTo(map_ffc830d4db735b4e21de58186666cf54);\n",
       "        \n",
       "    \n",
       "            var marker_e0e86c50d5a17ebdf345f3380e47bad7 = L.marker(\n",
       "                [34.05, -118.26],\n",
       "                {}\n",
       "            ).addTo(map_ffc830d4db735b4e21de58186666cf54);\n",
       "        \n",
       "    \n",
       "            var marker_337dcfa37e8e7d98c38ca811e41822c6 = L.marker(\n",
       "                [34.05, -118.25],\n",
       "                {}\n",
       "            ).addTo(map_ffc830d4db735b4e21de58186666cf54);\n",
       "        \n",
       "    \n",
       "            var marker_72dcb6f8996162a9c61d2d4d92cf349b = L.marker(\n",
       "                [34.04, -118.25],\n",
       "                {}\n",
       "            ).addTo(map_ffc830d4db735b4e21de58186666cf54);\n",
       "        \n",
       "    \n",
       "            var marker_d145073cc790b69767fd8fbd58979074 = L.marker(\n",
       "                [34.05, -118.24],\n",
       "                {}\n",
       "            ).addTo(map_ffc830d4db735b4e21de58186666cf54);\n",
       "        \n",
       "    \n",
       "            var marker_2d99d848cc32316e409ed66873dbc3a0 = L.marker(\n",
       "                [34.05, -118.25],\n",
       "                {}\n",
       "            ).addTo(map_ffc830d4db735b4e21de58186666cf54);\n",
       "        \n",
       "    \n",
       "            var marker_d956433066a7b648e1fb4546d6ac7c41 = L.marker(\n",
       "                [34.05, -118.26],\n",
       "                {}\n",
       "            ).addTo(map_ffc830d4db735b4e21de58186666cf54);\n",
       "        \n",
       "    \n",
       "            var marker_5911b98d0bb62e454783c0fd46980051 = L.marker(\n",
       "                [34.06, -118.23],\n",
       "                {}\n",
       "            ).addTo(map_ffc830d4db735b4e21de58186666cf54);\n",
       "        \n",
       "    \n",
       "            var marker_91394348237aa8e006a82533444e669a = L.marker(\n",
       "                [34.04, -118.26],\n",
       "                {}\n",
       "            ).addTo(map_ffc830d4db735b4e21de58186666cf54);\n",
       "        \n",
       "    \n",
       "            var marker_6c6c75c7252d0c96268229bbbf5e63e7 = L.marker(\n",
       "                [34.06, -118.24],\n",
       "                {}\n",
       "            ).addTo(map_ffc830d4db735b4e21de58186666cf54);\n",
       "        \n",
       "    \n",
       "            var marker_67c1298b12fd18d8f0667103534c162a = L.marker(\n",
       "                [34.05, -118.25],\n",
       "                {}\n",
       "            ).addTo(map_ffc830d4db735b4e21de58186666cf54);\n",
       "        \n",
       "    \n",
       "            var marker_0a24bfdfa65652a825b5b8b914b1886e = L.marker(\n",
       "                [34.04, -118.25],\n",
       "                {}\n",
       "            ).addTo(map_ffc830d4db735b4e21de58186666cf54);\n",
       "        \n",
       "    \n",
       "            var marker_2f4ad194920efa803a4f37345804afc7 = L.marker(\n",
       "                [34.05, -118.25],\n",
       "                {}\n",
       "            ).addTo(map_ffc830d4db735b4e21de58186666cf54);\n",
       "        \n",
       "    \n",
       "            var marker_943d0af75223ba90bc4f7202559af7ea = L.marker(\n",
       "                [34.03, -118.26],\n",
       "                {}\n",
       "            ).addTo(map_ffc830d4db735b4e21de58186666cf54);\n",
       "        \n",
       "    \n",
       "            var marker_6f0663828056d10b3124176a6e9d0181 = L.marker(\n",
       "                [34.05, -118.26],\n",
       "                {}\n",
       "            ).addTo(map_ffc830d4db735b4e21de58186666cf54);\n",
       "        \n",
       "    \n",
       "            var marker_ee679e23609e3fbaee1980c6455ecd2f = L.marker(\n",
       "                [34.04, -118.25],\n",
       "                {}\n",
       "            ).addTo(map_ffc830d4db735b4e21de58186666cf54);\n",
       "        \n",
       "    \n",
       "            var marker_6172e2cebfde0b4c37d33a2d2f9dcbd2 = L.marker(\n",
       "                [34.05, -118.26],\n",
       "                {}\n",
       "            ).addTo(map_ffc830d4db735b4e21de58186666cf54);\n",
       "        \n",
       "    \n",
       "            var marker_bc878526726e52390ecf95e8408c3961 = L.marker(\n",
       "                [34.06, -118.24],\n",
       "                {}\n",
       "            ).addTo(map_ffc830d4db735b4e21de58186666cf54);\n",
       "        \n",
       "    \n",
       "            var marker_539fb2048506b870e812f0f6153a1d1c = L.marker(\n",
       "                [34.18, -118.45],\n",
       "                {}\n",
       "            ).addTo(map_ffc830d4db735b4e21de58186666cf54);\n",
       "        \n",
       "    \n",
       "            var marker_dcc544d7b52ca0809fa90c6d823901c4 = L.marker(\n",
       "                [34.05, -118.25],\n",
       "                {}\n",
       "            ).addTo(map_ffc830d4db735b4e21de58186666cf54);\n",
       "        \n",
       "    \n",
       "            var marker_b82699585889632c56e428f3854e84cb = L.marker(\n",
       "                [34.04, -118.24],\n",
       "                {}\n",
       "            ).addTo(map_ffc830d4db735b4e21de58186666cf54);\n",
       "        \n",
       "    \n",
       "            var marker_18e32d9a380b9802a7da340be082d8bf = L.marker(\n",
       "                [34.04, -118.24],\n",
       "                {}\n",
       "            ).addTo(map_ffc830d4db735b4e21de58186666cf54);\n",
       "        \n",
       "    \n",
       "            var marker_f52f2b37972efeceee944fa7df77cb4d = L.marker(\n",
       "                [34.05, -118.26],\n",
       "                {}\n",
       "            ).addTo(map_ffc830d4db735b4e21de58186666cf54);\n",
       "        \n",
       "    \n",
       "            var marker_dd16f6ec4c91ae25818200efab169b00 = L.marker(\n",
       "                [34.05, -118.24],\n",
       "                {}\n",
       "            ).addTo(map_ffc830d4db735b4e21de58186666cf54);\n",
       "        \n",
       "    \n",
       "            var marker_f767513dcfc66ea18ac683892ff21298 = L.marker(\n",
       "                [34.05, -118.24],\n",
       "                {}\n",
       "            ).addTo(map_ffc830d4db735b4e21de58186666cf54);\n",
       "        \n",
       "    \n",
       "            var marker_ece25917ec01e9659eafb59cc4288db3 = L.marker(\n",
       "                [34.04, -118.26],\n",
       "                {}\n",
       "            ).addTo(map_ffc830d4db735b4e21de58186666cf54);\n",
       "        \n",
       "    \n",
       "            var marker_9f78bbf5368fbaa4ecc1dcc4f58c8704 = L.marker(\n",
       "                [34.05, -118.25],\n",
       "                {}\n",
       "            ).addTo(map_ffc830d4db735b4e21de58186666cf54);\n",
       "        \n",
       "    \n",
       "            var marker_80b0701db373df5b0d8dc5d7fd46431a = L.marker(\n",
       "                [34.04, -118.24],\n",
       "                {}\n",
       "            ).addTo(map_ffc830d4db735b4e21de58186666cf54);\n",
       "        \n",
       "    \n",
       "            var marker_3e4927801a2bc3760f9153763ecb75b4 = L.marker(\n",
       "                [34.06, -118.24],\n",
       "                {}\n",
       "            ).addTo(map_ffc830d4db735b4e21de58186666cf54);\n",
       "        \n",
       "    \n",
       "            var marker_5813de76891c75a68f16cde22f021e05 = L.marker(\n",
       "                [34.05, -118.26],\n",
       "                {}\n",
       "            ).addTo(map_ffc830d4db735b4e21de58186666cf54);\n",
       "        \n",
       "    \n",
       "            var marker_aa51147836101a9849c953f1ce7d432c = L.marker(\n",
       "                [34.05, -118.26],\n",
       "                {}\n",
       "            ).addTo(map_ffc830d4db735b4e21de58186666cf54);\n",
       "        \n",
       "    \n",
       "            var marker_bd1a7d0b0f46c843c83db73495c49d2b = L.marker(\n",
       "                [34.04, -118.24],\n",
       "                {}\n",
       "            ).addTo(map_ffc830d4db735b4e21de58186666cf54);\n",
       "        \n",
       "    \n",
       "            var marker_76f93ad1d0d09d5aaef067a23909ba9e = L.marker(\n",
       "                [33.81, -118.31],\n",
       "                {}\n",
       "            ).addTo(map_ffc830d4db735b4e21de58186666cf54);\n",
       "        \n",
       "    \n",
       "            var marker_cbd5933f785f28892a77ea3d380ffbdb = L.marker(\n",
       "                [34.05, -118.26],\n",
       "                {}\n",
       "            ).addTo(map_ffc830d4db735b4e21de58186666cf54);\n",
       "        \n",
       "    \n",
       "            var marker_f1db4652e79cdddb785848f4944e9085 = L.marker(\n",
       "                [34.01, -118.45],\n",
       "                {}\n",
       "            ).addTo(map_ffc830d4db735b4e21de58186666cf54);\n",
       "        \n",
       "    \n",
       "            var marker_4efdd621da3f3334fe9a4de41919e973 = L.marker(\n",
       "                [34.05, -118.24],\n",
       "                {}\n",
       "            ).addTo(map_ffc830d4db735b4e21de58186666cf54);\n",
       "        \n",
       "    \n",
       "            var marker_d6982a76d3467ea249b04c9cbccc2a4d = L.marker(\n",
       "                [34.05, -118.25],\n",
       "                {}\n",
       "            ).addTo(map_ffc830d4db735b4e21de58186666cf54);\n",
       "        \n",
       "    \n",
       "            var marker_65e7f6761d9d20c5735129c5c1e3cc03 = L.marker(\n",
       "                [34.04, -118.25],\n",
       "                {}\n",
       "            ).addTo(map_ffc830d4db735b4e21de58186666cf54);\n",
       "        \n",
       "    \n",
       "            var marker_2655b9312b470bd7aa1136ba5e5de70c = L.marker(\n",
       "                [34.05, -118.24],\n",
       "                {}\n",
       "            ).addTo(map_ffc830d4db735b4e21de58186666cf54);\n",
       "        \n",
       "    \n",
       "            var marker_464aadf4d9046b26dfa7492cf0fc3c32 = L.marker(\n",
       "                [34.04, -118.27],\n",
       "                {}\n",
       "            ).addTo(map_ffc830d4db735b4e21de58186666cf54);\n",
       "        \n",
       "    \n",
       "            var marker_80b7830c2f7aad0e6a9cfd867fc92ddd = L.marker(\n",
       "                [34.05, -118.26],\n",
       "                {}\n",
       "            ).addTo(map_ffc830d4db735b4e21de58186666cf54);\n",
       "        \n",
       "    \n",
       "            var marker_5557b2c7dd0f34b4d5f258118f1c79bd = L.marker(\n",
       "                [34.04, -118.25],\n",
       "                {}\n",
       "            ).addTo(map_ffc830d4db735b4e21de58186666cf54);\n",
       "        \n",
       "    \n",
       "            var marker_9ff9a888b589265be4521ad83a5f759e = L.marker(\n",
       "                [34.05, -118.24],\n",
       "                {}\n",
       "            ).addTo(map_ffc830d4db735b4e21de58186666cf54);\n",
       "        \n",
       "    \n",
       "            var marker_3677281a7404c4cb127741aa9dbb459e = L.marker(\n",
       "                [34.05, -118.25],\n",
       "                {}\n",
       "            ).addTo(map_ffc830d4db735b4e21de58186666cf54);\n",
       "        \n",
       "    \n",
       "            var marker_6462bd29bac75ad65970fda3870b689e = L.marker(\n",
       "                [34.05, -118.26],\n",
       "                {}\n",
       "            ).addTo(map_ffc830d4db735b4e21de58186666cf54);\n",
       "        \n",
       "    \n",
       "            var marker_c42f7e9fa4ea6a0cd611dc165e64e65c = L.marker(\n",
       "                [34.05, -118.26],\n",
       "                {}\n",
       "            ).addTo(map_ffc830d4db735b4e21de58186666cf54);\n",
       "        \n",
       "    \n",
       "            var marker_098ce03b8c52b69b7d640f5690d89e89 = L.marker(\n",
       "                [34.04, -118.24],\n",
       "                {}\n",
       "            ).addTo(map_ffc830d4db735b4e21de58186666cf54);\n",
       "        \n",
       "    \n",
       "            var marker_0fa3e8cce9e7e64cf4a57b0680fe96ab = L.marker(\n",
       "                [34.05, -118.26],\n",
       "                {}\n",
       "            ).addTo(map_ffc830d4db735b4e21de58186666cf54);\n",
       "        \n",
       "    \n",
       "            var marker_619fefb06c7378d9039de11be88fdb15 = L.marker(\n",
       "                [34.04, -118.24],\n",
       "                {}\n",
       "            ).addTo(map_ffc830d4db735b4e21de58186666cf54);\n",
       "        \n",
       "    \n",
       "            var marker_f59303f1a59eaaa661e728c32fdf9676 = L.marker(\n",
       "                [34.05, -118.25],\n",
       "                {}\n",
       "            ).addTo(map_ffc830d4db735b4e21de58186666cf54);\n",
       "        \n",
       "    \n",
       "            var marker_a01ea97443417df8ffd3794714ae1076 = L.marker(\n",
       "                [34.05, -118.24],\n",
       "                {}\n",
       "            ).addTo(map_ffc830d4db735b4e21de58186666cf54);\n",
       "        \n",
       "    \n",
       "            var marker_b258c78c8c6e62798a57f39423714c87 = L.marker(\n",
       "                [34.04, -118.23],\n",
       "                {}\n",
       "            ).addTo(map_ffc830d4db735b4e21de58186666cf54);\n",
       "        \n",
       "    \n",
       "            var marker_009e77f1b84dc8ef9315c77db96bbbfc = L.marker(\n",
       "                [34.05, -118.26],\n",
       "                {}\n",
       "            ).addTo(map_ffc830d4db735b4e21de58186666cf54);\n",
       "        \n",
       "    \n",
       "            var marker_17f79639f8dac05526e5cf2719963bf2 = L.marker(\n",
       "                [34.04, -118.26],\n",
       "                {}\n",
       "            ).addTo(map_ffc830d4db735b4e21de58186666cf54);\n",
       "        \n",
       "    \n",
       "            var marker_687c20f6d607df83951ca5096c1ae300 = L.marker(\n",
       "                [34.04, -118.26],\n",
       "                {}\n",
       "            ).addTo(map_ffc830d4db735b4e21de58186666cf54);\n",
       "        \n",
       "    \n",
       "            var marker_516691c130136af9d2d1253f82082448 = L.marker(\n",
       "                [34.08, -118.22],\n",
       "                {}\n",
       "            ).addTo(map_ffc830d4db735b4e21de58186666cf54);\n",
       "        \n",
       "    \n",
       "            var marker_f67309c6c45c6f26a7e34a6a849f6474 = L.marker(\n",
       "                [34.04, -118.25],\n",
       "                {}\n",
       "            ).addTo(map_ffc830d4db735b4e21de58186666cf54);\n",
       "        \n",
       "    \n",
       "            var marker_8501b2b433b0490c0d2730ede61f01c5 = L.marker(\n",
       "                [34.01, -118.3],\n",
       "                {}\n",
       "            ).addTo(map_ffc830d4db735b4e21de58186666cf54);\n",
       "        \n",
       "    \n",
       "            var marker_e448eaa31ff2325348f41c7beafb723d = L.marker(\n",
       "                [34.06, -118.24],\n",
       "                {}\n",
       "            ).addTo(map_ffc830d4db735b4e21de58186666cf54);\n",
       "        \n",
       "    \n",
       "            var marker_1a8f22b7e0be6d0771bb541f03877af4 = L.marker(\n",
       "                [34.04, -118.25],\n",
       "                {}\n",
       "            ).addTo(map_ffc830d4db735b4e21de58186666cf54);\n",
       "        \n",
       "    \n",
       "            var marker_ba69e55dbfb6e592390f493f160e4c45 = L.marker(\n",
       "                [34.04, -118.26],\n",
       "                {}\n",
       "            ).addTo(map_ffc830d4db735b4e21de58186666cf54);\n",
       "        \n",
       "    \n",
       "            var marker_14e06b017b5a9644ed04a3725baeed43 = L.marker(\n",
       "                [34.06, -118.38],\n",
       "                {}\n",
       "            ).addTo(map_ffc830d4db735b4e21de58186666cf54);\n",
       "        \n",
       "    \n",
       "            var marker_39854aaa01d15fec88ab4c94ba659ffa = L.marker(\n",
       "                [34.05, -118.26],\n",
       "                {}\n",
       "            ).addTo(map_ffc830d4db735b4e21de58186666cf54);\n",
       "        \n",
       "    \n",
       "            var marker_42c9fb810843f07a9fb20a5e089139a9 = L.marker(\n",
       "                [34.06, -118.24],\n",
       "                {}\n",
       "            ).addTo(map_ffc830d4db735b4e21de58186666cf54);\n",
       "        \n",
       "    \n",
       "            var marker_8a7a21916d00df28d72f536271b8513f = L.marker(\n",
       "                [34.04, -118.23],\n",
       "                {}\n",
       "            ).addTo(map_ffc830d4db735b4e21de58186666cf54);\n",
       "        \n",
       "    \n",
       "            var marker_e6177d4781f9575031cc904b2aed1cf5 = L.marker(\n",
       "                [34.05, -118.26],\n",
       "                {}\n",
       "            ).addTo(map_ffc830d4db735b4e21de58186666cf54);\n",
       "        \n",
       "    \n",
       "            var marker_3e5db030fd3be08d41be0f40f1a07399 = L.marker(\n",
       "                [34.04, -118.25],\n",
       "                {}\n",
       "            ).addTo(map_ffc830d4db735b4e21de58186666cf54);\n",
       "        \n",
       "    \n",
       "            var marker_213f467b2afda50601364f7ea46904f9 = L.marker(\n",
       "                [34.05, -118.26],\n",
       "                {}\n",
       "            ).addTo(map_ffc830d4db735b4e21de58186666cf54);\n",
       "        \n",
       "    \n",
       "            var marker_bea9d3afcb3ceeedcb41e180761a8d12 = L.marker(\n",
       "                [34.05, -118.25],\n",
       "                {}\n",
       "            ).addTo(map_ffc830d4db735b4e21de58186666cf54);\n",
       "        \n",
       "    \n",
       "            var marker_69e4b973d86dc300e5db68a529c10517 = L.marker(\n",
       "                [34.05, -118.25],\n",
       "                {}\n",
       "            ).addTo(map_ffc830d4db735b4e21de58186666cf54);\n",
       "        \n",
       "    \n",
       "            var marker_ecd6e0cb8b8ba3760c7c82aa1c2afadf = L.marker(\n",
       "                [34.05, -118.26],\n",
       "                {}\n",
       "            ).addTo(map_ffc830d4db735b4e21de58186666cf54);\n",
       "        \n",
       "    \n",
       "            var marker_050d27d67a60992527428d1b4d624e05 = L.marker(\n",
       "                [34.06, -118.24],\n",
       "                {}\n",
       "            ).addTo(map_ffc830d4db735b4e21de58186666cf54);\n",
       "        \n",
       "    \n",
       "            var marker_83ff1a9163410d0239b8bda6e2dae3e6 = L.marker(\n",
       "                [34.05, -118.25],\n",
       "                {}\n",
       "            ).addTo(map_ffc830d4db735b4e21de58186666cf54);\n",
       "        \n",
       "    \n",
       "            var marker_c7d4e374ff5b18adf4091644127a1409 = L.marker(\n",
       "                [34.04, -118.25],\n",
       "                {}\n",
       "            ).addTo(map_ffc830d4db735b4e21de58186666cf54);\n",
       "        \n",
       "    \n",
       "            var marker_51ca026508bf5a0822f6fa9b60dbda30 = L.marker(\n",
       "                [34.07, -118.25],\n",
       "                {}\n",
       "            ).addTo(map_ffc830d4db735b4e21de58186666cf54);\n",
       "        \n",
       "    \n",
       "            var marker_25bd4503ce8333db924ee27c11be33fb = L.marker(\n",
       "                [34.07, -118.23],\n",
       "                {}\n",
       "            ).addTo(map_ffc830d4db735b4e21de58186666cf54);\n",
       "        \n",
       "    \n",
       "            var marker_2c0204ab06cee0e4657417d11f978ccd = L.marker(\n",
       "                [34.05, -118.26],\n",
       "                {}\n",
       "            ).addTo(map_ffc830d4db735b4e21de58186666cf54);\n",
       "        \n",
       "    \n",
       "            var marker_a63edfa917ce646ac0f3c828e058ebbd = L.marker(\n",
       "                [34.05, -118.25],\n",
       "                {}\n",
       "            ).addTo(map_ffc830d4db735b4e21de58186666cf54);\n",
       "        \n",
       "    \n",
       "            var marker_cfbe14adc478128ddef789aca253d7a7 = L.marker(\n",
       "                [34.04, -118.25],\n",
       "                {}\n",
       "            ).addTo(map_ffc830d4db735b4e21de58186666cf54);\n",
       "        \n",
       "    \n",
       "            var marker_9c76bcdb05bff8a707dacf7ef3fe57e5 = L.marker(\n",
       "                [34.06, -118.24],\n",
       "                {}\n",
       "            ).addTo(map_ffc830d4db735b4e21de58186666cf54);\n",
       "        \n",
       "    \n",
       "            var marker_8202cc75abee450819c867f77093e312 = L.marker(\n",
       "                [34.04, -118.25],\n",
       "                {}\n",
       "            ).addTo(map_ffc830d4db735b4e21de58186666cf54);\n",
       "        \n",
       "    \n",
       "            var marker_e4ef56f7eb1937388b035a94674acf0f = L.marker(\n",
       "                [34.05, -118.26],\n",
       "                {}\n",
       "            ).addTo(map_ffc830d4db735b4e21de58186666cf54);\n",
       "        \n",
       "    \n",
       "            var marker_f78f88c917bd5e9f58ccd2197515755b = L.marker(\n",
       "                [34.05, -118.24],\n",
       "                {}\n",
       "            ).addTo(map_ffc830d4db735b4e21de58186666cf54);\n",
       "        \n",
       "    \n",
       "            var marker_2107584aee23fcd7fd43eaca20e95ad2 = L.marker(\n",
       "                [34.04, -118.25],\n",
       "                {}\n",
       "            ).addTo(map_ffc830d4db735b4e21de58186666cf54);\n",
       "        \n",
       "    \n",
       "            var marker_76907c1320d7cb26d9bf17687ecfdfdc = L.marker(\n",
       "                [34.04, -118.25],\n",
       "                {}\n",
       "            ).addTo(map_ffc830d4db735b4e21de58186666cf54);\n",
       "        \n",
       "    \n",
       "            var marker_061d49b24f350e87974e0676727011b7 = L.marker(\n",
       "                [34.04, -118.25],\n",
       "                {}\n",
       "            ).addTo(map_ffc830d4db735b4e21de58186666cf54);\n",
       "        \n",
       "    \n",
       "            var marker_8d00d13ba1efb2143776ffe25fc0b6ab = L.marker(\n",
       "                [34.04, -118.27],\n",
       "                {}\n",
       "            ).addTo(map_ffc830d4db735b4e21de58186666cf54);\n",
       "        \n",
       "    \n",
       "            var marker_bd703fa67ca8a4b179843cd28da361cf = L.marker(\n",
       "                [34.06, -118.24],\n",
       "                {}\n",
       "            ).addTo(map_ffc830d4db735b4e21de58186666cf54);\n",
       "        \n",
       "    \n",
       "            var marker_3295d4d8ea094bdd7d392c178b15dc69 = L.marker(\n",
       "                [34.05, -118.25],\n",
       "                {}\n",
       "            ).addTo(map_ffc830d4db735b4e21de58186666cf54);\n",
       "        \n",
       "    \n",
       "            var marker_823e0c45f1bddad36ac4054aee0a083f = L.marker(\n",
       "                [34.05, -118.25],\n",
       "                {}\n",
       "            ).addTo(map_ffc830d4db735b4e21de58186666cf54);\n",
       "        \n",
       "    \n",
       "            var marker_477f3e2b154e1b9871f5c904fab1ab8c = L.marker(\n",
       "                [34.06, -118.24],\n",
       "                {}\n",
       "            ).addTo(map_ffc830d4db735b4e21de58186666cf54);\n",
       "        \n",
       "    \n",
       "            var marker_2a9e15afacdd7aa5a0ae44a31c6ed5ba = L.marker(\n",
       "                [34.04, -118.24],\n",
       "                {}\n",
       "            ).addTo(map_ffc830d4db735b4e21de58186666cf54);\n",
       "        \n",
       "    \n",
       "            var marker_761d074e03ff2ae0de05fcd67750ff72 = L.marker(\n",
       "                [34.06, -118.24],\n",
       "                {}\n",
       "            ).addTo(map_ffc830d4db735b4e21de58186666cf54);\n",
       "        \n",
       "    \n",
       "            var marker_fe5bc251cecd42206343c96cd50948d6 = L.marker(\n",
       "                [34.04, -118.21],\n",
       "                {}\n",
       "            ).addTo(map_ffc830d4db735b4e21de58186666cf54);\n",
       "        \n",
       "    \n",
       "            var marker_a85219413f5e3ff94988b1741815b7ac = L.marker(\n",
       "                [34.04, -118.26],\n",
       "                {}\n",
       "            ).addTo(map_ffc830d4db735b4e21de58186666cf54);\n",
       "        \n",
       "    \n",
       "            var marker_ca8213c3d26c418096e3e33173e958b3 = L.marker(\n",
       "                [34.05, -118.25],\n",
       "                {}\n",
       "            ).addTo(map_ffc830d4db735b4e21de58186666cf54);\n",
       "        \n",
       "    \n",
       "            var marker_eb564aa75a5d191b43755e2f8185e9aa = L.marker(\n",
       "                [34.04, -118.26],\n",
       "                {}\n",
       "            ).addTo(map_ffc830d4db735b4e21de58186666cf54);\n",
       "        \n",
       "    \n",
       "            var marker_88298b2702d2157b06436c39506b93f7 = L.marker(\n",
       "                [34.03, -118.26],\n",
       "                {}\n",
       "            ).addTo(map_ffc830d4db735b4e21de58186666cf54);\n",
       "        \n",
       "    \n",
       "            var marker_a85eae1939d0a3eacb1dfe2f26eea5e9 = L.marker(\n",
       "                [34.05, -118.26],\n",
       "                {}\n",
       "            ).addTo(map_ffc830d4db735b4e21de58186666cf54);\n",
       "        \n",
       "    \n",
       "            var marker_8f019c8eef34cc02e2f1374938d2612d = L.marker(\n",
       "                [34.05, -118.25],\n",
       "                {}\n",
       "            ).addTo(map_ffc830d4db735b4e21de58186666cf54);\n",
       "        \n",
       "    \n",
       "            var marker_449c92ca849615908cc6846ffc15b1bc = L.marker(\n",
       "                [34.05, -118.25],\n",
       "                {}\n",
       "            ).addTo(map_ffc830d4db735b4e21de58186666cf54);\n",
       "        \n",
       "    \n",
       "            var marker_e3c7e560fa2ddfd6ba14346de4ef59f3 = L.marker(\n",
       "                [34.11, -118.42],\n",
       "                {}\n",
       "            ).addTo(map_ffc830d4db735b4e21de58186666cf54);\n",
       "        \n",
       "    \n",
       "            var marker_fdc09a4b5e9c1d2335758a5c0bd70dc8 = L.marker(\n",
       "                [34.05, -118.24],\n",
       "                {}\n",
       "            ).addTo(map_ffc830d4db735b4e21de58186666cf54);\n",
       "        \n",
       "    \n",
       "            var marker_f5370f81c1b4bebe55bfcc6a4fa10945 = L.marker(\n",
       "                [34.06, -118.24],\n",
       "                {}\n",
       "            ).addTo(map_ffc830d4db735b4e21de58186666cf54);\n",
       "        \n",
       "    \n",
       "            var marker_d0122da973eaf2c13250d77852d7b3de = L.marker(\n",
       "                [34.04, -118.25],\n",
       "                {}\n",
       "            ).addTo(map_ffc830d4db735b4e21de58186666cf54);\n",
       "        \n",
       "    \n",
       "            var marker_896a83024b02bf40b796695ff03a993b = L.marker(\n",
       "                [34.06, -118.24],\n",
       "                {}\n",
       "            ).addTo(map_ffc830d4db735b4e21de58186666cf54);\n",
       "        \n",
       "    \n",
       "            var marker_6f7e4b0f2414d2dea11efacc07779f76 = L.marker(\n",
       "                [34.04, -118.23],\n",
       "                {}\n",
       "            ).addTo(map_ffc830d4db735b4e21de58186666cf54);\n",
       "        \n",
       "    \n",
       "            var marker_e83c763da57b47a64b2a1e2a15765353 = L.marker(\n",
       "                [34.05, -118.26],\n",
       "                {}\n",
       "            ).addTo(map_ffc830d4db735b4e21de58186666cf54);\n",
       "        \n",
       "    \n",
       "            var marker_936f989cce3a3d4e50856edb5981466b = L.marker(\n",
       "                [34.04, -118.24],\n",
       "                {}\n",
       "            ).addTo(map_ffc830d4db735b4e21de58186666cf54);\n",
       "        \n",
       "    \n",
       "            var marker_308444a683bcd18929fe25b0fe5ab978 = L.marker(\n",
       "                [34.05, -118.25],\n",
       "                {}\n",
       "            ).addTo(map_ffc830d4db735b4e21de58186666cf54);\n",
       "        \n",
       "    \n",
       "            var marker_c1d7910845b3b7f0f788456c26b87d21 = L.marker(\n",
       "                [34.05, -118.26],\n",
       "                {}\n",
       "            ).addTo(map_ffc830d4db735b4e21de58186666cf54);\n",
       "        \n",
       "    \n",
       "            var marker_47d616b5439f5c4520a1adc55abc844e = L.marker(\n",
       "                [34.05, -118.25],\n",
       "                {}\n",
       "            ).addTo(map_ffc830d4db735b4e21de58186666cf54);\n",
       "        \n",
       "    \n",
       "            var marker_76d08c8e37b21eea30db9d7d9ed90b48 = L.marker(\n",
       "                [34.04, -118.25],\n",
       "                {}\n",
       "            ).addTo(map_ffc830d4db735b4e21de58186666cf54);\n",
       "        \n",
       "    \n",
       "            var marker_7d3edf7c0c595183a62f8dd0c57697b2 = L.marker(\n",
       "                [34.06, -118.25],\n",
       "                {}\n",
       "            ).addTo(map_ffc830d4db735b4e21de58186666cf54);\n",
       "        \n",
       "    \n",
       "            var marker_8c2c76856fe4cd267bf9fc206bf213ac = L.marker(\n",
       "                [34.05, -118.26],\n",
       "                {}\n",
       "            ).addTo(map_ffc830d4db735b4e21de58186666cf54);\n",
       "        \n",
       "    \n",
       "            var marker_3d956614e78a645bdb40943343f2499b = L.marker(\n",
       "                [34.03, -118.26],\n",
       "                {}\n",
       "            ).addTo(map_ffc830d4db735b4e21de58186666cf54);\n",
       "        \n",
       "    \n",
       "            var marker_367e2e643db913d4f405d12fd533d790 = L.marker(\n",
       "                [34.04, -118.26],\n",
       "                {}\n",
       "            ).addTo(map_ffc830d4db735b4e21de58186666cf54);\n",
       "        \n",
       "    \n",
       "            var marker_db9f5f0951cb4b91ffc47ca4c638564c = L.marker(\n",
       "                [34.12, -118.19],\n",
       "                {}\n",
       "            ).addTo(map_ffc830d4db735b4e21de58186666cf54);\n",
       "        \n",
       "    \n",
       "            var marker_f61426323afaf81af8fe16a74bba973c = L.marker(\n",
       "                [34.05, -118.26],\n",
       "                {}\n",
       "            ).addTo(map_ffc830d4db735b4e21de58186666cf54);\n",
       "        \n",
       "    \n",
       "            var marker_f2fa47c89e8f0f179ab269ab495afbee = L.marker(\n",
       "                [34.05, -118.25],\n",
       "                {}\n",
       "            ).addTo(map_ffc830d4db735b4e21de58186666cf54);\n",
       "        \n",
       "    \n",
       "            var marker_00992611dc37ac8a400709c932e2ac85 = L.marker(\n",
       "                [34.05, -118.26],\n",
       "                {}\n",
       "            ).addTo(map_ffc830d4db735b4e21de58186666cf54);\n",
       "        \n",
       "    \n",
       "            var marker_7a406fac69f408d111634a83959bd775 = L.marker(\n",
       "                [34.05, -118.26],\n",
       "                {}\n",
       "            ).addTo(map_ffc830d4db735b4e21de58186666cf54);\n",
       "        \n",
       "    \n",
       "            var marker_0115e93e67c48f60b724656f5544260e = L.marker(\n",
       "                [34.04, -118.27],\n",
       "                {}\n",
       "            ).addTo(map_ffc830d4db735b4e21de58186666cf54);\n",
       "        \n",
       "    \n",
       "            var marker_93fd98326a1ddaca15d1cf2cf7df13fc = L.marker(\n",
       "                [34.06, -118.24],\n",
       "                {}\n",
       "            ).addTo(map_ffc830d4db735b4e21de58186666cf54);\n",
       "        \n",
       "    \n",
       "            var marker_77409c62ec1ee4974f90b6eb8ddcd35d = L.marker(\n",
       "                [34.05, -118.26],\n",
       "                {}\n",
       "            ).addTo(map_ffc830d4db735b4e21de58186666cf54);\n",
       "        \n",
       "    \n",
       "            var marker_fa68c76816adbb1242cd75cca9175cc1 = L.marker(\n",
       "                [34.05, -118.25],\n",
       "                {}\n",
       "            ).addTo(map_ffc830d4db735b4e21de58186666cf54);\n",
       "        \n",
       "    \n",
       "            var marker_7bdc99858ccc84201554ebd5c8a4aba2 = L.marker(\n",
       "                [34.05, -118.25],\n",
       "                {}\n",
       "            ).addTo(map_ffc830d4db735b4e21de58186666cf54);\n",
       "        \n",
       "    \n",
       "            var marker_f934347c7fe799a5191fe4b7b359d279 = L.marker(\n",
       "                [34.04, -118.24],\n",
       "                {}\n",
       "            ).addTo(map_ffc830d4db735b4e21de58186666cf54);\n",
       "        \n",
       "    \n",
       "            var marker_f2d1765f097d82a3bd9ce01794f95ed2 = L.marker(\n",
       "                [34.04, -118.27],\n",
       "                {}\n",
       "            ).addTo(map_ffc830d4db735b4e21de58186666cf54);\n",
       "        \n",
       "    \n",
       "            var marker_99af9f7f881d16684922a05a4d22d1bc = L.marker(\n",
       "                [34.04, -118.25],\n",
       "                {}\n",
       "            ).addTo(map_ffc830d4db735b4e21de58186666cf54);\n",
       "        \n",
       "    \n",
       "            var marker_e85472218eabb2bbc1eb59383472821d = L.marker(\n",
       "                [34.04, -118.26],\n",
       "                {}\n",
       "            ).addTo(map_ffc830d4db735b4e21de58186666cf54);\n",
       "        \n",
       "    \n",
       "            var marker_0b760eea6e8e0eea921ebbdd6fde4d27 = L.marker(\n",
       "                [34.05, -118.24],\n",
       "                {}\n",
       "            ).addTo(map_ffc830d4db735b4e21de58186666cf54);\n",
       "        \n",
       "    \n",
       "            var marker_b1f2e76cea9ec2baee745a7f52b11ae4 = L.marker(\n",
       "                [34.04, -118.25],\n",
       "                {}\n",
       "            ).addTo(map_ffc830d4db735b4e21de58186666cf54);\n",
       "        \n",
       "    \n",
       "            var marker_3a7402aa457ed9849aecf650c3ff11bb = L.marker(\n",
       "                [34.05, -118.24],\n",
       "                {}\n",
       "            ).addTo(map_ffc830d4db735b4e21de58186666cf54);\n",
       "        \n",
       "    \n",
       "            var marker_048137c598d0f2874383420bd8d938d0 = L.marker(\n",
       "                [34.04, -118.27],\n",
       "                {}\n",
       "            ).addTo(map_ffc830d4db735b4e21de58186666cf54);\n",
       "        \n",
       "    \n",
       "            var marker_b51a6f5ba36c4fc9115ad80f9c5c25d0 = L.marker(\n",
       "                [34.05, -118.26],\n",
       "                {}\n",
       "            ).addTo(map_ffc830d4db735b4e21de58186666cf54);\n",
       "        \n",
       "    \n",
       "            var marker_b3991670d6d379c0e9e6a4fd31bc2efc = L.marker(\n",
       "                [34.05, -118.26],\n",
       "                {}\n",
       "            ).addTo(map_ffc830d4db735b4e21de58186666cf54);\n",
       "        \n",
       "    \n",
       "            var marker_f9a8c65e9833d7eab6c82b92aac592b0 = L.marker(\n",
       "                [34.04, -118.27],\n",
       "                {}\n",
       "            ).addTo(map_ffc830d4db735b4e21de58186666cf54);\n",
       "        \n",
       "    \n",
       "            var marker_26a36c741a1f31cb8c8c986924e24029 = L.marker(\n",
       "                [34.05, -118.26],\n",
       "                {}\n",
       "            ).addTo(map_ffc830d4db735b4e21de58186666cf54);\n",
       "        \n",
       "    \n",
       "            var marker_efa193851871ed2329dbfeb6f15164c3 = L.marker(\n",
       "                [34.05, -118.24],\n",
       "                {}\n",
       "            ).addTo(map_ffc830d4db735b4e21de58186666cf54);\n",
       "        \n",
       "    \n",
       "            var marker_3ed73a098c3e9ef227d9ed909cc6744d = L.marker(\n",
       "                [34.05, -118.26],\n",
       "                {}\n",
       "            ).addTo(map_ffc830d4db735b4e21de58186666cf54);\n",
       "        \n",
       "    \n",
       "            var marker_f7925c963ceeff36d359aa4445d11844 = L.marker(\n",
       "                [34.04, -118.24],\n",
       "                {}\n",
       "            ).addTo(map_ffc830d4db735b4e21de58186666cf54);\n",
       "        \n",
       "    \n",
       "            var marker_b0fb947f6521bca4bc691b591714752f = L.marker(\n",
       "                [34.07, -118.23],\n",
       "                {}\n",
       "            ).addTo(map_ffc830d4db735b4e21de58186666cf54);\n",
       "        \n",
       "    \n",
       "            var marker_8b2d3e2743267e88b6f34b4d73a66f16 = L.marker(\n",
       "                [34.06, -118.23],\n",
       "                {}\n",
       "            ).addTo(map_ffc830d4db735b4e21de58186666cf54);\n",
       "        \n",
       "    \n",
       "            var marker_ae72d08cb180812f6c959f2d2ec2d247 = L.marker(\n",
       "                [34.06, -118.23],\n",
       "                {}\n",
       "            ).addTo(map_ffc830d4db735b4e21de58186666cf54);\n",
       "        \n",
       "    \n",
       "            var marker_8d7dc2dc9349eb7b22abf69f94963a00 = L.marker(\n",
       "                [34.05, -118.26],\n",
       "                {}\n",
       "            ).addTo(map_ffc830d4db735b4e21de58186666cf54);\n",
       "        \n",
       "    \n",
       "            var marker_29c264768c3b481c22f9d3cc38c737be = L.marker(\n",
       "                [34.05, -118.24],\n",
       "                {}\n",
       "            ).addTo(map_ffc830d4db735b4e21de58186666cf54);\n",
       "        \n",
       "    \n",
       "            var marker_2a4f318c287bbcf981a8de8436c6fbbe = L.marker(\n",
       "                [34.06, -118.25],\n",
       "                {}\n",
       "            ).addTo(map_ffc830d4db735b4e21de58186666cf54);\n",
       "        \n",
       "    \n",
       "            var marker_38c752da866156cd65717db2f6bffe12 = L.marker(\n",
       "                [34.05, -118.25],\n",
       "                {}\n",
       "            ).addTo(map_ffc830d4db735b4e21de58186666cf54);\n",
       "        \n",
       "    \n",
       "            var marker_a5123037cb1d3d8043a10614922b74d8 = L.marker(\n",
       "                [34.05, -118.27],\n",
       "                {}\n",
       "            ).addTo(map_ffc830d4db735b4e21de58186666cf54);\n",
       "        \n",
       "    \n",
       "            var marker_a91486392220ee2bd447375da8afa1d3 = L.marker(\n",
       "                [34.04, -118.27],\n",
       "                {}\n",
       "            ).addTo(map_ffc830d4db735b4e21de58186666cf54);\n",
       "        \n",
       "    \n",
       "            var marker_f944f130fadcd637a2fa0b4722ec6e4c = L.marker(\n",
       "                [34.05, -118.26],\n",
       "                {}\n",
       "            ).addTo(map_ffc830d4db735b4e21de58186666cf54);\n",
       "        \n",
       "    \n",
       "            var marker_240776c967037bc6a7a24da4ccdb8f30 = L.marker(\n",
       "                [34.07, -118.25],\n",
       "                {}\n",
       "            ).addTo(map_ffc830d4db735b4e21de58186666cf54);\n",
       "        \n",
       "    \n",
       "            var marker_5de3d5d8be11917bf1abdea21a8c9333 = L.marker(\n",
       "                [34.05, -118.26],\n",
       "                {}\n",
       "            ).addTo(map_ffc830d4db735b4e21de58186666cf54);\n",
       "        \n",
       "    \n",
       "            var marker_c78fd15e8fb4e4ec5bcb4ed487b6c675 = L.marker(\n",
       "                [34.04, -118.26],\n",
       "                {}\n",
       "            ).addTo(map_ffc830d4db735b4e21de58186666cf54);\n",
       "        \n",
       "    \n",
       "            var marker_b3060394a3baab802930fe39de626c94 = L.marker(\n",
       "                [34.05, -118.25],\n",
       "                {}\n",
       "            ).addTo(map_ffc830d4db735b4e21de58186666cf54);\n",
       "        \n",
       "    \n",
       "            var marker_38cd2259c7cc470f8b714bdd872b43d3 = L.marker(\n",
       "                [34.05, -118.24],\n",
       "                {}\n",
       "            ).addTo(map_ffc830d4db735b4e21de58186666cf54);\n",
       "        \n",
       "    \n",
       "            var marker_d2155010aa45eff6853b60c5c9b40479 = L.marker(\n",
       "                [34.04, -118.25],\n",
       "                {}\n",
       "            ).addTo(map_ffc830d4db735b4e21de58186666cf54);\n",
       "        \n",
       "    \n",
       "            var marker_311cb16b3ea67b13ccd12697fe0bffa8 = L.marker(\n",
       "                [34.04, -118.26],\n",
       "                {}\n",
       "            ).addTo(map_ffc830d4db735b4e21de58186666cf54);\n",
       "        \n",
       "    \n",
       "            var marker_2394e44b7ff0bbd0259ded2e7dcd8d64 = L.marker(\n",
       "                [34.04, -118.26],\n",
       "                {}\n",
       "            ).addTo(map_ffc830d4db735b4e21de58186666cf54);\n",
       "        \n",
       "    \n",
       "            var marker_66314947daefb8c05c5b111ff0c22f25 = L.marker(\n",
       "                [34.04, -118.24],\n",
       "                {}\n",
       "            ).addTo(map_ffc830d4db735b4e21de58186666cf54);\n",
       "        \n",
       "    \n",
       "            var marker_94b372548d82851098faa2e8166cbcce = L.marker(\n",
       "                [34.05, -118.24],\n",
       "                {}\n",
       "            ).addTo(map_ffc830d4db735b4e21de58186666cf54);\n",
       "        \n",
       "    \n",
       "            var marker_620143892c8b87f491d7c5c5457d748f = L.marker(\n",
       "                [34.04, -118.25],\n",
       "                {}\n",
       "            ).addTo(map_ffc830d4db735b4e21de58186666cf54);\n",
       "        \n",
       "    \n",
       "            var marker_76046fe6875a09740abcc3611756e80f = L.marker(\n",
       "                [34.04, -118.27],\n",
       "                {}\n",
       "            ).addTo(map_ffc830d4db735b4e21de58186666cf54);\n",
       "        \n",
       "    \n",
       "            var marker_d34d0cc40a5b0125eeea955748241e33 = L.marker(\n",
       "                [34.27, -118.36],\n",
       "                {}\n",
       "            ).addTo(map_ffc830d4db735b4e21de58186666cf54);\n",
       "        \n",
       "    \n",
       "            var marker_d4bc1acf7afdc94e298459fa11de40e4 = L.marker(\n",
       "                [34.05, -118.24],\n",
       "                {}\n",
       "            ).addTo(map_ffc830d4db735b4e21de58186666cf54);\n",
       "        \n",
       "    \n",
       "            var marker_9808dbe2a59d7d8a2b1af73122478f2b = L.marker(\n",
       "                [34.05, -118.24],\n",
       "                {}\n",
       "            ).addTo(map_ffc830d4db735b4e21de58186666cf54);\n",
       "        \n",
       "    \n",
       "            var marker_0044d74339a3dbc924f8ae848b7eb4b4 = L.marker(\n",
       "                [34.05, -118.26],\n",
       "                {}\n",
       "            ).addTo(map_ffc830d4db735b4e21de58186666cf54);\n",
       "        \n",
       "    \n",
       "            var marker_f76483fca66711bd772bbd92e3dcad6c = L.marker(\n",
       "                [34.04, -118.27],\n",
       "                {}\n",
       "            ).addTo(map_ffc830d4db735b4e21de58186666cf54);\n",
       "        \n",
       "    \n",
       "            var marker_8028f58f8e363f703ffb606d59b8bd61 = L.marker(\n",
       "                [34.05, -118.24],\n",
       "                {}\n",
       "            ).addTo(map_ffc830d4db735b4e21de58186666cf54);\n",
       "        \n",
       "    \n",
       "            var marker_ac21cdb078849a63216968bfde4a61ec = L.marker(\n",
       "                [34.06, -118.24],\n",
       "                {}\n",
       "            ).addTo(map_ffc830d4db735b4e21de58186666cf54);\n",
       "        \n",
       "    \n",
       "            var marker_b50d68b16f2ea49215894519e5fabcf4 = L.marker(\n",
       "                [34.05, -118.26],\n",
       "                {}\n",
       "            ).addTo(map_ffc830d4db735b4e21de58186666cf54);\n",
       "        \n",
       "    \n",
       "            var marker_f34931ff7591b63186f3def6577d9986 = L.marker(\n",
       "                [34.04, -118.25],\n",
       "                {}\n",
       "            ).addTo(map_ffc830d4db735b4e21de58186666cf54);\n",
       "        \n",
       "    \n",
       "            var marker_84ba35553d4499ede5ad3ffb882a76a5 = L.marker(\n",
       "                [34.05, -118.26],\n",
       "                {}\n",
       "            ).addTo(map_ffc830d4db735b4e21de58186666cf54);\n",
       "        \n",
       "    \n",
       "            var marker_a69bef22b3efadd0fa7b647540572bde = L.marker(\n",
       "                [34.06, -118.24],\n",
       "                {}\n",
       "            ).addTo(map_ffc830d4db735b4e21de58186666cf54);\n",
       "        \n",
       "    \n",
       "            var marker_2f79d6d7b7cf2cc38b4dd3a6c9f890ce = L.marker(\n",
       "                [34.05, -118.25],\n",
       "                {}\n",
       "            ).addTo(map_ffc830d4db735b4e21de58186666cf54);\n",
       "        \n",
       "    \n",
       "            var marker_3b669eaf1e4cb7760ea234107fd7c8ba = L.marker(\n",
       "                [34.05, -118.26],\n",
       "                {}\n",
       "            ).addTo(map_ffc830d4db735b4e21de58186666cf54);\n",
       "        \n",
       "    \n",
       "            var marker_2781ecb995016e8509e5f957c20c308c = L.marker(\n",
       "                [34.07, -118.23],\n",
       "                {}\n",
       "            ).addTo(map_ffc830d4db735b4e21de58186666cf54);\n",
       "        \n",
       "    \n",
       "            var marker_06d7c221fe4838948cca9f5bb7733251 = L.marker(\n",
       "                [34.06, -118.24],\n",
       "                {}\n",
       "            ).addTo(map_ffc830d4db735b4e21de58186666cf54);\n",
       "        \n",
       "    \n",
       "            var marker_f4ff6a4f16108cf77c5894a5994690d7 = L.marker(\n",
       "                [34.06, -118.24],\n",
       "                {}\n",
       "            ).addTo(map_ffc830d4db735b4e21de58186666cf54);\n",
       "        \n",
       "    \n",
       "            var marker_9d8db1950195929d8011aa3c5f145541 = L.marker(\n",
       "                [34.04, -118.26],\n",
       "                {}\n",
       "            ).addTo(map_ffc830d4db735b4e21de58186666cf54);\n",
       "        \n",
       "    \n",
       "            var marker_587254d625055d521f88cbda2545924e = L.marker(\n",
       "                [34.03, -118.27],\n",
       "                {}\n",
       "            ).addTo(map_ffc830d4db735b4e21de58186666cf54);\n",
       "        \n",
       "    \n",
       "            var marker_382eb13ffb4a6dc0a1381e401589858c = L.marker(\n",
       "                [34.05, -118.26],\n",
       "                {}\n",
       "            ).addTo(map_ffc830d4db735b4e21de58186666cf54);\n",
       "        \n",
       "    \n",
       "            var marker_af864e6e52cf87849f2adb8f68208a1f = L.marker(\n",
       "                [34.05, -118.24],\n",
       "                {}\n",
       "            ).addTo(map_ffc830d4db735b4e21de58186666cf54);\n",
       "        \n",
       "    \n",
       "            var marker_981c533981fc59f91ca9495f596d2ad1 = L.marker(\n",
       "                [34.1, -118.33],\n",
       "                {}\n",
       "            ).addTo(map_ffc830d4db735b4e21de58186666cf54);\n",
       "        \n",
       "    \n",
       "            var marker_a44478c9668aeee784b9cc9d5d45023e = L.marker(\n",
       "                [34.1, -118.34],\n",
       "                {}\n",
       "            ).addTo(map_ffc830d4db735b4e21de58186666cf54);\n",
       "        \n",
       "    \n",
       "            var marker_8cba09f84e3fd380fbc97965408720ca = L.marker(\n",
       "                [34.02, -118.3],\n",
       "                {}\n",
       "            ).addTo(map_ffc830d4db735b4e21de58186666cf54);\n",
       "        \n",
       "    \n",
       "            var marker_3955168b90a6997983ef292eab51b879 = L.marker(\n",
       "                [34.06, -118.24],\n",
       "                {}\n",
       "            ).addTo(map_ffc830d4db735b4e21de58186666cf54);\n",
       "        \n",
       "    \n",
       "            var marker_1adf4eb524f9288c7b83a16b255536c0 = L.marker(\n",
       "                [34.05, -118.26],\n",
       "                {}\n",
       "            ).addTo(map_ffc830d4db735b4e21de58186666cf54);\n",
       "        \n",
       "    \n",
       "            var marker_ee627531704a46c0cb7c74b9578e3b4b = L.marker(\n",
       "                [34.04, -118.26],\n",
       "                {}\n",
       "            ).addTo(map_ffc830d4db735b4e21de58186666cf54);\n",
       "        \n",
       "    \n",
       "            var marker_e09cdd01d5d8f28e60694cd16048de52 = L.marker(\n",
       "                [34.05, -118.26],\n",
       "                {}\n",
       "            ).addTo(map_ffc830d4db735b4e21de58186666cf54);\n",
       "        \n",
       "    \n",
       "            var marker_7140284f77b546928c2a8ac14fe30499 = L.marker(\n",
       "                [34.04, -118.25],\n",
       "                {}\n",
       "            ).addTo(map_ffc830d4db735b4e21de58186666cf54);\n",
       "        \n",
       "    \n",
       "            var marker_134926d54582b86ed7cad7d1ed9ebbcf = L.marker(\n",
       "                [34.05, -118.26],\n",
       "                {}\n",
       "            ).addTo(map_ffc830d4db735b4e21de58186666cf54);\n",
       "        \n",
       "    \n",
       "            var marker_0e226337f165fb94d4e63ab010f949f8 = L.marker(\n",
       "                [34.05, -118.26],\n",
       "                {}\n",
       "            ).addTo(map_ffc830d4db735b4e21de58186666cf54);\n",
       "        \n",
       "    \n",
       "            var marker_88f7c63a55625e10c262c9fe29c19a71 = L.marker(\n",
       "                [34.04, -118.25],\n",
       "                {}\n",
       "            ).addTo(map_ffc830d4db735b4e21de58186666cf54);\n",
       "        \n",
       "    \n",
       "            var marker_dba33ece9df8ebf2df77ffaa2ba5ac89 = L.marker(\n",
       "                [34.23, -118.37],\n",
       "                {}\n",
       "            ).addTo(map_ffc830d4db735b4e21de58186666cf54);\n",
       "        \n",
       "    \n",
       "            var marker_1b4aa2df1682f98c1be2f3a34fdc8cf0 = L.marker(\n",
       "                [34.06, -118.24],\n",
       "                {}\n",
       "            ).addTo(map_ffc830d4db735b4e21de58186666cf54);\n",
       "        \n",
       "    \n",
       "            var marker_a55ca6bc52ce707d8144d0d810445dd6 = L.marker(\n",
       "                [34.04, -118.25],\n",
       "                {}\n",
       "            ).addTo(map_ffc830d4db735b4e21de58186666cf54);\n",
       "        \n",
       "    \n",
       "            var marker_2ceff5eb10bc8dca344acc5305fc0d01 = L.marker(\n",
       "                [34.05, -118.24],\n",
       "                {}\n",
       "            ).addTo(map_ffc830d4db735b4e21de58186666cf54);\n",
       "        \n",
       "    \n",
       "            var marker_c1bd71b8851ddf089fd7338fdba7a752 = L.marker(\n",
       "                [34.04, -118.26],\n",
       "                {}\n",
       "            ).addTo(map_ffc830d4db735b4e21de58186666cf54);\n",
       "        \n",
       "    \n",
       "            var marker_3ad317f4313ad9ee1929feda9d68eb83 = L.marker(\n",
       "                [34.04, -118.27],\n",
       "                {}\n",
       "            ).addTo(map_ffc830d4db735b4e21de58186666cf54);\n",
       "        \n",
       "    \n",
       "            var marker_4cba2653f2bc664f871c1b93ee41fcf1 = L.marker(\n",
       "                [34.05, -118.23],\n",
       "                {}\n",
       "            ).addTo(map_ffc830d4db735b4e21de58186666cf54);\n",
       "        \n",
       "    \n",
       "            var marker_ee44b47a2f835315b895b5e594721e3b = L.marker(\n",
       "                [34.05, -118.24],\n",
       "                {}\n",
       "            ).addTo(map_ffc830d4db735b4e21de58186666cf54);\n",
       "        \n",
       "    \n",
       "            var marker_e0633f6dc58edef05c4907eeb8061df4 = L.marker(\n",
       "                [34.05, -118.25],\n",
       "                {}\n",
       "            ).addTo(map_ffc830d4db735b4e21de58186666cf54);\n",
       "        \n",
       "    \n",
       "            var marker_04495acc1f820621f8499e8937355dd3 = L.marker(\n",
       "                [34.04, -118.24],\n",
       "                {}\n",
       "            ).addTo(map_ffc830d4db735b4e21de58186666cf54);\n",
       "        \n",
       "    \n",
       "            var marker_89b915a673f65ccc7abb959ceba0e939 = L.marker(\n",
       "                [34.04, -118.24],\n",
       "                {}\n",
       "            ).addTo(map_ffc830d4db735b4e21de58186666cf54);\n",
       "        \n",
       "    \n",
       "            var marker_a932f80e274a11553e87533c05832d2c = L.marker(\n",
       "                [34.05, -118.25],\n",
       "                {}\n",
       "            ).addTo(map_ffc830d4db735b4e21de58186666cf54);\n",
       "        \n",
       "    \n",
       "            var marker_4d4d4828d485d06c16867102506a3531 = L.marker(\n",
       "                [34.04, -118.26],\n",
       "                {}\n",
       "            ).addTo(map_ffc830d4db735b4e21de58186666cf54);\n",
       "        \n",
       "    \n",
       "            var marker_52cd107a7a070f962bda0aaf69a26176 = L.marker(\n",
       "                [34.04, -118.24],\n",
       "                {}\n",
       "            ).addTo(map_ffc830d4db735b4e21de58186666cf54);\n",
       "        \n",
       "    \n",
       "            var marker_967a62782dd6c5742fa863628936d58e = L.marker(\n",
       "                [34.05, -118.26],\n",
       "                {}\n",
       "            ).addTo(map_ffc830d4db735b4e21de58186666cf54);\n",
       "        \n",
       "    \n",
       "            var marker_7d5a5587b62a6486059d3eca8b44be45 = L.marker(\n",
       "                [34.05, -118.25],\n",
       "                {}\n",
       "            ).addTo(map_ffc830d4db735b4e21de58186666cf54);\n",
       "        \n",
       "    \n",
       "            var marker_1a5d8e7b026e66faa7eefd8ecc4e5d08 = L.marker(\n",
       "                [34.04, -118.23],\n",
       "                {}\n",
       "            ).addTo(map_ffc830d4db735b4e21de58186666cf54);\n",
       "        \n",
       "    \n",
       "            var marker_2d04dd11e64702e66998cd60b8a788e2 = L.marker(\n",
       "                [34.05, -118.24],\n",
       "                {}\n",
       "            ).addTo(map_ffc830d4db735b4e21de58186666cf54);\n",
       "        \n",
       "    \n",
       "            var marker_48c8098074362dcfa1d4d1d0a2021b97 = L.marker(\n",
       "                [34.06, -118.27],\n",
       "                {}\n",
       "            ).addTo(map_ffc830d4db735b4e21de58186666cf54);\n",
       "        \n",
       "    \n",
       "            var marker_35f07e69134c3007b48a4ac373489f4a = L.marker(\n",
       "                [34.05, -118.24],\n",
       "                {}\n",
       "            ).addTo(map_ffc830d4db735b4e21de58186666cf54);\n",
       "        \n",
       "    \n",
       "            var marker_8811f0f56e17c0123a096de2b198d07d = L.marker(\n",
       "                [34.05, -118.24],\n",
       "                {}\n",
       "            ).addTo(map_ffc830d4db735b4e21de58186666cf54);\n",
       "        \n",
       "    \n",
       "            var marker_80a4af8ee3f176eadfa7d62bad1e0559 = L.marker(\n",
       "                [34.05, -118.26],\n",
       "                {}\n",
       "            ).addTo(map_ffc830d4db735b4e21de58186666cf54);\n",
       "        \n",
       "    \n",
       "            var marker_605fa77726e08d3c6f40bd9f2d92b940 = L.marker(\n",
       "                [34.04, -118.27],\n",
       "                {}\n",
       "            ).addTo(map_ffc830d4db735b4e21de58186666cf54);\n",
       "        \n",
       "    \n",
       "            var marker_0e642330c1b866d092b8aaa20ff4d8e8 = L.marker(\n",
       "                [34.04, -118.25],\n",
       "                {}\n",
       "            ).addTo(map_ffc830d4db735b4e21de58186666cf54);\n",
       "        \n",
       "    \n",
       "            var marker_d5dae49f90b93313cc9e7bbcaf602736 = L.marker(\n",
       "                [34.04, -118.26],\n",
       "                {}\n",
       "            ).addTo(map_ffc830d4db735b4e21de58186666cf54);\n",
       "        \n",
       "    \n",
       "            var marker_9597fd65a131cfacbfb60f559d829a3e = L.marker(\n",
       "                [34.05, -118.25],\n",
       "                {}\n",
       "            ).addTo(map_ffc830d4db735b4e21de58186666cf54);\n",
       "        \n",
       "    \n",
       "            var marker_c0d9e0836c476ed133b51e107a9983dd = L.marker(\n",
       "                [34.06, -118.24],\n",
       "                {}\n",
       "            ).addTo(map_ffc830d4db735b4e21de58186666cf54);\n",
       "        \n",
       "    \n",
       "            var marker_15026d39e1b65238480f1cfa8cef1b48 = L.marker(\n",
       "                [34.04, -118.27],\n",
       "                {}\n",
       "            ).addTo(map_ffc830d4db735b4e21de58186666cf54);\n",
       "        \n",
       "    \n",
       "            var marker_32dcb7586b74f4caba12ac562c7bd4e5 = L.marker(\n",
       "                [34.04, -118.24],\n",
       "                {}\n",
       "            ).addTo(map_ffc830d4db735b4e21de58186666cf54);\n",
       "        \n",
       "    \n",
       "            var marker_386d9af645384106e8d21dcd462e19c6 = L.marker(\n",
       "                [34.05, -118.25],\n",
       "                {}\n",
       "            ).addTo(map_ffc830d4db735b4e21de58186666cf54);\n",
       "        \n",
       "    \n",
       "            var marker_56add1bdf168761fcaa831162df032f4 = L.marker(\n",
       "                [34.04, -118.24],\n",
       "                {}\n",
       "            ).addTo(map_ffc830d4db735b4e21de58186666cf54);\n",
       "        \n",
       "    \n",
       "            var marker_8c8e457936091098efa0837fe1a2a7c5 = L.marker(\n",
       "                [34.05, -118.25],\n",
       "                {}\n",
       "            ).addTo(map_ffc830d4db735b4e21de58186666cf54);\n",
       "        \n",
       "    \n",
       "            var marker_ac053802e37ca822d4ebb06bedfd016a = L.marker(\n",
       "                [34.04, -118.25],\n",
       "                {}\n",
       "            ).addTo(map_ffc830d4db735b4e21de58186666cf54);\n",
       "        \n",
       "    \n",
       "            var marker_9f2fb107156fe4052f6451c47abeec15 = L.marker(\n",
       "                [34.05, -118.24],\n",
       "                {}\n",
       "            ).addTo(map_ffc830d4db735b4e21de58186666cf54);\n",
       "        \n",
       "    \n",
       "            var marker_78c7522a4041c30261eaf2202df62831 = L.marker(\n",
       "                [34.05, -118.25],\n",
       "                {}\n",
       "            ).addTo(map_ffc830d4db735b4e21de58186666cf54);\n",
       "        \n",
       "    \n",
       "            var marker_c6309a56efef044d8f3added950477de = L.marker(\n",
       "                [34.04, -118.27],\n",
       "                {}\n",
       "            ).addTo(map_ffc830d4db735b4e21de58186666cf54);\n",
       "        \n",
       "    \n",
       "            var marker_b3bf9d0c470eb8afd3b550f9654ba964 = L.marker(\n",
       "                [34.07, -118.23],\n",
       "                {}\n",
       "            ).addTo(map_ffc830d4db735b4e21de58186666cf54);\n",
       "        \n",
       "    \n",
       "            var marker_1b80f8bebee2340f31a3f7a0fc3981c8 = L.marker(\n",
       "                [34.03, -118.26],\n",
       "                {}\n",
       "            ).addTo(map_ffc830d4db735b4e21de58186666cf54);\n",
       "        \n",
       "    \n",
       "            var marker_6445d3314eeb298e3d49c48955b0e709 = L.marker(\n",
       "                [34.06, -118.25],\n",
       "                {}\n",
       "            ).addTo(map_ffc830d4db735b4e21de58186666cf54);\n",
       "        \n",
       "    \n",
       "            var marker_565e068ae729270db5b332b084fcc5e7 = L.marker(\n",
       "                [34.04, -118.26],\n",
       "                {}\n",
       "            ).addTo(map_ffc830d4db735b4e21de58186666cf54);\n",
       "        \n",
       "    \n",
       "            var marker_1d2b3e47a3d9046a6980a85b8e0618e9 = L.marker(\n",
       "                [34.06, -118.24],\n",
       "                {}\n",
       "            ).addTo(map_ffc830d4db735b4e21de58186666cf54);\n",
       "        \n",
       "    \n",
       "            var marker_12e6a7e45ba33bfff8a710eac8b8e83f = L.marker(\n",
       "                [34.05, -118.24],\n",
       "                {}\n",
       "            ).addTo(map_ffc830d4db735b4e21de58186666cf54);\n",
       "        \n",
       "    \n",
       "            var marker_5310325ef5d9bb9f0d60a2ac8159b638 = L.marker(\n",
       "                [34.05, -118.26],\n",
       "                {}\n",
       "            ).addTo(map_ffc830d4db735b4e21de58186666cf54);\n",
       "        \n",
       "    \n",
       "            var marker_a74d7555de636ba0b347c540c89225db = L.marker(\n",
       "                [34.05, -118.25],\n",
       "                {}\n",
       "            ).addTo(map_ffc830d4db735b4e21de58186666cf54);\n",
       "        \n",
       "    \n",
       "            var marker_c439670a6b7aca5881cdaa17ab1119f4 = L.marker(\n",
       "                [34.05, -118.25],\n",
       "                {}\n",
       "            ).addTo(map_ffc830d4db735b4e21de58186666cf54);\n",
       "        \n",
       "    \n",
       "            var marker_b328713d891cb0199700bd63d1a5fbca = L.marker(\n",
       "                [34.06, -118.23],\n",
       "                {}\n",
       "            ).addTo(map_ffc830d4db735b4e21de58186666cf54);\n",
       "        \n",
       "    \n",
       "            var marker_e66104d2962645dad1de27e18e8f1956 = L.marker(\n",
       "                [34.06, -118.24],\n",
       "                {}\n",
       "            ).addTo(map_ffc830d4db735b4e21de58186666cf54);\n",
       "        \n",
       "    \n",
       "            var marker_ef92357839a3dd2f0e1cb9c82a420f37 = L.marker(\n",
       "                [34.06, -118.24],\n",
       "                {}\n",
       "            ).addTo(map_ffc830d4db735b4e21de58186666cf54);\n",
       "        \n",
       "    \n",
       "            var marker_0593e6ea155e495595629c24c533be97 = L.marker(\n",
       "                [34.05, -118.26],\n",
       "                {}\n",
       "            ).addTo(map_ffc830d4db735b4e21de58186666cf54);\n",
       "        \n",
       "    \n",
       "            var marker_bbb0628a35cb71925258e61a79b3fcad = L.marker(\n",
       "                [34.07, -118.25],\n",
       "                {}\n",
       "            ).addTo(map_ffc830d4db735b4e21de58186666cf54);\n",
       "        \n",
       "    \n",
       "            var marker_735725fcdd2e40e5860326e54f005513 = L.marker(\n",
       "                [34.05, -118.25],\n",
       "                {}\n",
       "            ).addTo(map_ffc830d4db735b4e21de58186666cf54);\n",
       "        \n",
       "    \n",
       "            var marker_be60eebeb9d829dd7a29527b01fa6569 = L.marker(\n",
       "                [34.04, -118.24],\n",
       "                {}\n",
       "            ).addTo(map_ffc830d4db735b4e21de58186666cf54);\n",
       "        \n",
       "    \n",
       "            var marker_0f54a3cde48d70636f42e1accd7c4d9d = L.marker(\n",
       "                [34.04, -118.27],\n",
       "                {}\n",
       "            ).addTo(map_ffc830d4db735b4e21de58186666cf54);\n",
       "        \n",
       "    \n",
       "            var marker_d1bc78f1ad8b32eafb14ee49a367283a = L.marker(\n",
       "                [34.06, -118.24],\n",
       "                {}\n",
       "            ).addTo(map_ffc830d4db735b4e21de58186666cf54);\n",
       "        \n",
       "    \n",
       "            var marker_91774ca9fdb30384f2982f5fb6551dac = L.marker(\n",
       "                [34.05, -118.25],\n",
       "                {}\n",
       "            ).addTo(map_ffc830d4db735b4e21de58186666cf54);\n",
       "        \n",
       "    \n",
       "            var marker_74cdc8e9c1f73f1deed4c31cf1854309 = L.marker(\n",
       "                [34.04, -118.24],\n",
       "                {}\n",
       "            ).addTo(map_ffc830d4db735b4e21de58186666cf54);\n",
       "        \n",
       "    \n",
       "            var marker_20a1cc45c1e38be116fb600775131502 = L.marker(\n",
       "                [34.04, -118.26],\n",
       "                {}\n",
       "            ).addTo(map_ffc830d4db735b4e21de58186666cf54);\n",
       "        \n",
       "    \n",
       "            var marker_9dde6551a47ebf3b69521821b2fa94ff = L.marker(\n",
       "                [34.05, -118.25],\n",
       "                {}\n",
       "            ).addTo(map_ffc830d4db735b4e21de58186666cf54);\n",
       "        \n",
       "    \n",
       "            var marker_828011ff739d48de7c12c584c51ef37a = L.marker(\n",
       "                [34.04, -118.27],\n",
       "                {}\n",
       "            ).addTo(map_ffc830d4db735b4e21de58186666cf54);\n",
       "        \n",
       "    \n",
       "            var marker_6e6355dff4b3f527e08fa8964cbb597e = L.marker(\n",
       "                [34.04, -118.26],\n",
       "                {}\n",
       "            ).addTo(map_ffc830d4db735b4e21de58186666cf54);\n",
       "        \n",
       "    \n",
       "            var marker_0f92b4a6ce326707559121ecf5d610e5 = L.marker(\n",
       "                [34.05, -118.24],\n",
       "                {}\n",
       "            ).addTo(map_ffc830d4db735b4e21de58186666cf54);\n",
       "        \n",
       "    \n",
       "            var marker_02fce637e1f32cb913d98897ba8962e8 = L.marker(\n",
       "                [34.2, -118.46],\n",
       "                {}\n",
       "            ).addTo(map_ffc830d4db735b4e21de58186666cf54);\n",
       "        \n",
       "    \n",
       "            var marker_589aff50a7896c2c31e93133052eea22 = L.marker(\n",
       "                [34.06, -118.24],\n",
       "                {}\n",
       "            ).addTo(map_ffc830d4db735b4e21de58186666cf54);\n",
       "        \n",
       "    \n",
       "            var marker_b65b7802a81ace9d2ba836fc239da18e = L.marker(\n",
       "                [34.05, -118.24],\n",
       "                {}\n",
       "            ).addTo(map_ffc830d4db735b4e21de58186666cf54);\n",
       "        \n",
       "    \n",
       "            var marker_7d3cf6b9ee787186a5a0b4b38850529b = L.marker(\n",
       "                [34.21, -118.56],\n",
       "                {}\n",
       "            ).addTo(map_ffc830d4db735b4e21de58186666cf54);\n",
       "        \n",
       "    \n",
       "            var marker_b1611bff199827f933a311df2d6dd075 = L.marker(\n",
       "                [34.05, -118.26],\n",
       "                {}\n",
       "            ).addTo(map_ffc830d4db735b4e21de58186666cf54);\n",
       "        \n",
       "    \n",
       "            var marker_0e5da36c26b74a5e5394559f5662a385 = L.marker(\n",
       "                [34.04, -118.25],\n",
       "                {}\n",
       "            ).addTo(map_ffc830d4db735b4e21de58186666cf54);\n",
       "        \n",
       "    \n",
       "            var marker_2b2ecca98ec8c1ba46586889cc378ded = L.marker(\n",
       "                [34.04, -118.24],\n",
       "                {}\n",
       "            ).addTo(map_ffc830d4db735b4e21de58186666cf54);\n",
       "        \n",
       "    \n",
       "            var marker_9db791e8fe0003cd1d818028247f2093 = L.marker(\n",
       "                [34.05, -118.26],\n",
       "                {}\n",
       "            ).addTo(map_ffc830d4db735b4e21de58186666cf54);\n",
       "        \n",
       "    \n",
       "            var marker_4b2c2b403e34d42777334143245c745e = L.marker(\n",
       "                [34.05, -118.25],\n",
       "                {}\n",
       "            ).addTo(map_ffc830d4db735b4e21de58186666cf54);\n",
       "        \n",
       "    \n",
       "            var marker_6010193757455cf6ca967d7af89d64d0 = L.marker(\n",
       "                [34.05, -118.26],\n",
       "                {}\n",
       "            ).addTo(map_ffc830d4db735b4e21de58186666cf54);\n",
       "        \n",
       "    \n",
       "            var marker_cbaef677e953f00d1fd0572bf2d54ad6 = L.marker(\n",
       "                [34.05, -118.25],\n",
       "                {}\n",
       "            ).addTo(map_ffc830d4db735b4e21de58186666cf54);\n",
       "        \n",
       "    \n",
       "            var marker_49defd1c38405dc44c1604355a6d7cc9 = L.marker(\n",
       "                [34.05, -118.25],\n",
       "                {}\n",
       "            ).addTo(map_ffc830d4db735b4e21de58186666cf54);\n",
       "        \n",
       "    \n",
       "            var marker_628d4219ac45fbb4c42037b62c790954 = L.marker(\n",
       "                [34.05, -118.26],\n",
       "                {}\n",
       "            ).addTo(map_ffc830d4db735b4e21de58186666cf54);\n",
       "        \n",
       "    \n",
       "            var marker_93e497f8f8084b8df461dd235f4e7216 = L.marker(\n",
       "                [34.04, -118.27],\n",
       "                {}\n",
       "            ).addTo(map_ffc830d4db735b4e21de58186666cf54);\n",
       "        \n",
       "    \n",
       "            var marker_90e715c44218d1a85e1814d0a5668b78 = L.marker(\n",
       "                [34.05, -118.26],\n",
       "                {}\n",
       "            ).addTo(map_ffc830d4db735b4e21de58186666cf54);\n",
       "        \n",
       "    \n",
       "            var marker_4008df991f5259c472f397db44c68863 = L.marker(\n",
       "                [34.05, -118.26],\n",
       "                {}\n",
       "            ).addTo(map_ffc830d4db735b4e21de58186666cf54);\n",
       "        \n",
       "    \n",
       "            var marker_4d99eeefa1dfa7b080730e6315ef6d9a = L.marker(\n",
       "                [34.05, -118.27],\n",
       "                {}\n",
       "            ).addTo(map_ffc830d4db735b4e21de58186666cf54);\n",
       "        \n",
       "    \n",
       "            var marker_3796b05412884d8103fdd8eb2d74bd8b = L.marker(\n",
       "                [34.05, -118.26],\n",
       "                {}\n",
       "            ).addTo(map_ffc830d4db735b4e21de58186666cf54);\n",
       "        \n",
       "    \n",
       "            var marker_dd834a9983debf964e697f2f1af27945 = L.marker(\n",
       "                [34.05, -118.25],\n",
       "                {}\n",
       "            ).addTo(map_ffc830d4db735b4e21de58186666cf54);\n",
       "        \n",
       "    \n",
       "            var marker_d89010afded90233d9cc384952c2d9d8 = L.marker(\n",
       "                [34.05, -118.25],\n",
       "                {}\n",
       "            ).addTo(map_ffc830d4db735b4e21de58186666cf54);\n",
       "        \n",
       "    \n",
       "            var marker_6b4e5f95b3c1fd81d393077e4262e646 = L.marker(\n",
       "                [34.04, -118.26],\n",
       "                {}\n",
       "            ).addTo(map_ffc830d4db735b4e21de58186666cf54);\n",
       "        \n",
       "    \n",
       "            var marker_a667b2eb29316a6135c4f56ab05c89f4 = L.marker(\n",
       "                [34.06, -118.24],\n",
       "                {}\n",
       "            ).addTo(map_ffc830d4db735b4e21de58186666cf54);\n",
       "        \n",
       "    \n",
       "            var marker_a55330ede93bdde5a92006bec8e0c959 = L.marker(\n",
       "                [34.04, -118.26],\n",
       "                {}\n",
       "            ).addTo(map_ffc830d4db735b4e21de58186666cf54);\n",
       "        \n",
       "    \n",
       "            var marker_6b211d32526cdaa2aa61e1af3887ac1a = L.marker(\n",
       "                [34.05, -118.27],\n",
       "                {}\n",
       "            ).addTo(map_ffc830d4db735b4e21de58186666cf54);\n",
       "        \n",
       "    \n",
       "            var marker_16c7be542f90854f47cb9bdee6347573 = L.marker(\n",
       "                [34.05, -118.26],\n",
       "                {}\n",
       "            ).addTo(map_ffc830d4db735b4e21de58186666cf54);\n",
       "        \n",
       "    \n",
       "            var marker_f2500d2fdac2ec2c10bc7a0a6557378f = L.marker(\n",
       "                [34.05, -118.26],\n",
       "                {}\n",
       "            ).addTo(map_ffc830d4db735b4e21de58186666cf54);\n",
       "        \n",
       "    \n",
       "            var marker_305d0c7e07a406861f9c10e5387ca16d = L.marker(\n",
       "                [33.78, -118.28],\n",
       "                {}\n",
       "            ).addTo(map_ffc830d4db735b4e21de58186666cf54);\n",
       "        \n",
       "    \n",
       "            var marker_308bba25f4b476f8aca042fc3c497eb6 = L.marker(\n",
       "                [34.05, -118.28],\n",
       "                {}\n",
       "            ).addTo(map_ffc830d4db735b4e21de58186666cf54);\n",
       "        \n",
       "    \n",
       "            var marker_aaf8a772263124572dee5a4f88c2a2b9 = L.marker(\n",
       "                [34.04, -118.25],\n",
       "                {}\n",
       "            ).addTo(map_ffc830d4db735b4e21de58186666cf54);\n",
       "        \n",
       "    \n",
       "            var marker_32a3b4611c4259e1ae602648426c0f9f = L.marker(\n",
       "                [34.04, -118.27],\n",
       "                {}\n",
       "            ).addTo(map_ffc830d4db735b4e21de58186666cf54);\n",
       "        \n",
       "    \n",
       "            var marker_98e715b23f6ce643bfc6662d32104e46 = L.marker(\n",
       "                [34.05, -118.25],\n",
       "                {}\n",
       "            ).addTo(map_ffc830d4db735b4e21de58186666cf54);\n",
       "        \n",
       "    \n",
       "            var marker_f3a07b4bb703ad05c11fb5d141762009 = L.marker(\n",
       "                [34.05, -118.25],\n",
       "                {}\n",
       "            ).addTo(map_ffc830d4db735b4e21de58186666cf54);\n",
       "        \n",
       "    \n",
       "            var marker_263ba034dfd6d36c295af45ebb3e935c = L.marker(\n",
       "                [34.06, -118.24],\n",
       "                {}\n",
       "            ).addTo(map_ffc830d4db735b4e21de58186666cf54);\n",
       "        \n",
       "    \n",
       "            var marker_5ebf36631bce78cb596e141e60f66b31 = L.marker(\n",
       "                [34.05, -118.24],\n",
       "                {}\n",
       "            ).addTo(map_ffc830d4db735b4e21de58186666cf54);\n",
       "        \n",
       "    \n",
       "            var marker_38509b0dbf015e250d8a5cbc3c94a7f6 = L.marker(\n",
       "                [34.1, -118.33],\n",
       "                {}\n",
       "            ).addTo(map_ffc830d4db735b4e21de58186666cf54);\n",
       "        \n",
       "    \n",
       "            var marker_3b87b4d7080d28e37e86f9a9e3f80cbb = L.marker(\n",
       "                [34.04, -118.25],\n",
       "                {}\n",
       "            ).addTo(map_ffc830d4db735b4e21de58186666cf54);\n",
       "        \n",
       "    \n",
       "            var marker_a277af618c422512a8b30ce9f22905af = L.marker(\n",
       "                [34.04, -118.25],\n",
       "                {}\n",
       "            ).addTo(map_ffc830d4db735b4e21de58186666cf54);\n",
       "        \n",
       "    \n",
       "            var marker_d9c63d0e77c2e00509d333a56dc2eb60 = L.marker(\n",
       "                [33.72, -118.29],\n",
       "                {}\n",
       "            ).addTo(map_ffc830d4db735b4e21de58186666cf54);\n",
       "        \n",
       "    \n",
       "            var marker_0c64f6f5621aad84fc918a5f8a20629f = L.marker(\n",
       "                [34.05, -118.23],\n",
       "                {}\n",
       "            ).addTo(map_ffc830d4db735b4e21de58186666cf54);\n",
       "        \n",
       "    \n",
       "            var marker_895c163cd55def1e0f34a9f0f7faf33b = L.marker(\n",
       "                [34.06, -118.25],\n",
       "                {}\n",
       "            ).addTo(map_ffc830d4db735b4e21de58186666cf54);\n",
       "        \n",
       "    \n",
       "            var marker_032e2e36da4a3251cf8d7fce7cd32de2 = L.marker(\n",
       "                [34.04, -118.26],\n",
       "                {}\n",
       "            ).addTo(map_ffc830d4db735b4e21de58186666cf54);\n",
       "        \n",
       "    \n",
       "            var marker_20435f79aae7245bf88006884a004f56 = L.marker(\n",
       "                [34.08, -118.26],\n",
       "                {}\n",
       "            ).addTo(map_ffc830d4db735b4e21de58186666cf54);\n",
       "        \n",
       "    \n",
       "            var marker_ee51a2a7f1d7c29ae8eac231a6002ce0 = L.marker(\n",
       "                [34.04, -118.25],\n",
       "                {}\n",
       "            ).addTo(map_ffc830d4db735b4e21de58186666cf54);\n",
       "        \n",
       "    \n",
       "            var marker_6ccd6b96ab99296f08671798e6c4da7f = L.marker(\n",
       "                [34.04, -118.25],\n",
       "                {}\n",
       "            ).addTo(map_ffc830d4db735b4e21de58186666cf54);\n",
       "        \n",
       "    \n",
       "            var marker_20bfe9f0cffc1c35e22148885928f326 = L.marker(\n",
       "                [33.79, -118.29],\n",
       "                {}\n",
       "            ).addTo(map_ffc830d4db735b4e21de58186666cf54);\n",
       "        \n",
       "    \n",
       "            var marker_a44b2ebfaf3f8ff3816d68b7154bd418 = L.marker(\n",
       "                [33.98, -118.32],\n",
       "                {}\n",
       "            ).addTo(map_ffc830d4db735b4e21de58186666cf54);\n",
       "        \n",
       "    \n",
       "            var marker_f2400a55c70475884d72f85665be9d63 = L.marker(\n",
       "                [34.21, -118.41],\n",
       "                {}\n",
       "            ).addTo(map_ffc830d4db735b4e21de58186666cf54);\n",
       "        \n",
       "    \n",
       "            var marker_2f2ff28f90e3a1e810192d04dc84651f = L.marker(\n",
       "                [34.1, -118.32],\n",
       "                {}\n",
       "            ).addTo(map_ffc830d4db735b4e21de58186666cf54);\n",
       "        \n",
       "    \n",
       "            var marker_ed39f604260dfa184e126dac448e7873 = L.marker(\n",
       "                [34.08, -118.3],\n",
       "                {}\n",
       "            ).addTo(map_ffc830d4db735b4e21de58186666cf54);\n",
       "        \n",
       "    \n",
       "            var marker_c3134dc3c5a7dff81cbf428666333640 = L.marker(\n",
       "                [34.05, -118.3],\n",
       "                {}\n",
       "            ).addTo(map_ffc830d4db735b4e21de58186666cf54);\n",
       "        \n",
       "    \n",
       "            var marker_b4e0942b530fef338a9cb5cf0249b6c1 = L.marker(\n",
       "                [34.28, -118.47],\n",
       "                {}\n",
       "            ).addTo(map_ffc830d4db735b4e21de58186666cf54);\n",
       "        \n",
       "    \n",
       "            var marker_b2b0dd4fd4a9328c44dd0821488dbfce = L.marker(\n",
       "                [33.71, -118.29],\n",
       "                {}\n",
       "            ).addTo(map_ffc830d4db735b4e21de58186666cf54);\n",
       "        \n",
       "    \n",
       "            var marker_a43a004df2524994388d92ed2985b1f8 = L.marker(\n",
       "                [34.06, -118.34],\n",
       "                {}\n",
       "            ).addTo(map_ffc830d4db735b4e21de58186666cf54);\n",
       "        \n",
       "    \n",
       "            var marker_5971bc117732db23c47f2308d836a64d = L.marker(\n",
       "                [34.14, -118.22],\n",
       "                {}\n",
       "            ).addTo(map_ffc830d4db735b4e21de58186666cf54);\n",
       "        \n",
       "    \n",
       "            var marker_33f00033b01e3f9372b09149bed7a3dc = L.marker(\n",
       "                [34.02, -118.2],\n",
       "                {}\n",
       "            ).addTo(map_ffc830d4db735b4e21de58186666cf54);\n",
       "        \n",
       "    \n",
       "            var marker_1659145ab9303cb9d8c18cedbf8a699a = L.marker(\n",
       "                [34.06, -118.27],\n",
       "                {}\n",
       "            ).addTo(map_ffc830d4db735b4e21de58186666cf54);\n",
       "        \n",
       "    \n",
       "            var marker_c63971b44f0db692514bca794e855f04 = L.marker(\n",
       "                [34.05, -118.24],\n",
       "                {}\n",
       "            ).addTo(map_ffc830d4db735b4e21de58186666cf54);\n",
       "        \n",
       "    \n",
       "            var marker_c1b11a60b96391f7b231134aef6b148c = L.marker(\n",
       "                [34.06, -118.26],\n",
       "                {}\n",
       "            ).addTo(map_ffc830d4db735b4e21de58186666cf54);\n",
       "        \n",
       "    \n",
       "            var marker_87d8ff88f700b3512f1e4b5623f2699b = L.marker(\n",
       "                [34.05, -118.26],\n",
       "                {}\n",
       "            ).addTo(map_ffc830d4db735b4e21de58186666cf54);\n",
       "        \n",
       "    \n",
       "            var marker_9ceaac1dd81ecff51f7d9a07272fb286 = L.marker(\n",
       "                [33.85, -118.31],\n",
       "                {}\n",
       "            ).addTo(map_ffc830d4db735b4e21de58186666cf54);\n",
       "        \n",
       "    \n",
       "            var marker_c707c60d83d795d2a140f0d9569bdd6d = L.marker(\n",
       "                [34.21, -118.56],\n",
       "                {}\n",
       "            ).addTo(map_ffc830d4db735b4e21de58186666cf54);\n",
       "        \n",
       "    \n",
       "            var marker_2f28bbf7a7723fe2d579a1a257281b2b = L.marker(\n",
       "                [34.07, -118.22],\n",
       "                {}\n",
       "            ).addTo(map_ffc830d4db735b4e21de58186666cf54);\n",
       "        \n",
       "    \n",
       "            var marker_3ae8deaba11d7e2c1888505d586acb20 = L.marker(\n",
       "                [34.1, -118.33],\n",
       "                {}\n",
       "            ).addTo(map_ffc830d4db735b4e21de58186666cf54);\n",
       "        \n",
       "    \n",
       "            var marker_aeade790f3cf4889704caa238381dda9 = L.marker(\n",
       "                [33.78, -118.31],\n",
       "                {}\n",
       "            ).addTo(map_ffc830d4db735b4e21de58186666cf54);\n",
       "        \n",
       "    \n",
       "            var marker_b341cb733ae9325d55c2927d4f2517ec = L.marker(\n",
       "                [34.11, -118.19],\n",
       "                {}\n",
       "            ).addTo(map_ffc830d4db735b4e21de58186666cf54);\n",
       "        \n",
       "    \n",
       "            var marker_cbc324ebc8c0fa967466e3c54842e0b9 = L.marker(\n",
       "                [34.04, -118.27],\n",
       "                {}\n",
       "            ).addTo(map_ffc830d4db735b4e21de58186666cf54);\n",
       "        \n",
       "    \n",
       "            var marker_125c1bfa9e5fe55b7db6d75fa335dd79 = L.marker(\n",
       "                [33.74, -118.29],\n",
       "                {}\n",
       "            ).addTo(map_ffc830d4db735b4e21de58186666cf54);\n",
       "        \n",
       "    \n",
       "            var marker_79c549c08840951c464ba809f8baad7d = L.marker(\n",
       "                [33.98, -118.33],\n",
       "                {}\n",
       "            ).addTo(map_ffc830d4db735b4e21de58186666cf54);\n",
       "        \n",
       "    \n",
       "            var marker_63efa778adc8bd3aca14045e0d8e13e1 = L.marker(\n",
       "                [33.99, -118.31],\n",
       "                {}\n",
       "            ).addTo(map_ffc830d4db735b4e21de58186666cf54);\n",
       "        \n",
       "    \n",
       "            var marker_d237893bd50b2b145ccb95398ea17c4d = L.marker(\n",
       "                [34.11, -118.19],\n",
       "                {}\n",
       "            ).addTo(map_ffc830d4db735b4e21de58186666cf54);\n",
       "        \n",
       "    \n",
       "            var marker_82676e59e1a7175a4d0bbac57ff17149 = L.marker(\n",
       "                [34.09, -118.28],\n",
       "                {}\n",
       "            ).addTo(map_ffc830d4db735b4e21de58186666cf54);\n",
       "        \n",
       "    \n",
       "            var marker_9a8b709ae8d9876b08c155bc0b39c01c = L.marker(\n",
       "                [33.99, -118.31],\n",
       "                {}\n",
       "            ).addTo(map_ffc830d4db735b4e21de58186666cf54);\n",
       "        \n",
       "    \n",
       "            var marker_a99b128420a529a1e300b9c36b9c20e2 = L.marker(\n",
       "                [34.08, -118.44],\n",
       "                {}\n",
       "            ).addTo(map_ffc830d4db735b4e21de58186666cf54);\n",
       "        \n",
       "    \n",
       "            var marker_ac66e5c1bd632ee1e02570f871df9cb0 = L.marker(\n",
       "                [34.11, -118.22],\n",
       "                {}\n",
       "            ).addTo(map_ffc830d4db735b4e21de58186666cf54);\n",
       "        \n",
       "    \n",
       "            var marker_b0ef57e8c1dec944c28d939c8934165b = L.marker(\n",
       "                [34.02, -118.35],\n",
       "                {}\n",
       "            ).addTo(map_ffc830d4db735b4e21de58186666cf54);\n",
       "        \n",
       "    \n",
       "            var marker_548aac1d7b15077e557df61f44d88e8d = L.marker(\n",
       "                [34.05, -118.25],\n",
       "                {}\n",
       "            ).addTo(map_ffc830d4db735b4e21de58186666cf54);\n",
       "        \n",
       "    \n",
       "            var marker_410b00cc848f26454ac23b4e28000c0b = L.marker(\n",
       "                [34.05, -118.24],\n",
       "                {}\n",
       "            ).addTo(map_ffc830d4db735b4e21de58186666cf54);\n",
       "        \n",
       "    \n",
       "            var marker_144651a85034fbeb7117d2de4bd863d8 = L.marker(\n",
       "                [34.14, -118.2],\n",
       "                {}\n",
       "            ).addTo(map_ffc830d4db735b4e21de58186666cf54);\n",
       "        \n",
       "    \n",
       "            var marker_0408611bafdf8ddf4b181fe2bed4af35 = L.marker(\n",
       "                [34.04, -118.25],\n",
       "                {}\n",
       "            ).addTo(map_ffc830d4db735b4e21de58186666cf54);\n",
       "        \n",
       "    \n",
       "            var marker_42caa529d67446d9e7f24e5865775eb1 = L.marker(\n",
       "                [34.06, -118.24],\n",
       "                {}\n",
       "            ).addTo(map_ffc830d4db735b4e21de58186666cf54);\n",
       "        \n",
       "    \n",
       "            var marker_697e5e9deed6fe9bfc086b1be2f3702f = L.marker(\n",
       "                [33.74, -118.29],\n",
       "                {}\n",
       "            ).addTo(map_ffc830d4db735b4e21de58186666cf54);\n",
       "        \n",
       "    \n",
       "            var marker_27b0faaeaad77a44cf59e6036e7e9808 = L.marker(\n",
       "                [34.06, -118.24],\n",
       "                {}\n",
       "            ).addTo(map_ffc830d4db735b4e21de58186666cf54);\n",
       "        \n",
       "    \n",
       "            var marker_751affdaf4b8384689a1ec9ec208fdb6 = L.marker(\n",
       "                [34.05, -118.26],\n",
       "                {}\n",
       "            ).addTo(map_ffc830d4db735b4e21de58186666cf54);\n",
       "        \n",
       "    \n",
       "            var marker_3649d18313f61a36207a3dad0af6c50b = L.marker(\n",
       "                [34.05, -118.25],\n",
       "                {}\n",
       "            ).addTo(map_ffc830d4db735b4e21de58186666cf54);\n",
       "        \n",
       "    \n",
       "            var marker_114a20bbe2cfb1337960c223ad04c5c6 = L.marker(\n",
       "                [34.04, -118.25],\n",
       "                {}\n",
       "            ).addTo(map_ffc830d4db735b4e21de58186666cf54);\n",
       "        \n",
       "    \n",
       "            var marker_a3fe79e46f00d416867f9af738f4d075 = L.marker(\n",
       "                [34.05, -118.26],\n",
       "                {}\n",
       "            ).addTo(map_ffc830d4db735b4e21de58186666cf54);\n",
       "        \n",
       "    \n",
       "            var marker_93cbddd8ca883d057a4d142a5e931efe = L.marker(\n",
       "                [34.06, -118.24],\n",
       "                {}\n",
       "            ).addTo(map_ffc830d4db735b4e21de58186666cf54);\n",
       "        \n",
       "    \n",
       "            var marker_92234ebb6181ea71b53cb1305cf0229b = L.marker(\n",
       "                [34.06, -118.24],\n",
       "                {}\n",
       "            ).addTo(map_ffc830d4db735b4e21de58186666cf54);\n",
       "        \n",
       "    \n",
       "            var marker_972e4a4ccf89eccbbcaec88331370977 = L.marker(\n",
       "                [34.04, -118.26],\n",
       "                {}\n",
       "            ).addTo(map_ffc830d4db735b4e21de58186666cf54);\n",
       "        \n",
       "    \n",
       "            var marker_5fc99de149100b3571a93f2d327e097a = L.marker(\n",
       "                [34.06, -118.24],\n",
       "                {}\n",
       "            ).addTo(map_ffc830d4db735b4e21de58186666cf54);\n",
       "        \n",
       "    \n",
       "            var marker_ff6835bdb149528d2b15c1f8094a1639 = L.marker(\n",
       "                [34.05, -118.26],\n",
       "                {}\n",
       "            ).addTo(map_ffc830d4db735b4e21de58186666cf54);\n",
       "        \n",
       "    \n",
       "            var marker_b362bbbf51ab75134df8584b8d01339b = L.marker(\n",
       "                [34.05, -118.26],\n",
       "                {}\n",
       "            ).addTo(map_ffc830d4db735b4e21de58186666cf54);\n",
       "        \n",
       "    \n",
       "            var marker_305ae84f909010b1df3ebf8f9a457fe0 = L.marker(\n",
       "                [34.05, -118.26],\n",
       "                {}\n",
       "            ).addTo(map_ffc830d4db735b4e21de58186666cf54);\n",
       "        \n",
       "    \n",
       "            var marker_a4fe1ee04a278fffe94e3d12d4267c9c = L.marker(\n",
       "                [34.05, -118.26],\n",
       "                {}\n",
       "            ).addTo(map_ffc830d4db735b4e21de58186666cf54);\n",
       "        \n",
       "    \n",
       "            var marker_81c2668ab4c5c115081d8148b2ed0b8a = L.marker(\n",
       "                [34.05, -118.25],\n",
       "                {}\n",
       "            ).addTo(map_ffc830d4db735b4e21de58186666cf54);\n",
       "        \n",
       "    \n",
       "            var marker_69188d75d22a72e59d8ba23a4ac55621 = L.marker(\n",
       "                [34.05, -118.26],\n",
       "                {}\n",
       "            ).addTo(map_ffc830d4db735b4e21de58186666cf54);\n",
       "        \n",
       "    \n",
       "            var marker_bf69e1fd120e6cfd1c85d4ac0e95449b = L.marker(\n",
       "                [34.04, -118.26],\n",
       "                {}\n",
       "            ).addTo(map_ffc830d4db735b4e21de58186666cf54);\n",
       "        \n",
       "    \n",
       "            var marker_149cb0e3087ad26435965c1f1ffdcc1e = L.marker(\n",
       "                [34.05, -118.26],\n",
       "                {}\n",
       "            ).addTo(map_ffc830d4db735b4e21de58186666cf54);\n",
       "        \n",
       "    \n",
       "            var marker_f94767c5acc6f86467354da58937b757 = L.marker(\n",
       "                [34.05, -118.26],\n",
       "                {}\n",
       "            ).addTo(map_ffc830d4db735b4e21de58186666cf54);\n",
       "        \n",
       "    \n",
       "            var marker_59d227ef5dd161abdbc2a0fc40e53a0b = L.marker(\n",
       "                [34.04, -118.27],\n",
       "                {}\n",
       "            ).addTo(map_ffc830d4db735b4e21de58186666cf54);\n",
       "        \n",
       "    \n",
       "            var marker_7b5283ea960dae0f83c4dd6d1de1c120 = L.marker(\n",
       "                [34.04, -118.25],\n",
       "                {}\n",
       "            ).addTo(map_ffc830d4db735b4e21de58186666cf54);\n",
       "        \n",
       "    \n",
       "            var marker_d5ec1bf3504c4aa1f1bba94147ef255d = L.marker(\n",
       "                [34.04, -118.26],\n",
       "                {}\n",
       "            ).addTo(map_ffc830d4db735b4e21de58186666cf54);\n",
       "        \n",
       "    \n",
       "            var marker_8627e7572a6a2f0ce341243e02707475 = L.marker(\n",
       "                [34.05, -118.23],\n",
       "                {}\n",
       "            ).addTo(map_ffc830d4db735b4e21de58186666cf54);\n",
       "        \n",
       "    \n",
       "            var marker_63bc7ece1b28e236555371cbc5d41da7 = L.marker(\n",
       "                [34.05, -118.25],\n",
       "                {}\n",
       "            ).addTo(map_ffc830d4db735b4e21de58186666cf54);\n",
       "        \n",
       "    \n",
       "            var marker_949db61719b459c398b5ca831959f6d6 = L.marker(\n",
       "                [34.04, -118.26],\n",
       "                {}\n",
       "            ).addTo(map_ffc830d4db735b4e21de58186666cf54);\n",
       "        \n",
       "    \n",
       "            var marker_2ec37b226e59c9d9ff31da5aad1c07a2 = L.marker(\n",
       "                [34.04, -118.26],\n",
       "                {}\n",
       "            ).addTo(map_ffc830d4db735b4e21de58186666cf54);\n",
       "        \n",
       "    \n",
       "            var marker_c6ed8dd130b04edc7a2b56a9a47d937b = L.marker(\n",
       "                [34.05, -118.26],\n",
       "                {}\n",
       "            ).addTo(map_ffc830d4db735b4e21de58186666cf54);\n",
       "        \n",
       "    \n",
       "            var marker_af1dac71be5413c529281eb26554ce62 = L.marker(\n",
       "                [34.05, -118.25],\n",
       "                {}\n",
       "            ).addTo(map_ffc830d4db735b4e21de58186666cf54);\n",
       "        \n",
       "    \n",
       "            var marker_b866f43f6bd39fc482d447643d5a23c4 = L.marker(\n",
       "                [34.06, -118.23],\n",
       "                {}\n",
       "            ).addTo(map_ffc830d4db735b4e21de58186666cf54);\n",
       "        \n",
       "    \n",
       "            var marker_2c5fef57900df4c297f0d37ee00946dd = L.marker(\n",
       "                [34.05, -118.44],\n",
       "                {}\n",
       "            ).addTo(map_ffc830d4db735b4e21de58186666cf54);\n",
       "        \n",
       "    \n",
       "            var marker_56cef2d399a14b50d0f034154b73d123 = L.marker(\n",
       "                [34.09, -118.28],\n",
       "                {}\n",
       "            ).addTo(map_ffc830d4db735b4e21de58186666cf54);\n",
       "        \n",
       "    \n",
       "            var marker_6f67a5b5f65b5a8c33caca7ec3dcf5ab = L.marker(\n",
       "                [34.04, -118.26],\n",
       "                {}\n",
       "            ).addTo(map_ffc830d4db735b4e21de58186666cf54);\n",
       "        \n",
       "    \n",
       "            var marker_0e1e0c4b7ec9fba93e217708ee43900d = L.marker(\n",
       "                [34.05, -118.25],\n",
       "                {}\n",
       "            ).addTo(map_ffc830d4db735b4e21de58186666cf54);\n",
       "        \n",
       "    \n",
       "            var marker_41e9703a712b3719dc2015c2bef4e2e3 = L.marker(\n",
       "                [34.05, -118.23],\n",
       "                {}\n",
       "            ).addTo(map_ffc830d4db735b4e21de58186666cf54);\n",
       "        \n",
       "    \n",
       "            var marker_f66358bd704e6bf4f33c46a3ae362eea = L.marker(\n",
       "                [34.04, -118.26],\n",
       "                {}\n",
       "            ).addTo(map_ffc830d4db735b4e21de58186666cf54);\n",
       "        \n",
       "    \n",
       "            var marker_74cbc0822f7e0109e4872153399a6cc8 = L.marker(\n",
       "                [34.05, -118.24],\n",
       "                {}\n",
       "            ).addTo(map_ffc830d4db735b4e21de58186666cf54);\n",
       "        \n",
       "    \n",
       "            var marker_5a6a14d755e90f0706def8e7660957e0 = L.marker(\n",
       "                [33.99, -118.31],\n",
       "                {}\n",
       "            ).addTo(map_ffc830d4db735b4e21de58186666cf54);\n",
       "        \n",
       "    \n",
       "            var marker_08ab39e11198de119aec52504ecd0e36 = L.marker(\n",
       "                [34.04, -118.27],\n",
       "                {}\n",
       "            ).addTo(map_ffc830d4db735b4e21de58186666cf54);\n",
       "        \n",
       "    \n",
       "            var marker_d0adba4373cf3c6cf3cd58cbec721e6a = L.marker(\n",
       "                [34.06, -118.26],\n",
       "                {}\n",
       "            ).addTo(map_ffc830d4db735b4e21de58186666cf54);\n",
       "        \n",
       "    \n",
       "            var marker_67c0dec7d01dcd4b2d9fc2af6b25db18 = L.marker(\n",
       "                [34.05, -118.25],\n",
       "                {}\n",
       "            ).addTo(map_ffc830d4db735b4e21de58186666cf54);\n",
       "        \n",
       "    \n",
       "            var marker_516b21e240e4ea910354b2571c0fc928 = L.marker(\n",
       "                [34.06, -118.25],\n",
       "                {}\n",
       "            ).addTo(map_ffc830d4db735b4e21de58186666cf54);\n",
       "        \n",
       "    \n",
       "            var marker_5cccf7e94cdf06a6178c239bea421eb2 = L.marker(\n",
       "                [34.04, -118.25],\n",
       "                {}\n",
       "            ).addTo(map_ffc830d4db735b4e21de58186666cf54);\n",
       "        \n",
       "    \n",
       "            var marker_be6f40c47495813eaecc7729200da4db = L.marker(\n",
       "                [34.05, -118.25],\n",
       "                {}\n",
       "            ).addTo(map_ffc830d4db735b4e21de58186666cf54);\n",
       "        \n",
       "    \n",
       "            var marker_3166ce2a3a5b04beee31940b248b238c = L.marker(\n",
       "                [34.05, -118.25],\n",
       "                {}\n",
       "            ).addTo(map_ffc830d4db735b4e21de58186666cf54);\n",
       "        \n",
       "    \n",
       "            var marker_e161bdbf5f3d77888e3d46e79e1f83c6 = L.marker(\n",
       "                [34.05, -118.26],\n",
       "                {}\n",
       "            ).addTo(map_ffc830d4db735b4e21de58186666cf54);\n",
       "        \n",
       "    \n",
       "            var marker_54aeefb002a3ec2d6c8957e7aa5d1051 = L.marker(\n",
       "                [34.05, -118.25],\n",
       "                {}\n",
       "            ).addTo(map_ffc830d4db735b4e21de58186666cf54);\n",
       "        \n",
       "    \n",
       "            var marker_4f31132fc38e32763663e9456685534a = L.marker(\n",
       "                [34.04, -118.25],\n",
       "                {}\n",
       "            ).addTo(map_ffc830d4db735b4e21de58186666cf54);\n",
       "        \n",
       "    \n",
       "            var marker_67a82b3baf5d2f2e05964b57dd1c2d3d = L.marker(\n",
       "                [34.05, -118.26],\n",
       "                {}\n",
       "            ).addTo(map_ffc830d4db735b4e21de58186666cf54);\n",
       "        \n",
       "    \n",
       "            var marker_a1e29dde6b5f75bf62223b65cbaf3688 = L.marker(\n",
       "                [34.04, -118.26],\n",
       "                {}\n",
       "            ).addTo(map_ffc830d4db735b4e21de58186666cf54);\n",
       "        \n",
       "    \n",
       "            var marker_41ee1e75ab81b511042da4094ad470ec = L.marker(\n",
       "                [34.04, -118.26],\n",
       "                {}\n",
       "            ).addTo(map_ffc830d4db735b4e21de58186666cf54);\n",
       "        \n",
       "    \n",
       "            var marker_718ab06ee2384f7f46488a0e3328aea8 = L.marker(\n",
       "                [34.05, -118.26],\n",
       "                {}\n",
       "            ).addTo(map_ffc830d4db735b4e21de58186666cf54);\n",
       "        \n",
       "    \n",
       "            var marker_caafcdab99117220bd58367a775bbe85 = L.marker(\n",
       "                [34.05, -118.24],\n",
       "                {}\n",
       "            ).addTo(map_ffc830d4db735b4e21de58186666cf54);\n",
       "        \n",
       "    \n",
       "            var marker_b4e7140342f9b7ee788b0981afab10c8 = L.marker(\n",
       "                [34.04, -118.26],\n",
       "                {}\n",
       "            ).addTo(map_ffc830d4db735b4e21de58186666cf54);\n",
       "        \n",
       "    \n",
       "            var marker_15780c184127b5b56f45efa1d1dd1e29 = L.marker(\n",
       "                [33.96, -118.26],\n",
       "                {}\n",
       "            ).addTo(map_ffc830d4db735b4e21de58186666cf54);\n",
       "        \n",
       "    \n",
       "            var marker_55494afc78f64b04f0e746ec635e2d62 = L.marker(\n",
       "                [34.05, -118.25],\n",
       "                {}\n",
       "            ).addTo(map_ffc830d4db735b4e21de58186666cf54);\n",
       "        \n",
       "    \n",
       "            var marker_8d6f26045b0eadada53d448ade3794d7 = L.marker(\n",
       "                [34.05, -118.23],\n",
       "                {}\n",
       "            ).addTo(map_ffc830d4db735b4e21de58186666cf54);\n",
       "        \n",
       "    \n",
       "            var marker_c2fe4041e3f211df2d3ecafa5ecf1ddd = L.marker(\n",
       "                [34.05, -118.24],\n",
       "                {}\n",
       "            ).addTo(map_ffc830d4db735b4e21de58186666cf54);\n",
       "        \n",
       "    \n",
       "            var marker_f08bb5abded8f092406b997bc3b72618 = L.marker(\n",
       "                [34.05, -118.26],\n",
       "                {}\n",
       "            ).addTo(map_ffc830d4db735b4e21de58186666cf54);\n",
       "        \n",
       "    \n",
       "            var marker_e05059be72cdf8c28cc9097c19d36645 = L.marker(\n",
       "                [34.04, -118.25],\n",
       "                {}\n",
       "            ).addTo(map_ffc830d4db735b4e21de58186666cf54);\n",
       "        \n",
       "    \n",
       "            var marker_cbf81d5d47a2c6d865078e9865592ee9 = L.marker(\n",
       "                [34.06, -118.24],\n",
       "                {}\n",
       "            ).addTo(map_ffc830d4db735b4e21de58186666cf54);\n",
       "        \n",
       "    \n",
       "            var marker_69c7642998a7796551ff21fb10e4fe65 = L.marker(\n",
       "                [34.05, -118.25],\n",
       "                {}\n",
       "            ).addTo(map_ffc830d4db735b4e21de58186666cf54);\n",
       "        \n",
       "    \n",
       "            var marker_a355471be9cc85dfa8c73d6302a61d48 = L.marker(\n",
       "                [34.05, -118.25],\n",
       "                {}\n",
       "            ).addTo(map_ffc830d4db735b4e21de58186666cf54);\n",
       "        \n",
       "    \n",
       "            var marker_13ab91b51cbbccec7473e9c4e5d949a4 = L.marker(\n",
       "                [34.04, -118.25],\n",
       "                {}\n",
       "            ).addTo(map_ffc830d4db735b4e21de58186666cf54);\n",
       "        \n",
       "    \n",
       "            var marker_afb7b2a271ea42b6d916ffef9e9d17d3 = L.marker(\n",
       "                [34.05, -118.24],\n",
       "                {}\n",
       "            ).addTo(map_ffc830d4db735b4e21de58186666cf54);\n",
       "        \n",
       "    \n",
       "            var marker_70075ff118eb7c4e58179369983b3408 = L.marker(\n",
       "                [34.09, -118.35],\n",
       "                {}\n",
       "            ).addTo(map_ffc830d4db735b4e21de58186666cf54);\n",
       "        \n",
       "    \n",
       "            var marker_a41078747eebafce45563c32cdbb0a8d = L.marker(\n",
       "                [34.13, -118.2],\n",
       "                {}\n",
       "            ).addTo(map_ffc830d4db735b4e21de58186666cf54);\n",
       "        \n",
       "    \n",
       "            var marker_cf6f5d52689f2043c6cfd2c0b2da3352 = L.marker(\n",
       "                [34.05, -118.25],\n",
       "                {}\n",
       "            ).addTo(map_ffc830d4db735b4e21de58186666cf54);\n",
       "        \n",
       "    \n",
       "            var marker_daff9967713d7180d8a2bbc06cdd11a0 = L.marker(\n",
       "                [34.05, -118.25],\n",
       "                {}\n",
       "            ).addTo(map_ffc830d4db735b4e21de58186666cf54);\n",
       "        \n",
       "    \n",
       "            var marker_044472c5a749dba4fbdc4f1e20b5f22f = L.marker(\n",
       "                [34.05, -118.25],\n",
       "                {}\n",
       "            ).addTo(map_ffc830d4db735b4e21de58186666cf54);\n",
       "        \n",
       "    \n",
       "            var marker_604be6c838c508c4224fcd4e9691b4d9 = L.marker(\n",
       "                [34.04, -118.26],\n",
       "                {}\n",
       "            ).addTo(map_ffc830d4db735b4e21de58186666cf54);\n",
       "        \n",
       "    \n",
       "            var marker_5aa0f178ae8fbd5d5cb1eaa0b1b2f601 = L.marker(\n",
       "                [34.06, -118.23],\n",
       "                {}\n",
       "            ).addTo(map_ffc830d4db735b4e21de58186666cf54);\n",
       "        \n",
       "    \n",
       "            var marker_b30d5c9564053bae47d473cf5883f92a = L.marker(\n",
       "                [34.05, -118.25],\n",
       "                {}\n",
       "            ).addTo(map_ffc830d4db735b4e21de58186666cf54);\n",
       "        \n",
       "    \n",
       "            var marker_47b14f6cf6c1e95dcb54c52378d222c6 = L.marker(\n",
       "                [34.04, -118.26],\n",
       "                {}\n",
       "            ).addTo(map_ffc830d4db735b4e21de58186666cf54);\n",
       "        \n",
       "    \n",
       "            var marker_dcc3ac2050c0661536a973bdd3c9ccef = L.marker(\n",
       "                [34.06, -118.24],\n",
       "                {}\n",
       "            ).addTo(map_ffc830d4db735b4e21de58186666cf54);\n",
       "        \n",
       "    \n",
       "            var marker_336f955ac504319c01af4c654b9ab19a = L.marker(\n",
       "                [34.06, -118.24],\n",
       "                {}\n",
       "            ).addTo(map_ffc830d4db735b4e21de58186666cf54);\n",
       "        \n",
       "    \n",
       "            var marker_8a1705b7eaa9d86cd754cd3087c6c32a = L.marker(\n",
       "                [34.05, -118.26],\n",
       "                {}\n",
       "            ).addTo(map_ffc830d4db735b4e21de58186666cf54);\n",
       "        \n",
       "    \n",
       "            var marker_c0fd87a835d2b797de3838a3388fd6a8 = L.marker(\n",
       "                [34.04, -118.25],\n",
       "                {}\n",
       "            ).addTo(map_ffc830d4db735b4e21de58186666cf54);\n",
       "        \n",
       "    \n",
       "            var marker_e8f2fc1c46e04b3dfc9074ac0b46b66c = L.marker(\n",
       "                [34.04, -118.27],\n",
       "                {}\n",
       "            ).addTo(map_ffc830d4db735b4e21de58186666cf54);\n",
       "        \n",
       "    \n",
       "            var marker_577e232bed0b38973c6c05fc522e29d6 = L.marker(\n",
       "                [34.05, -118.23],\n",
       "                {}\n",
       "            ).addTo(map_ffc830d4db735b4e21de58186666cf54);\n",
       "        \n",
       "    \n",
       "            var marker_9a0d3008e559f2cef3d173545a7cd793 = L.marker(\n",
       "                [33.75, -118.3],\n",
       "                {}\n",
       "            ).addTo(map_ffc830d4db735b4e21de58186666cf54);\n",
       "        \n",
       "    \n",
       "            var marker_07bf27aba1a21f02f5f07245a186a566 = L.marker(\n",
       "                [34.16, -118.44],\n",
       "                {}\n",
       "            ).addTo(map_ffc830d4db735b4e21de58186666cf54);\n",
       "        \n",
       "    \n",
       "            var marker_e70ba5a2d1a481b78ceba8ebd955fc54 = L.marker(\n",
       "                [34.05, -118.25],\n",
       "                {}\n",
       "            ).addTo(map_ffc830d4db735b4e21de58186666cf54);\n",
       "        \n",
       "    \n",
       "            var marker_5b1d96c2520621ec0c391044049feb74 = L.marker(\n",
       "                [34.04, -118.25],\n",
       "                {}\n",
       "            ).addTo(map_ffc830d4db735b4e21de58186666cf54);\n",
       "        \n",
       "    \n",
       "            var marker_006aca2c94db58f7494e274ce8fe3f13 = L.marker(\n",
       "                [34.05, -118.24],\n",
       "                {}\n",
       "            ).addTo(map_ffc830d4db735b4e21de58186666cf54);\n",
       "        \n",
       "    \n",
       "            var marker_f53d094674c6d65f896aa0114570f82f = L.marker(\n",
       "                [34.06, -118.24],\n",
       "                {}\n",
       "            ).addTo(map_ffc830d4db735b4e21de58186666cf54);\n",
       "        \n",
       "    \n",
       "            var marker_376aa87da027d8056ab69cd6e5b52f18 = L.marker(\n",
       "                [34.05, -118.25],\n",
       "                {}\n",
       "            ).addTo(map_ffc830d4db735b4e21de58186666cf54);\n",
       "        \n",
       "    \n",
       "            var marker_de14d45364480c2b5a6ae5bd71d80258 = L.marker(\n",
       "                [34.05, -118.26],\n",
       "                {}\n",
       "            ).addTo(map_ffc830d4db735b4e21de58186666cf54);\n",
       "        \n",
       "    \n",
       "            var marker_39e78a63740f7d0635fb06ced3a56b08 = L.marker(\n",
       "                [34.05, -118.25],\n",
       "                {}\n",
       "            ).addTo(map_ffc830d4db735b4e21de58186666cf54);\n",
       "        \n",
       "    \n",
       "            var marker_847c1749ea0f1c2a9ba88d4cea16ab09 = L.marker(\n",
       "                [34.05, -118.26],\n",
       "                {}\n",
       "            ).addTo(map_ffc830d4db735b4e21de58186666cf54);\n",
       "        \n",
       "    \n",
       "            var marker_38bf4878a06d19b375df3ba9d2e12509 = L.marker(\n",
       "                [33.74, -118.29],\n",
       "                {}\n",
       "            ).addTo(map_ffc830d4db735b4e21de58186666cf54);\n",
       "        \n",
       "    \n",
       "            var marker_d8e6ede6de23974c14c7c7a8e05e7b51 = L.marker(\n",
       "                [34.05, -118.26],\n",
       "                {}\n",
       "            ).addTo(map_ffc830d4db735b4e21de58186666cf54);\n",
       "        \n",
       "    \n",
       "            var marker_59b5a18f6ebcfc51fec29c02893f518f = L.marker(\n",
       "                [34.05, -118.25],\n",
       "                {}\n",
       "            ).addTo(map_ffc830d4db735b4e21de58186666cf54);\n",
       "        \n",
       "    \n",
       "            var marker_24c19b63b3e796589ac0d10a6049d4d8 = L.marker(\n",
       "                [34.06, -118.24],\n",
       "                {}\n",
       "            ).addTo(map_ffc830d4db735b4e21de58186666cf54);\n",
       "        \n",
       "    \n",
       "            var marker_2f79b1a268e34f0a84432da490318fe4 = L.marker(\n",
       "                [33.8, -118.3],\n",
       "                {}\n",
       "            ).addTo(map_ffc830d4db735b4e21de58186666cf54);\n",
       "        \n",
       "    \n",
       "            var marker_6a0309a4d8aed11e5adb1922874c39d3 = L.marker(\n",
       "                [34.04, -118.4],\n",
       "                {}\n",
       "            ).addTo(map_ffc830d4db735b4e21de58186666cf54);\n",
       "        \n",
       "    \n",
       "            var marker_8d8e06d55810cb479d742a1df7e56f77 = L.marker(\n",
       "                [34.05, -118.26],\n",
       "                {}\n",
       "            ).addTo(map_ffc830d4db735b4e21de58186666cf54);\n",
       "        \n",
       "    \n",
       "            var marker_b7ba71d24beb4917c1a5c3bb645616e4 = L.marker(\n",
       "                [34.04, -118.25],\n",
       "                {}\n",
       "            ).addTo(map_ffc830d4db735b4e21de58186666cf54);\n",
       "        \n",
       "    \n",
       "            var marker_7cf21bc33af5b6784fa916e20a1779ce = L.marker(\n",
       "                [34.06, -118.24],\n",
       "                {}\n",
       "            ).addTo(map_ffc830d4db735b4e21de58186666cf54);\n",
       "        \n",
       "    \n",
       "            var marker_28aeedbe671c27730e006821720bcb21 = L.marker(\n",
       "                [34.04, -118.26],\n",
       "                {}\n",
       "            ).addTo(map_ffc830d4db735b4e21de58186666cf54);\n",
       "        \n",
       "    \n",
       "            var marker_e1cd4c5e9f22ff9944c63390f690f52b = L.marker(\n",
       "                [34.07, -118.23],\n",
       "                {}\n",
       "            ).addTo(map_ffc830d4db735b4e21de58186666cf54);\n",
       "        \n",
       "    \n",
       "            var marker_aabaf4e11f603910bbf0da0194734531 = L.marker(\n",
       "                [34.04, -118.26],\n",
       "                {}\n",
       "            ).addTo(map_ffc830d4db735b4e21de58186666cf54);\n",
       "        \n",
       "    \n",
       "            var marker_d49961639ab96e6d6ae43054c59d01f8 = L.marker(\n",
       "                [34.04, -118.24],\n",
       "                {}\n",
       "            ).addTo(map_ffc830d4db735b4e21de58186666cf54);\n",
       "        \n",
       "    \n",
       "            var marker_960709086d4760ad77456aebf12658fc = L.marker(\n",
       "                [34.05, -118.26],\n",
       "                {}\n",
       "            ).addTo(map_ffc830d4db735b4e21de58186666cf54);\n",
       "        \n",
       "    \n",
       "            var marker_8f8a100754075d1c6bff94e6c9c090f3 = L.marker(\n",
       "                [34.04, -118.24],\n",
       "                {}\n",
       "            ).addTo(map_ffc830d4db735b4e21de58186666cf54);\n",
       "        \n",
       "    \n",
       "            var marker_fa72b1d0358f073a29a0fbc24b1948b4 = L.marker(\n",
       "                [34.04, -118.25],\n",
       "                {}\n",
       "            ).addTo(map_ffc830d4db735b4e21de58186666cf54);\n",
       "        \n",
       "    \n",
       "            var marker_30f44e56717c5d60b99c557d72f71246 = L.marker(\n",
       "                [34.04, -118.24],\n",
       "                {}\n",
       "            ).addTo(map_ffc830d4db735b4e21de58186666cf54);\n",
       "        \n",
       "    \n",
       "            var marker_a61d465006f3713aed509530e3c1893c = L.marker(\n",
       "                [34.04, -118.25],\n",
       "                {}\n",
       "            ).addTo(map_ffc830d4db735b4e21de58186666cf54);\n",
       "        \n",
       "    \n",
       "            var marker_26b9b32f1b53549ef2959f9c00a8fe83 = L.marker(\n",
       "                [34.07, -118.37],\n",
       "                {}\n",
       "            ).addTo(map_ffc830d4db735b4e21de58186666cf54);\n",
       "        \n",
       "    \n",
       "            var marker_076dc46b6487ddfa213939d97b327c7e = L.marker(\n",
       "                [34.07, -118.24],\n",
       "                {}\n",
       "            ).addTo(map_ffc830d4db735b4e21de58186666cf54);\n",
       "        \n",
       "    \n",
       "            var marker_011711e4dff1e3a8f12250219e9c7aaa = L.marker(\n",
       "                [34.05, -118.26],\n",
       "                {}\n",
       "            ).addTo(map_ffc830d4db735b4e21de58186666cf54);\n",
       "        \n",
       "    \n",
       "            var marker_8bb1092a0329d92dc8e9fb384240b439 = L.marker(\n",
       "                [34.11, -118.24],\n",
       "                {}\n",
       "            ).addTo(map_ffc830d4db735b4e21de58186666cf54);\n",
       "        \n",
       "    \n",
       "            var marker_7272e2752d3470aaf163bf04bffb014c = L.marker(\n",
       "                [34.05, -118.24],\n",
       "                {}\n",
       "            ).addTo(map_ffc830d4db735b4e21de58186666cf54);\n",
       "        \n",
       "    \n",
       "            var marker_560b5611e73564ea0adf89aa8f2a986e = L.marker(\n",
       "                [34.05, -118.26],\n",
       "                {}\n",
       "            ).addTo(map_ffc830d4db735b4e21de58186666cf54);\n",
       "        \n",
       "    \n",
       "            var marker_39e516e38528fd0dcb5f0ac1c56f892c = L.marker(\n",
       "                [34.05, -118.26],\n",
       "                {}\n",
       "            ).addTo(map_ffc830d4db735b4e21de58186666cf54);\n",
       "        \n",
       "    \n",
       "            var marker_16e8cb25a8d7969c1cb5eb710d778376 = L.marker(\n",
       "                [34.05, -118.26],\n",
       "                {}\n",
       "            ).addTo(map_ffc830d4db735b4e21de58186666cf54);\n",
       "        \n",
       "    \n",
       "            var marker_e190f99f212e1de2105557562ff1b472 = L.marker(\n",
       "                [34.05, -118.26],\n",
       "                {}\n",
       "            ).addTo(map_ffc830d4db735b4e21de58186666cf54);\n",
       "        \n",
       "    \n",
       "            var marker_b3d130851c336c9fdc0fd1b9efad6125 = L.marker(\n",
       "                [34.06, -118.24],\n",
       "                {}\n",
       "            ).addTo(map_ffc830d4db735b4e21de58186666cf54);\n",
       "        \n",
       "    \n",
       "            var marker_c499e3ef16ab66807429aeacedd129b3 = L.marker(\n",
       "                [34.05, -118.26],\n",
       "                {}\n",
       "            ).addTo(map_ffc830d4db735b4e21de58186666cf54);\n",
       "        \n",
       "    \n",
       "            var marker_f480ac553448b85b3fe67ef396e31dd0 = L.marker(\n",
       "                [34.07, -118.23],\n",
       "                {}\n",
       "            ).addTo(map_ffc830d4db735b4e21de58186666cf54);\n",
       "        \n",
       "    \n",
       "            var marker_32713990b17bb35f9f1f09616210802e = L.marker(\n",
       "                [34.08, -118.35],\n",
       "                {}\n",
       "            ).addTo(map_ffc830d4db735b4e21de58186666cf54);\n",
       "        \n",
       "    \n",
       "            var marker_f7a2a91a1223bf836a56f22a0cc80785 = L.marker(\n",
       "                [34.1, -118.3],\n",
       "                {}\n",
       "            ).addTo(map_ffc830d4db735b4e21de58186666cf54);\n",
       "        \n",
       "    \n",
       "            var marker_754bb1378b67c3255efa93e0f310cf47 = L.marker(\n",
       "                [34.07, -118.23],\n",
       "                {}\n",
       "            ).addTo(map_ffc830d4db735b4e21de58186666cf54);\n",
       "        \n",
       "    \n",
       "            var marker_4c42fcf05379c5b10ebe0b9de9bbb3bf = L.marker(\n",
       "                [34.05, -118.26],\n",
       "                {}\n",
       "            ).addTo(map_ffc830d4db735b4e21de58186666cf54);\n",
       "        \n",
       "    \n",
       "            var marker_504631efe6a06cd02452ca2ab42c6dde = L.marker(\n",
       "                [34.14, -118.23],\n",
       "                {}\n",
       "            ).addTo(map_ffc830d4db735b4e21de58186666cf54);\n",
       "        \n",
       "    \n",
       "            var marker_c1775d2717617958259791c77e103b0f = L.marker(\n",
       "                [34.05, -118.26],\n",
       "                {}\n",
       "            ).addTo(map_ffc830d4db735b4e21de58186666cf54);\n",
       "        \n",
       "    \n",
       "            var marker_fb563213b572e0b84514979ee52b68c8 = L.marker(\n",
       "                [34.05, -118.26],\n",
       "                {}\n",
       "            ).addTo(map_ffc830d4db735b4e21de58186666cf54);\n",
       "        \n",
       "    \n",
       "            var marker_566bec9e5fa216a47be89d76ee030741 = L.marker(\n",
       "                [34.04, -118.24],\n",
       "                {}\n",
       "            ).addTo(map_ffc830d4db735b4e21de58186666cf54);\n",
       "        \n",
       "    \n",
       "            var marker_445f9d754607b210e0f45695907679b7 = L.marker(\n",
       "                [34.06, -118.24],\n",
       "                {}\n",
       "            ).addTo(map_ffc830d4db735b4e21de58186666cf54);\n",
       "        \n",
       "    \n",
       "            var marker_dfe4635e11b2d8cef13aa003176d25dc = L.marker(\n",
       "                [34.04, -118.24],\n",
       "                {}\n",
       "            ).addTo(map_ffc830d4db735b4e21de58186666cf54);\n",
       "        \n",
       "    \n",
       "            var marker_70802d65ea71cb4838e6d390c4720d22 = L.marker(\n",
       "                [34.05, -118.25],\n",
       "                {}\n",
       "            ).addTo(map_ffc830d4db735b4e21de58186666cf54);\n",
       "        \n",
       "    \n",
       "            var marker_8f0e5120f4046826ab4fba2264606cbd = L.marker(\n",
       "                [34.05, -118.26],\n",
       "                {}\n",
       "            ).addTo(map_ffc830d4db735b4e21de58186666cf54);\n",
       "        \n",
       "    \n",
       "            var marker_df2e3ce49cd5eba9778f39e8ad72bfea = L.marker(\n",
       "                [34.05, -118.26],\n",
       "                {}\n",
       "            ).addTo(map_ffc830d4db735b4e21de58186666cf54);\n",
       "        \n",
       "    \n",
       "            var marker_54a80eaaff61f62366c1459b7eace5e3 = L.marker(\n",
       "                [34.05, -118.25],\n",
       "                {}\n",
       "            ).addTo(map_ffc830d4db735b4e21de58186666cf54);\n",
       "        \n",
       "    \n",
       "            var marker_d3a5c95264311844df6395171cfc6634 = L.marker(\n",
       "                [34.05, -118.25],\n",
       "                {}\n",
       "            ).addTo(map_ffc830d4db735b4e21de58186666cf54);\n",
       "        \n",
       "    \n",
       "            var marker_893e0508745fff5d2311442f73eec79d = L.marker(\n",
       "                [34.05, -118.24],\n",
       "                {}\n",
       "            ).addTo(map_ffc830d4db735b4e21de58186666cf54);\n",
       "        \n",
       "    \n",
       "            var heat_map_da4230b3bbeb1576d19adaf6fdf8d873 = L.heatLayer(\n",
       "                [[34.01, -118.3], [34.05, -118.25], [34.17, -118.4], [34.22, -118.45], [34.05, -118.26], [34.04, -118.25], [34.07, -118.24], [34.04, -118.26], [34.06, -118.24], [34.05, -118.26], [34.05, -118.26], [34.05, -118.24], [34.2, -118.43], [34.08, -118.37], [34.05, -118.25], [34.05, -118.26], [34.04, -118.25], [34.07, -118.28], [34.05, -118.26], [34.05, -118.25], [34.05, -118.25], [34.05, -118.26], [34.06, -118.24], [34.04, -118.25], [34.05, -118.26], [34.03, -118.27], [34.06, -118.24], [34.05, -118.25], [34.05, -118.25], [34.05, -118.26], [34.05, -118.25], [34.04, -118.25], [34.05, -118.24], [34.05, -118.25], [34.05, -118.26], [34.06, -118.23], [34.04, -118.26], [34.06, -118.24], [34.05, -118.25], [34.04, -118.25], [34.05, -118.25], [34.03, -118.26], [34.05, -118.26], [34.04, -118.25], [34.05, -118.26], [34.06, -118.24], [34.18, -118.45], [34.05, -118.25], [34.04, -118.24], [34.04, -118.24], [34.05, -118.26], [34.05, -118.24], [34.05, -118.24], [34.04, -118.26], [34.05, -118.25], [34.04, -118.24], [34.06, -118.24], [34.05, -118.26], [34.05, -118.26], [34.04, -118.24], [33.81, -118.31], [34.05, -118.26], [34.01, -118.45], [34.05, -118.24], [34.05, -118.25], [34.04, -118.25], [34.05, -118.24], [34.04, -118.27], [34.05, -118.26], [34.04, -118.25], [34.05, -118.24], [34.05, -118.25], [34.05, -118.26], [34.05, -118.26], [34.04, -118.24], [34.05, -118.26], [34.04, -118.24], [34.05, -118.25], [34.05, -118.24], [34.04, -118.23], [34.05, -118.26], [34.04, -118.26], [34.04, -118.26], [34.08, -118.22], [34.04, -118.25], [34.01, -118.3], [34.06, -118.24], [34.04, -118.25], [34.04, -118.26], [34.06, -118.38], [34.05, -118.26], [34.06, -118.24], [34.04, -118.23], [34.05, -118.26], [34.04, -118.25], [34.05, -118.26], [34.05, -118.25], [34.05, -118.25], [34.05, -118.26], [34.06, -118.24], [34.05, -118.25], [34.04, -118.25], [34.07, -118.25], [34.07, -118.23], [34.05, -118.26], [34.05, -118.25], [34.04, -118.25], [34.06, -118.24], [34.04, -118.25], [34.05, -118.26], [34.05, -118.24], [34.04, -118.25], [34.04, -118.25], [34.04, -118.25], [34.04, -118.27], [34.06, -118.24], [34.05, -118.25], [34.05, -118.25], [34.06, -118.24], [34.04, -118.24], [34.06, -118.24], [34.04, -118.21], [34.04, -118.26], [34.05, -118.25], [34.04, -118.26], [34.03, -118.26], [34.05, -118.26], [34.05, -118.25], [34.05, -118.25], [34.11, -118.42], [34.05, -118.24], [34.06, -118.24], [34.04, -118.25], [34.06, -118.24], [34.04, -118.23], [34.05, -118.26], [34.04, -118.24], [34.05, -118.25], [34.05, -118.26], [34.05, -118.25], [34.04, -118.25], [34.06, -118.25], [34.05, -118.26], [34.03, -118.26], [34.04, -118.26], [34.12, -118.19], [34.05, -118.26], [34.05, -118.25], [34.05, -118.26], [34.05, -118.26], [34.04, -118.27], [34.06, -118.24], [34.05, -118.26], [34.05, -118.25], [34.05, -118.25], [34.04, -118.24], [34.04, -118.27], [34.04, -118.25], [34.04, -118.26], [34.05, -118.24], [34.04, -118.25], [34.05, -118.24], [34.04, -118.27], [34.05, -118.26], [34.05, -118.26], [34.04, -118.27], [34.05, -118.26], [34.05, -118.24], [34.05, -118.26], [34.04, -118.24], [34.07, -118.23], [34.06, -118.23], [34.06, -118.23], [34.05, -118.26], [34.05, -118.24], [34.06, -118.25], [34.05, -118.25], [34.05, -118.27], [34.04, -118.27], [34.05, -118.26], [34.07, -118.25], [34.05, -118.26], [34.04, -118.26], [34.05, -118.25], [34.05, -118.24], [34.04, -118.25], [34.04, -118.26], [34.04, -118.26], [34.04, -118.24], [34.05, -118.24], [34.04, -118.25], [34.04, -118.27], [34.27, -118.36], [34.05, -118.24], [34.05, -118.24], [34.05, -118.26], [34.04, -118.27], [34.05, -118.24], [34.06, -118.24], [34.05, -118.26], [34.04, -118.25], [34.05, -118.26], [34.06, -118.24], [34.05, -118.25], [34.05, -118.26], [34.07, -118.23], [34.06, -118.24], [34.06, -118.24], [34.04, -118.26], [34.03, -118.27], [34.05, -118.26], [34.05, -118.24], [34.1, -118.33], [34.1, -118.34], [34.02, -118.3], [34.06, -118.24], [34.05, -118.26], [34.04, -118.26], [34.05, -118.26], [34.04, -118.25], [34.05, -118.26], [34.05, -118.26], [34.04, -118.25], [34.23, -118.37], [34.06, -118.24], [34.04, -118.25], [34.05, -118.24], [34.04, -118.26], [34.04, -118.27], [34.05, -118.23], [34.05, -118.24], [34.05, -118.25], [34.04, -118.24], [34.04, -118.24], [34.05, -118.25], [34.04, -118.26], [34.04, -118.24], [34.05, -118.26], [34.05, -118.25], [34.04, -118.23], [34.05, -118.24], [34.06, -118.27], [34.05, -118.24], [34.05, -118.24], [34.05, -118.26], [34.04, -118.27], [34.04, -118.25], [34.04, -118.26], [34.05, -118.25], [34.06, -118.24], [34.04, -118.27], [34.04, -118.24], [34.05, -118.25], [34.04, -118.24], [34.05, -118.25], [34.04, -118.25], [34.05, -118.24], [34.05, -118.25], [34.04, -118.27], [34.07, -118.23], [34.03, -118.26], [34.06, -118.25], [34.04, -118.26], [34.06, -118.24], [34.05, -118.24], [34.05, -118.26], [34.05, -118.25], [34.05, -118.25], [34.06, -118.23], [34.06, -118.24], [34.06, -118.24], [34.05, -118.26], [34.07, -118.25], [34.05, -118.25], [34.04, -118.24], [34.04, -118.27], [34.06, -118.24], [34.05, -118.25], [34.04, -118.24], [34.04, -118.26], [34.05, -118.25], [34.04, -118.27], [34.04, -118.26], [34.05, -118.24], [34.2, -118.46], [34.06, -118.24], [34.05, -118.24], [34.21, -118.56], [34.05, -118.26], [34.04, -118.25], [34.04, -118.24], [34.05, -118.26], [34.05, -118.25], [34.05, -118.26], [34.05, -118.25], [34.05, -118.25], [34.05, -118.26], [34.04, -118.27], [34.05, -118.26], [34.05, -118.26], [34.05, -118.27], [34.05, -118.26], [34.05, -118.25], [34.05, -118.25], [34.04, -118.26], [34.06, -118.24], [34.04, -118.26], [34.05, -118.27], [34.05, -118.26], [34.05, -118.26], [33.78, -118.28], [34.05, -118.28], [34.04, -118.25], [34.04, -118.27], [34.05, -118.25], [34.05, -118.25], [34.06, -118.24], [34.05, -118.24], [34.1, -118.33], [34.04, -118.25], [34.04, -118.25], [33.72, -118.29], [34.05, -118.23], [34.06, -118.25], [34.04, -118.26], [34.08, -118.26], [34.04, -118.25], [34.04, -118.25], [33.79, -118.29], [33.98, -118.32], [34.21, -118.41], [34.1, -118.32], [34.08, -118.3], [34.05, -118.3], [34.28, -118.47], [33.71, -118.29], [34.06, -118.34], [34.14, -118.22], [34.02, -118.2], [34.06, -118.27], [34.05, -118.24], [34.06, -118.26], [34.05, -118.26], [33.85, -118.31], [34.21, -118.56], [34.07, -118.22], [34.1, -118.33], [33.78, -118.31], [34.11, -118.19], [34.04, -118.27], [33.74, -118.29], [33.98, -118.33], [33.99, -118.31], [34.11, -118.19], [34.09, -118.28], [33.99, -118.31], [34.08, -118.44], [34.11, -118.22], [34.02, -118.35], [34.05, -118.25], [34.05, -118.24], [34.14, -118.2], [34.04, -118.25], [34.06, -118.24], [33.74, -118.29], [34.06, -118.24], [34.05, -118.26], [34.05, -118.25], [34.04, -118.25], [34.05, -118.26], [34.06, -118.24], [34.06, -118.24], [34.04, -118.26], [34.06, -118.24], [34.05, -118.26], [34.05, -118.26], [34.05, -118.26], [34.05, -118.26], [34.05, -118.25], [34.05, -118.26], [34.04, -118.26], [34.05, -118.26], [34.05, -118.26], [34.04, -118.27], [34.04, -118.25], [34.04, -118.26], [34.05, -118.23], [34.05, -118.25], [34.04, -118.26], [34.04, -118.26], [34.05, -118.26], [34.05, -118.25], [34.06, -118.23], [34.05, -118.44], [34.09, -118.28], [34.04, -118.26], [34.05, -118.25], [34.05, -118.23], [34.04, -118.26], [34.05, -118.24], [33.99, -118.31], [34.04, -118.27], [34.06, -118.26], [34.05, -118.25], [34.06, -118.25], [34.04, -118.25], [34.05, -118.25], [34.05, -118.25], [34.05, -118.26], [34.05, -118.25], [34.04, -118.25], [34.05, -118.26], [34.04, -118.26], [34.04, -118.26], [34.05, -118.26], [34.05, -118.24], [34.04, -118.26], [33.96, -118.26], [34.05, -118.25], [34.05, -118.23], [34.05, -118.24], [34.05, -118.26], [34.04, -118.25], [34.06, -118.24], [34.05, -118.25], [34.05, -118.25], [34.04, -118.25], [34.05, -118.24], [34.09, -118.35], [34.13, -118.2], [34.05, -118.25], [34.05, -118.25], [34.05, -118.25], [34.04, -118.26], [34.06, -118.23], [34.05, -118.25], [34.04, -118.26], [34.06, -118.24], [34.06, -118.24], [34.05, -118.26], [34.04, -118.25], [34.04, -118.27], [34.05, -118.23], [33.75, -118.3], [34.16, -118.44], [34.05, -118.25], [34.04, -118.25], [34.05, -118.24], [34.06, -118.24], [34.05, -118.25], [34.05, -118.26], [34.05, -118.25], [34.05, -118.26], [33.74, -118.29], [34.05, -118.26], [34.05, -118.25], [34.06, -118.24], [33.8, -118.3], [34.04, -118.4], [34.05, -118.26], [34.04, -118.25], [34.06, -118.24], [34.04, -118.26], [34.07, -118.23], [34.04, -118.26], [34.04, -118.24], [34.05, -118.26], [34.04, -118.24], [34.04, -118.25], [34.04, -118.24], [34.04, -118.25], [34.07, -118.37], [34.07, -118.24], [34.05, -118.26], [34.11, -118.24], [34.05, -118.24], [34.05, -118.26], [34.05, -118.26], [34.05, -118.26], [34.05, -118.26], [34.06, -118.24], [34.05, -118.26], [34.07, -118.23], [34.08, -118.35], [34.1, -118.3], [34.07, -118.23], [34.05, -118.26], [34.14, -118.23], [34.05, -118.26], [34.05, -118.26], [34.04, -118.24], [34.06, -118.24], [34.04, -118.24], [34.05, -118.25], [34.05, -118.26], [34.05, -118.26], [34.05, -118.25], [34.05, -118.25], [34.05, -118.24]],\n",
       "                {&quot;blur&quot;: 15, &quot;maxZoom&quot;: 18, &quot;minOpacity&quot;: 0.5, &quot;radius&quot;: 25}\n",
       "            );\n",
       "        \n",
       "    \n",
       "            heat_map_da4230b3bbeb1576d19adaf6fdf8d873.addTo(map_ffc830d4db735b4e21de58186666cf54);\n",
       "        \n",
       "    \n",
       "            tile_layer_631fb6f9c686fce11679ad31b7c01e61.addTo(map_ffc830d4db735b4e21de58186666cf54);\n",
       "        \n",
       "    \n",
       "            heat_map_da4230b3bbeb1576d19adaf6fdf8d873.addTo(map_ffc830d4db735b4e21de58186666cf54);\n",
       "        \n",
       "&lt;/script&gt;\n",
       "&lt;/html&gt;\" style=\"position:absolute;width:100%;height:100%;left:0;top:0;border:none !important;\" allowfullscreen webkitallowfullscreen mozallowfullscreen></iframe></div></div>"
      ],
      "text/plain": [
       "<folium.folium.Map at 0x19644344500>"
      ]
     },
     "execution_count": 13,
     "metadata": {},
     "output_type": "execute_result"
    }
   ],
   "source": [
    "import folium\n",
    "from folium.plugins import HeatMap\n",
    "import pandas as pd\n",
    "query='select LAT,LON from crime_data'\n",
    "df=pd.read_sql(query,connection)\n",
    "crime_map= folium.Map(location=[df['LAT'].mean(),df['LON'].mean()],zoom_start=10)\n",
    "\n",
    "for _, row in df.iterrows():\n",
    "    folium.Marker(location=[row['LAT'],row['LON']]).add_to(crime_map)\n",
    "\n",
    "heatmap_data=[[row['LAT'],row['LON']] for _, row in df.iterrows()]\n",
    "HeatMap(heatmap_data).add_to(crime_map)\n",
    "\n",
    "crime_map.save('crime_map.html')\n",
    "crime_map"
   ]
  },
  {
   "cell_type": "markdown",
   "metadata": {},
   "source": [
    "All the crime hotspots are there...."
   ]
  },
  {
   "cell_type": "code",
   "execution_count": 14,
   "metadata": {},
   "outputs": [
    {
     "data": {
      "application/vnd.plotly.v1+json": {
       "config": {
        "plotlyServerURL": "https://plot.ly"
       },
       "data": [
        {
         "alignmentgroup": "True",
         "bingroup": "x",
         "hovertemplate": "Vict_Age=%{x}<br>count=%{y}<extra></extra>",
         "legendgroup": "",
         "marker": {
          "color": "#636efa",
          "pattern": {
           "shape": ""
          }
         },
         "name": "",
         "nbinsx": 15,
         "offsetgroup": "",
         "orientation": "v",
         "showlegend": false,
         "type": "histogram",
         "x": [
          36,
          25,
          76,
          31,
          23,
          23,
          29,
          35,
          41,
          24,
          40,
          19,
          38,
          55,
          66,
          34,
          35,
          44,
          41,
          57,
          34,
          57,
          55,
          23,
          55,
          22,
          28,
          43,
          46,
          56,
          55,
          55,
          67,
          57,
          37,
          60,
          51,
          52,
          61,
          36,
          59,
          32,
          44,
          60,
          31,
          30,
          50,
          40,
          34,
          45,
          62,
          20,
          31,
          51,
          23,
          29,
          58,
          24,
          51,
          41,
          32,
          23,
          35,
          28,
          58,
          57,
          27,
          30,
          30,
          31,
          24,
          48,
          40,
          57,
          32,
          58,
          18,
          25,
          37,
          67,
          26,
          47,
          21,
          26,
          64,
          26,
          31,
          39,
          25,
          28,
          75,
          32,
          30,
          28,
          56,
          35,
          28,
          19,
          43,
          12,
          43,
          59,
          34,
          38,
          37,
          61,
          49,
          22,
          43,
          71,
          71,
          55,
          19,
          68,
          38,
          48,
          69,
          50,
          13,
          61,
          50,
          26,
          26,
          45,
          36,
          24,
          50,
          25,
          27,
          33,
          53,
          38,
          23,
          74,
          23,
          26,
          23,
          57,
          25,
          34,
          35,
          38,
          29,
          24,
          26,
          56,
          26,
          47,
          29,
          29,
          32,
          30,
          62,
          71,
          53,
          31,
          49,
          38,
          55,
          43,
          64,
          56,
          30,
          35,
          36,
          25,
          67,
          37,
          40,
          59,
          34,
          20,
          69,
          58,
          33,
          28,
          31,
          38,
          25,
          34,
          41,
          49,
          20,
          30,
          27,
          32,
          39,
          35,
          64,
          57,
          34,
          29,
          27,
          53,
          46,
          55,
          33,
          27,
          48,
          30,
          26,
          26,
          28,
          36,
          33,
          27,
          48,
          28,
          58,
          51,
          64,
          32,
          32,
          39,
          38,
          29,
          38,
          20,
          57,
          65,
          22,
          22,
          30,
          30,
          65,
          28,
          41,
          28,
          35,
          35,
          38,
          32,
          39,
          57,
          56,
          29,
          45,
          47,
          30,
          45,
          34,
          57,
          45,
          28,
          62,
          21,
          27,
          26,
          26,
          29,
          23,
          38,
          27,
          35,
          60,
          26,
          36,
          45,
          20,
          19,
          54,
          44,
          26,
          22,
          32,
          22,
          21,
          32,
          28,
          22,
          31,
          30,
          22,
          53,
          8,
          31,
          29,
          60,
          56,
          38,
          57,
          54,
          9,
          19,
          48,
          37,
          33,
          30,
          48,
          29,
          68,
          63,
          37,
          59,
          45,
          60,
          52,
          39,
          35,
          40,
          62,
          29,
          44,
          36,
          26,
          45,
          36,
          19,
          17,
          24,
          23,
          31,
          27,
          30,
          25,
          25,
          22,
          23,
          27,
          35,
          40,
          38,
          22,
          37,
          28,
          73,
          12,
          30,
          24,
          42,
          59,
          32,
          37,
          33,
          25,
          53,
          50,
          61,
          26,
          29,
          44,
          18,
          24,
          22,
          27,
          29,
          42,
          35,
          56,
          42,
          72,
          25,
          73,
          49,
          70,
          22,
          28,
          26,
          23,
          41,
          26,
          31,
          67,
          67,
          41,
          28,
          51,
          33,
          46,
          52,
          56,
          40,
          35,
          57,
          23,
          31,
          28,
          26,
          66,
          39,
          32,
          63,
          55,
          58,
          58,
          24,
          25,
          61,
          23,
          45,
          33,
          78,
          24,
          43,
          35,
          27,
          49,
          62,
          35,
          48,
          31,
          57,
          23,
          56,
          75,
          33,
          25,
          35,
          72
         ],
         "xaxis": "x",
         "yaxis": "y"
        }
       ],
       "layout": {
        "barmode": "relative",
        "legend": {
         "tracegroupgap": 0
        },
        "template": {
         "data": {
          "bar": [
           {
            "error_x": {
             "color": "#2a3f5f"
            },
            "error_y": {
             "color": "#2a3f5f"
            },
            "marker": {
             "line": {
              "color": "#E5ECF6",
              "width": 0.5
             },
             "pattern": {
              "fillmode": "overlay",
              "size": 10,
              "solidity": 0.2
             }
            },
            "type": "bar"
           }
          ],
          "barpolar": [
           {
            "marker": {
             "line": {
              "color": "#E5ECF6",
              "width": 0.5
             },
             "pattern": {
              "fillmode": "overlay",
              "size": 10,
              "solidity": 0.2
             }
            },
            "type": "barpolar"
           }
          ],
          "carpet": [
           {
            "aaxis": {
             "endlinecolor": "#2a3f5f",
             "gridcolor": "white",
             "linecolor": "white",
             "minorgridcolor": "white",
             "startlinecolor": "#2a3f5f"
            },
            "baxis": {
             "endlinecolor": "#2a3f5f",
             "gridcolor": "white",
             "linecolor": "white",
             "minorgridcolor": "white",
             "startlinecolor": "#2a3f5f"
            },
            "type": "carpet"
           }
          ],
          "choropleth": [
           {
            "colorbar": {
             "outlinewidth": 0,
             "ticks": ""
            },
            "type": "choropleth"
           }
          ],
          "contour": [
           {
            "colorbar": {
             "outlinewidth": 0,
             "ticks": ""
            },
            "colorscale": [
             [
              0,
              "#0d0887"
             ],
             [
              0.1111111111111111,
              "#46039f"
             ],
             [
              0.2222222222222222,
              "#7201a8"
             ],
             [
              0.3333333333333333,
              "#9c179e"
             ],
             [
              0.4444444444444444,
              "#bd3786"
             ],
             [
              0.5555555555555556,
              "#d8576b"
             ],
             [
              0.6666666666666666,
              "#ed7953"
             ],
             [
              0.7777777777777778,
              "#fb9f3a"
             ],
             [
              0.8888888888888888,
              "#fdca26"
             ],
             [
              1,
              "#f0f921"
             ]
            ],
            "type": "contour"
           }
          ],
          "contourcarpet": [
           {
            "colorbar": {
             "outlinewidth": 0,
             "ticks": ""
            },
            "type": "contourcarpet"
           }
          ],
          "heatmap": [
           {
            "colorbar": {
             "outlinewidth": 0,
             "ticks": ""
            },
            "colorscale": [
             [
              0,
              "#0d0887"
             ],
             [
              0.1111111111111111,
              "#46039f"
             ],
             [
              0.2222222222222222,
              "#7201a8"
             ],
             [
              0.3333333333333333,
              "#9c179e"
             ],
             [
              0.4444444444444444,
              "#bd3786"
             ],
             [
              0.5555555555555556,
              "#d8576b"
             ],
             [
              0.6666666666666666,
              "#ed7953"
             ],
             [
              0.7777777777777778,
              "#fb9f3a"
             ],
             [
              0.8888888888888888,
              "#fdca26"
             ],
             [
              1,
              "#f0f921"
             ]
            ],
            "type": "heatmap"
           }
          ],
          "heatmapgl": [
           {
            "colorbar": {
             "outlinewidth": 0,
             "ticks": ""
            },
            "colorscale": [
             [
              0,
              "#0d0887"
             ],
             [
              0.1111111111111111,
              "#46039f"
             ],
             [
              0.2222222222222222,
              "#7201a8"
             ],
             [
              0.3333333333333333,
              "#9c179e"
             ],
             [
              0.4444444444444444,
              "#bd3786"
             ],
             [
              0.5555555555555556,
              "#d8576b"
             ],
             [
              0.6666666666666666,
              "#ed7953"
             ],
             [
              0.7777777777777778,
              "#fb9f3a"
             ],
             [
              0.8888888888888888,
              "#fdca26"
             ],
             [
              1,
              "#f0f921"
             ]
            ],
            "type": "heatmapgl"
           }
          ],
          "histogram": [
           {
            "marker": {
             "pattern": {
              "fillmode": "overlay",
              "size": 10,
              "solidity": 0.2
             }
            },
            "type": "histogram"
           }
          ],
          "histogram2d": [
           {
            "colorbar": {
             "outlinewidth": 0,
             "ticks": ""
            },
            "colorscale": [
             [
              0,
              "#0d0887"
             ],
             [
              0.1111111111111111,
              "#46039f"
             ],
             [
              0.2222222222222222,
              "#7201a8"
             ],
             [
              0.3333333333333333,
              "#9c179e"
             ],
             [
              0.4444444444444444,
              "#bd3786"
             ],
             [
              0.5555555555555556,
              "#d8576b"
             ],
             [
              0.6666666666666666,
              "#ed7953"
             ],
             [
              0.7777777777777778,
              "#fb9f3a"
             ],
             [
              0.8888888888888888,
              "#fdca26"
             ],
             [
              1,
              "#f0f921"
             ]
            ],
            "type": "histogram2d"
           }
          ],
          "histogram2dcontour": [
           {
            "colorbar": {
             "outlinewidth": 0,
             "ticks": ""
            },
            "colorscale": [
             [
              0,
              "#0d0887"
             ],
             [
              0.1111111111111111,
              "#46039f"
             ],
             [
              0.2222222222222222,
              "#7201a8"
             ],
             [
              0.3333333333333333,
              "#9c179e"
             ],
             [
              0.4444444444444444,
              "#bd3786"
             ],
             [
              0.5555555555555556,
              "#d8576b"
             ],
             [
              0.6666666666666666,
              "#ed7953"
             ],
             [
              0.7777777777777778,
              "#fb9f3a"
             ],
             [
              0.8888888888888888,
              "#fdca26"
             ],
             [
              1,
              "#f0f921"
             ]
            ],
            "type": "histogram2dcontour"
           }
          ],
          "mesh3d": [
           {
            "colorbar": {
             "outlinewidth": 0,
             "ticks": ""
            },
            "type": "mesh3d"
           }
          ],
          "parcoords": [
           {
            "line": {
             "colorbar": {
              "outlinewidth": 0,
              "ticks": ""
             }
            },
            "type": "parcoords"
           }
          ],
          "pie": [
           {
            "automargin": true,
            "type": "pie"
           }
          ],
          "scatter": [
           {
            "fillpattern": {
             "fillmode": "overlay",
             "size": 10,
             "solidity": 0.2
            },
            "type": "scatter"
           }
          ],
          "scatter3d": [
           {
            "line": {
             "colorbar": {
              "outlinewidth": 0,
              "ticks": ""
             }
            },
            "marker": {
             "colorbar": {
              "outlinewidth": 0,
              "ticks": ""
             }
            },
            "type": "scatter3d"
           }
          ],
          "scattercarpet": [
           {
            "marker": {
             "colorbar": {
              "outlinewidth": 0,
              "ticks": ""
             }
            },
            "type": "scattercarpet"
           }
          ],
          "scattergeo": [
           {
            "marker": {
             "colorbar": {
              "outlinewidth": 0,
              "ticks": ""
             }
            },
            "type": "scattergeo"
           }
          ],
          "scattergl": [
           {
            "marker": {
             "colorbar": {
              "outlinewidth": 0,
              "ticks": ""
             }
            },
            "type": "scattergl"
           }
          ],
          "scattermapbox": [
           {
            "marker": {
             "colorbar": {
              "outlinewidth": 0,
              "ticks": ""
             }
            },
            "type": "scattermapbox"
           }
          ],
          "scatterpolar": [
           {
            "marker": {
             "colorbar": {
              "outlinewidth": 0,
              "ticks": ""
             }
            },
            "type": "scatterpolar"
           }
          ],
          "scatterpolargl": [
           {
            "marker": {
             "colorbar": {
              "outlinewidth": 0,
              "ticks": ""
             }
            },
            "type": "scatterpolargl"
           }
          ],
          "scatterternary": [
           {
            "marker": {
             "colorbar": {
              "outlinewidth": 0,
              "ticks": ""
             }
            },
            "type": "scatterternary"
           }
          ],
          "surface": [
           {
            "colorbar": {
             "outlinewidth": 0,
             "ticks": ""
            },
            "colorscale": [
             [
              0,
              "#0d0887"
             ],
             [
              0.1111111111111111,
              "#46039f"
             ],
             [
              0.2222222222222222,
              "#7201a8"
             ],
             [
              0.3333333333333333,
              "#9c179e"
             ],
             [
              0.4444444444444444,
              "#bd3786"
             ],
             [
              0.5555555555555556,
              "#d8576b"
             ],
             [
              0.6666666666666666,
              "#ed7953"
             ],
             [
              0.7777777777777778,
              "#fb9f3a"
             ],
             [
              0.8888888888888888,
              "#fdca26"
             ],
             [
              1,
              "#f0f921"
             ]
            ],
            "type": "surface"
           }
          ],
          "table": [
           {
            "cells": {
             "fill": {
              "color": "#EBF0F8"
             },
             "line": {
              "color": "white"
             }
            },
            "header": {
             "fill": {
              "color": "#C8D4E3"
             },
             "line": {
              "color": "white"
             }
            },
            "type": "table"
           }
          ]
         },
         "layout": {
          "annotationdefaults": {
           "arrowcolor": "#2a3f5f",
           "arrowhead": 0,
           "arrowwidth": 1
          },
          "autotypenumbers": "strict",
          "coloraxis": {
           "colorbar": {
            "outlinewidth": 0,
            "ticks": ""
           }
          },
          "colorscale": {
           "diverging": [
            [
             0,
             "#8e0152"
            ],
            [
             0.1,
             "#c51b7d"
            ],
            [
             0.2,
             "#de77ae"
            ],
            [
             0.3,
             "#f1b6da"
            ],
            [
             0.4,
             "#fde0ef"
            ],
            [
             0.5,
             "#f7f7f7"
            ],
            [
             0.6,
             "#e6f5d0"
            ],
            [
             0.7,
             "#b8e186"
            ],
            [
             0.8,
             "#7fbc41"
            ],
            [
             0.9,
             "#4d9221"
            ],
            [
             1,
             "#276419"
            ]
           ],
           "sequential": [
            [
             0,
             "#0d0887"
            ],
            [
             0.1111111111111111,
             "#46039f"
            ],
            [
             0.2222222222222222,
             "#7201a8"
            ],
            [
             0.3333333333333333,
             "#9c179e"
            ],
            [
             0.4444444444444444,
             "#bd3786"
            ],
            [
             0.5555555555555556,
             "#d8576b"
            ],
            [
             0.6666666666666666,
             "#ed7953"
            ],
            [
             0.7777777777777778,
             "#fb9f3a"
            ],
            [
             0.8888888888888888,
             "#fdca26"
            ],
            [
             1,
             "#f0f921"
            ]
           ],
           "sequentialminus": [
            [
             0,
             "#0d0887"
            ],
            [
             0.1111111111111111,
             "#46039f"
            ],
            [
             0.2222222222222222,
             "#7201a8"
            ],
            [
             0.3333333333333333,
             "#9c179e"
            ],
            [
             0.4444444444444444,
             "#bd3786"
            ],
            [
             0.5555555555555556,
             "#d8576b"
            ],
            [
             0.6666666666666666,
             "#ed7953"
            ],
            [
             0.7777777777777778,
             "#fb9f3a"
            ],
            [
             0.8888888888888888,
             "#fdca26"
            ],
            [
             1,
             "#f0f921"
            ]
           ]
          },
          "colorway": [
           "#636efa",
           "#EF553B",
           "#00cc96",
           "#ab63fa",
           "#FFA15A",
           "#19d3f3",
           "#FF6692",
           "#B6E880",
           "#FF97FF",
           "#FECB52"
          ],
          "font": {
           "color": "#2a3f5f"
          },
          "geo": {
           "bgcolor": "white",
           "lakecolor": "white",
           "landcolor": "#E5ECF6",
           "showlakes": true,
           "showland": true,
           "subunitcolor": "white"
          },
          "hoverlabel": {
           "align": "left"
          },
          "hovermode": "closest",
          "mapbox": {
           "style": "light"
          },
          "paper_bgcolor": "white",
          "plot_bgcolor": "#E5ECF6",
          "polar": {
           "angularaxis": {
            "gridcolor": "white",
            "linecolor": "white",
            "ticks": ""
           },
           "bgcolor": "#E5ECF6",
           "radialaxis": {
            "gridcolor": "white",
            "linecolor": "white",
            "ticks": ""
           }
          },
          "scene": {
           "xaxis": {
            "backgroundcolor": "#E5ECF6",
            "gridcolor": "white",
            "gridwidth": 2,
            "linecolor": "white",
            "showbackground": true,
            "ticks": "",
            "zerolinecolor": "white"
           },
           "yaxis": {
            "backgroundcolor": "#E5ECF6",
            "gridcolor": "white",
            "gridwidth": 2,
            "linecolor": "white",
            "showbackground": true,
            "ticks": "",
            "zerolinecolor": "white"
           },
           "zaxis": {
            "backgroundcolor": "#E5ECF6",
            "gridcolor": "white",
            "gridwidth": 2,
            "linecolor": "white",
            "showbackground": true,
            "ticks": "",
            "zerolinecolor": "white"
           }
          },
          "shapedefaults": {
           "line": {
            "color": "#2a3f5f"
           }
          },
          "ternary": {
           "aaxis": {
            "gridcolor": "white",
            "linecolor": "white",
            "ticks": ""
           },
           "baxis": {
            "gridcolor": "white",
            "linecolor": "white",
            "ticks": ""
           },
           "bgcolor": "#E5ECF6",
           "caxis": {
            "gridcolor": "white",
            "linecolor": "white",
            "ticks": ""
           }
          },
          "title": {
           "x": 0.05
          },
          "xaxis": {
           "automargin": true,
           "gridcolor": "white",
           "linecolor": "white",
           "ticks": "",
           "title": {
            "standoff": 15
           },
           "zerolinecolor": "white",
           "zerolinewidth": 2
          },
          "yaxis": {
           "automargin": true,
           "gridcolor": "white",
           "linecolor": "white",
           "ticks": "",
           "title": {
            "standoff": 15
           },
           "zerolinecolor": "white",
           "zerolinewidth": 2
          }
         }
        },
        "title": {
         "text": "Distribution of victim Ages"
        },
        "xaxis": {
         "anchor": "y",
         "domain": [
          0,
          1
         ],
         "title": {
          "text": "Age"
         }
        },
        "yaxis": {
         "anchor": "x",
         "domain": [
          0,
          1
         ],
         "title": {
          "text": "Frequency"
         }
        }
       }
      }
     },
     "metadata": {},
     "output_type": "display_data"
    }
   ],
   "source": [
    "import seaborn as sns\n",
    "query='''SELECT Vict_Age,Vict_Sex\n",
    "FROM crime_data\n",
    "where Vict_Age >0'''\n",
    "df=pd.read_sql(query,connection)\n",
    "\n",
    "#handling missing values\n",
    "df.dropna(subset=['Vict_Age','Vict_Sex'],inplace=True)\n",
    "\n",
    "#Distribution of victim Ages\n",
    "histogram_fig = px.histogram(df, x='Vict_Age', title='Distribution of victim Ages', nbins=15)\n",
    "histogram_fig.update_xaxes(title_text='Age')\n",
    "histogram_fig.update_yaxes(title_text='Frequency')\n",
    "histogram_fig.show()\n"
   ]
  },
  {
   "cell_type": "markdown",
   "metadata": {},
   "source": [
    "Most victim's Age is b/w 25-29"
   ]
  },
  {
   "cell_type": "code",
   "execution_count": 15,
   "metadata": {},
   "outputs": [
    {
     "data": {
      "application/vnd.plotly.v1+json": {
       "config": {
        "plotlyServerURL": "https://plot.ly"
       },
       "data": [
        {
         "alignmentgroup": "True",
         "bingroup": "x",
         "hovertemplate": "Vict_Sex=%{x}<br>count=%{y}<extra></extra>",
         "legendgroup": "F",
         "marker": {
          "color": "#636efa",
          "pattern": {
           "shape": ""
          }
         },
         "name": "F",
         "nbinsx": 15,
         "offsetgroup": "F",
         "orientation": "v",
         "showlegend": true,
         "type": "histogram",
         "x": [
          "F",
          "F",
          "F",
          "F",
          "F",
          "F",
          "F",
          "F",
          "F",
          "F",
          "F",
          "F",
          "F",
          "F",
          "F",
          "F",
          "F",
          "F",
          "F",
          "F",
          "F",
          "F",
          "F",
          "F",
          "F",
          "F",
          "F",
          "F",
          "F",
          "F",
          "F",
          "F",
          "F",
          "F",
          "F",
          "F",
          "F",
          "F",
          "F",
          "F",
          "F",
          "F",
          "F",
          "F",
          "F",
          "F",
          "F",
          "F",
          "F",
          "F",
          "F",
          "F",
          "F",
          "F",
          "F",
          "F",
          "F",
          "F",
          "F",
          "F",
          "F",
          "F",
          "F",
          "F",
          "F",
          "F",
          "F",
          "F",
          "F",
          "F",
          "F",
          "F",
          "F",
          "F",
          "F",
          "F",
          "F",
          "F",
          "F",
          "F",
          "F",
          "F",
          "F",
          "F",
          "F",
          "F",
          "F",
          "F",
          "F",
          "F",
          "F",
          "F",
          "F",
          "F",
          "F",
          "F",
          "F",
          "F",
          "F",
          "F",
          "F",
          "F",
          "F",
          "F",
          "F",
          "F",
          "F",
          "F",
          "F",
          "F",
          "F",
          "F",
          "F",
          "F",
          "F",
          "F",
          "F",
          "F",
          "F",
          "F",
          "F",
          "F",
          "F",
          "F",
          "F",
          "F",
          "F",
          "F",
          "F",
          "F",
          "F",
          "F",
          "F",
          "F",
          "F",
          "F",
          "F",
          "F",
          "F",
          "F",
          "F",
          "F",
          "F",
          "F",
          "F",
          "F",
          "F",
          "F",
          "F"
         ],
         "xaxis": "x",
         "yaxis": "y"
        },
        {
         "alignmentgroup": "True",
         "bingroup": "x",
         "hovertemplate": "Vict_Sex=%{x}<br>count=%{y}<extra></extra>",
         "legendgroup": "M",
         "marker": {
          "color": "#EF553B",
          "pattern": {
           "shape": ""
          }
         },
         "name": "M",
         "nbinsx": 15,
         "offsetgroup": "M",
         "orientation": "v",
         "showlegend": true,
         "type": "histogram",
         "x": [
          "M",
          "M",
          "M",
          "M",
          "M",
          "M",
          "M",
          "M",
          "M",
          "M",
          "M",
          "M",
          "M",
          "M",
          "M",
          "M",
          "M",
          "M",
          "M",
          "M",
          "M",
          "M",
          "M",
          "M",
          "M",
          "M",
          "M",
          "M",
          "M",
          "M",
          "M",
          "M",
          "M",
          "M",
          "M",
          "M",
          "M",
          "M",
          "M",
          "M",
          "M",
          "M",
          "M",
          "M",
          "M",
          "M",
          "M",
          "M",
          "M",
          "M",
          "M",
          "M",
          "M",
          "M",
          "M",
          "M",
          "M",
          "M",
          "M",
          "M",
          "M",
          "M",
          "M",
          "M",
          "M",
          "M",
          "M",
          "M",
          "M",
          "M",
          "M",
          "M",
          "M",
          "M",
          "M",
          "M",
          "M",
          "M",
          "M",
          "M",
          "M",
          "M",
          "M",
          "M",
          "M",
          "M",
          "M",
          "M",
          "M",
          "M",
          "M",
          "M",
          "M",
          "M",
          "M",
          "M",
          "M",
          "M",
          "M",
          "M",
          "M",
          "M",
          "M",
          "M",
          "M",
          "M",
          "M",
          "M",
          "M",
          "M",
          "M",
          "M",
          "M",
          "M",
          "M",
          "M",
          "M",
          "M",
          "M",
          "M",
          "M",
          "M",
          "M",
          "M",
          "M",
          "M",
          "M",
          "M",
          "M",
          "M",
          "M",
          "M",
          "M",
          "M",
          "M",
          "M",
          "M",
          "M",
          "M",
          "M",
          "M",
          "M",
          "M",
          "M",
          "M",
          "M",
          "M",
          "M",
          "M",
          "M",
          "M",
          "M",
          "M",
          "M",
          "M",
          "M",
          "M",
          "M",
          "M",
          "M",
          "M",
          "M",
          "M",
          "M",
          "M",
          "M",
          "M",
          "M",
          "M",
          "M",
          "M",
          "M",
          "M",
          "M",
          "M",
          "M",
          "M",
          "M",
          "M",
          "M",
          "M",
          "M",
          "M",
          "M",
          "M",
          "M",
          "M",
          "M",
          "M",
          "M",
          "M",
          "M",
          "M",
          "M",
          "M",
          "M",
          "M",
          "M",
          "M",
          "M",
          "M",
          "M",
          "M",
          "M",
          "M",
          "M",
          "M",
          "M",
          "M",
          "M",
          "M",
          "M",
          "M",
          "M",
          "M",
          "M",
          "M",
          "M",
          "M",
          "M",
          "M",
          "M",
          "M",
          "M",
          "M",
          "M",
          "M",
          "M",
          "M",
          "M",
          "M",
          "M",
          "M",
          "M",
          "M",
          "M",
          "M",
          "M",
          "M",
          "M",
          "M",
          "M",
          "M",
          "M",
          "M",
          "M",
          "M",
          "M",
          "M",
          "M",
          "M",
          "M",
          "M",
          "M",
          "M",
          "M",
          "M"
         ],
         "xaxis": "x",
         "yaxis": "y"
        },
        {
         "alignmentgroup": "True",
         "bingroup": "x",
         "hovertemplate": "Vict_Sex=%{x}<br>count=%{y}<extra></extra>",
         "legendgroup": "X",
         "marker": {
          "color": "#00cc96",
          "pattern": {
           "shape": ""
          }
         },
         "name": "X",
         "nbinsx": 15,
         "offsetgroup": "X",
         "orientation": "v",
         "showlegend": true,
         "type": "histogram",
         "x": [
          "X",
          "X",
          "X"
         ],
         "xaxis": "x",
         "yaxis": "y"
        }
       ],
       "layout": {
        "barmode": "relative",
        "legend": {
         "title": {
          "text": "Vict_Sex"
         },
         "tracegroupgap": 0
        },
        "template": {
         "data": {
          "bar": [
           {
            "error_x": {
             "color": "#2a3f5f"
            },
            "error_y": {
             "color": "#2a3f5f"
            },
            "marker": {
             "line": {
              "color": "#E5ECF6",
              "width": 0.5
             },
             "pattern": {
              "fillmode": "overlay",
              "size": 10,
              "solidity": 0.2
             }
            },
            "type": "bar"
           }
          ],
          "barpolar": [
           {
            "marker": {
             "line": {
              "color": "#E5ECF6",
              "width": 0.5
             },
             "pattern": {
              "fillmode": "overlay",
              "size": 10,
              "solidity": 0.2
             }
            },
            "type": "barpolar"
           }
          ],
          "carpet": [
           {
            "aaxis": {
             "endlinecolor": "#2a3f5f",
             "gridcolor": "white",
             "linecolor": "white",
             "minorgridcolor": "white",
             "startlinecolor": "#2a3f5f"
            },
            "baxis": {
             "endlinecolor": "#2a3f5f",
             "gridcolor": "white",
             "linecolor": "white",
             "minorgridcolor": "white",
             "startlinecolor": "#2a3f5f"
            },
            "type": "carpet"
           }
          ],
          "choropleth": [
           {
            "colorbar": {
             "outlinewidth": 0,
             "ticks": ""
            },
            "type": "choropleth"
           }
          ],
          "contour": [
           {
            "colorbar": {
             "outlinewidth": 0,
             "ticks": ""
            },
            "colorscale": [
             [
              0,
              "#0d0887"
             ],
             [
              0.1111111111111111,
              "#46039f"
             ],
             [
              0.2222222222222222,
              "#7201a8"
             ],
             [
              0.3333333333333333,
              "#9c179e"
             ],
             [
              0.4444444444444444,
              "#bd3786"
             ],
             [
              0.5555555555555556,
              "#d8576b"
             ],
             [
              0.6666666666666666,
              "#ed7953"
             ],
             [
              0.7777777777777778,
              "#fb9f3a"
             ],
             [
              0.8888888888888888,
              "#fdca26"
             ],
             [
              1,
              "#f0f921"
             ]
            ],
            "type": "contour"
           }
          ],
          "contourcarpet": [
           {
            "colorbar": {
             "outlinewidth": 0,
             "ticks": ""
            },
            "type": "contourcarpet"
           }
          ],
          "heatmap": [
           {
            "colorbar": {
             "outlinewidth": 0,
             "ticks": ""
            },
            "colorscale": [
             [
              0,
              "#0d0887"
             ],
             [
              0.1111111111111111,
              "#46039f"
             ],
             [
              0.2222222222222222,
              "#7201a8"
             ],
             [
              0.3333333333333333,
              "#9c179e"
             ],
             [
              0.4444444444444444,
              "#bd3786"
             ],
             [
              0.5555555555555556,
              "#d8576b"
             ],
             [
              0.6666666666666666,
              "#ed7953"
             ],
             [
              0.7777777777777778,
              "#fb9f3a"
             ],
             [
              0.8888888888888888,
              "#fdca26"
             ],
             [
              1,
              "#f0f921"
             ]
            ],
            "type": "heatmap"
           }
          ],
          "heatmapgl": [
           {
            "colorbar": {
             "outlinewidth": 0,
             "ticks": ""
            },
            "colorscale": [
             [
              0,
              "#0d0887"
             ],
             [
              0.1111111111111111,
              "#46039f"
             ],
             [
              0.2222222222222222,
              "#7201a8"
             ],
             [
              0.3333333333333333,
              "#9c179e"
             ],
             [
              0.4444444444444444,
              "#bd3786"
             ],
             [
              0.5555555555555556,
              "#d8576b"
             ],
             [
              0.6666666666666666,
              "#ed7953"
             ],
             [
              0.7777777777777778,
              "#fb9f3a"
             ],
             [
              0.8888888888888888,
              "#fdca26"
             ],
             [
              1,
              "#f0f921"
             ]
            ],
            "type": "heatmapgl"
           }
          ],
          "histogram": [
           {
            "marker": {
             "pattern": {
              "fillmode": "overlay",
              "size": 10,
              "solidity": 0.2
             }
            },
            "type": "histogram"
           }
          ],
          "histogram2d": [
           {
            "colorbar": {
             "outlinewidth": 0,
             "ticks": ""
            },
            "colorscale": [
             [
              0,
              "#0d0887"
             ],
             [
              0.1111111111111111,
              "#46039f"
             ],
             [
              0.2222222222222222,
              "#7201a8"
             ],
             [
              0.3333333333333333,
              "#9c179e"
             ],
             [
              0.4444444444444444,
              "#bd3786"
             ],
             [
              0.5555555555555556,
              "#d8576b"
             ],
             [
              0.6666666666666666,
              "#ed7953"
             ],
             [
              0.7777777777777778,
              "#fb9f3a"
             ],
             [
              0.8888888888888888,
              "#fdca26"
             ],
             [
              1,
              "#f0f921"
             ]
            ],
            "type": "histogram2d"
           }
          ],
          "histogram2dcontour": [
           {
            "colorbar": {
             "outlinewidth": 0,
             "ticks": ""
            },
            "colorscale": [
             [
              0,
              "#0d0887"
             ],
             [
              0.1111111111111111,
              "#46039f"
             ],
             [
              0.2222222222222222,
              "#7201a8"
             ],
             [
              0.3333333333333333,
              "#9c179e"
             ],
             [
              0.4444444444444444,
              "#bd3786"
             ],
             [
              0.5555555555555556,
              "#d8576b"
             ],
             [
              0.6666666666666666,
              "#ed7953"
             ],
             [
              0.7777777777777778,
              "#fb9f3a"
             ],
             [
              0.8888888888888888,
              "#fdca26"
             ],
             [
              1,
              "#f0f921"
             ]
            ],
            "type": "histogram2dcontour"
           }
          ],
          "mesh3d": [
           {
            "colorbar": {
             "outlinewidth": 0,
             "ticks": ""
            },
            "type": "mesh3d"
           }
          ],
          "parcoords": [
           {
            "line": {
             "colorbar": {
              "outlinewidth": 0,
              "ticks": ""
             }
            },
            "type": "parcoords"
           }
          ],
          "pie": [
           {
            "automargin": true,
            "type": "pie"
           }
          ],
          "scatter": [
           {
            "fillpattern": {
             "fillmode": "overlay",
             "size": 10,
             "solidity": 0.2
            },
            "type": "scatter"
           }
          ],
          "scatter3d": [
           {
            "line": {
             "colorbar": {
              "outlinewidth": 0,
              "ticks": ""
             }
            },
            "marker": {
             "colorbar": {
              "outlinewidth": 0,
              "ticks": ""
             }
            },
            "type": "scatter3d"
           }
          ],
          "scattercarpet": [
           {
            "marker": {
             "colorbar": {
              "outlinewidth": 0,
              "ticks": ""
             }
            },
            "type": "scattercarpet"
           }
          ],
          "scattergeo": [
           {
            "marker": {
             "colorbar": {
              "outlinewidth": 0,
              "ticks": ""
             }
            },
            "type": "scattergeo"
           }
          ],
          "scattergl": [
           {
            "marker": {
             "colorbar": {
              "outlinewidth": 0,
              "ticks": ""
             }
            },
            "type": "scattergl"
           }
          ],
          "scattermapbox": [
           {
            "marker": {
             "colorbar": {
              "outlinewidth": 0,
              "ticks": ""
             }
            },
            "type": "scattermapbox"
           }
          ],
          "scatterpolar": [
           {
            "marker": {
             "colorbar": {
              "outlinewidth": 0,
              "ticks": ""
             }
            },
            "type": "scatterpolar"
           }
          ],
          "scatterpolargl": [
           {
            "marker": {
             "colorbar": {
              "outlinewidth": 0,
              "ticks": ""
             }
            },
            "type": "scatterpolargl"
           }
          ],
          "scatterternary": [
           {
            "marker": {
             "colorbar": {
              "outlinewidth": 0,
              "ticks": ""
             }
            },
            "type": "scatterternary"
           }
          ],
          "surface": [
           {
            "colorbar": {
             "outlinewidth": 0,
             "ticks": ""
            },
            "colorscale": [
             [
              0,
              "#0d0887"
             ],
             [
              0.1111111111111111,
              "#46039f"
             ],
             [
              0.2222222222222222,
              "#7201a8"
             ],
             [
              0.3333333333333333,
              "#9c179e"
             ],
             [
              0.4444444444444444,
              "#bd3786"
             ],
             [
              0.5555555555555556,
              "#d8576b"
             ],
             [
              0.6666666666666666,
              "#ed7953"
             ],
             [
              0.7777777777777778,
              "#fb9f3a"
             ],
             [
              0.8888888888888888,
              "#fdca26"
             ],
             [
              1,
              "#f0f921"
             ]
            ],
            "type": "surface"
           }
          ],
          "table": [
           {
            "cells": {
             "fill": {
              "color": "#EBF0F8"
             },
             "line": {
              "color": "white"
             }
            },
            "header": {
             "fill": {
              "color": "#C8D4E3"
             },
             "line": {
              "color": "white"
             }
            },
            "type": "table"
           }
          ]
         },
         "layout": {
          "annotationdefaults": {
           "arrowcolor": "#2a3f5f",
           "arrowhead": 0,
           "arrowwidth": 1
          },
          "autotypenumbers": "strict",
          "coloraxis": {
           "colorbar": {
            "outlinewidth": 0,
            "ticks": ""
           }
          },
          "colorscale": {
           "diverging": [
            [
             0,
             "#8e0152"
            ],
            [
             0.1,
             "#c51b7d"
            ],
            [
             0.2,
             "#de77ae"
            ],
            [
             0.3,
             "#f1b6da"
            ],
            [
             0.4,
             "#fde0ef"
            ],
            [
             0.5,
             "#f7f7f7"
            ],
            [
             0.6,
             "#e6f5d0"
            ],
            [
             0.7,
             "#b8e186"
            ],
            [
             0.8,
             "#7fbc41"
            ],
            [
             0.9,
             "#4d9221"
            ],
            [
             1,
             "#276419"
            ]
           ],
           "sequential": [
            [
             0,
             "#0d0887"
            ],
            [
             0.1111111111111111,
             "#46039f"
            ],
            [
             0.2222222222222222,
             "#7201a8"
            ],
            [
             0.3333333333333333,
             "#9c179e"
            ],
            [
             0.4444444444444444,
             "#bd3786"
            ],
            [
             0.5555555555555556,
             "#d8576b"
            ],
            [
             0.6666666666666666,
             "#ed7953"
            ],
            [
             0.7777777777777778,
             "#fb9f3a"
            ],
            [
             0.8888888888888888,
             "#fdca26"
            ],
            [
             1,
             "#f0f921"
            ]
           ],
           "sequentialminus": [
            [
             0,
             "#0d0887"
            ],
            [
             0.1111111111111111,
             "#46039f"
            ],
            [
             0.2222222222222222,
             "#7201a8"
            ],
            [
             0.3333333333333333,
             "#9c179e"
            ],
            [
             0.4444444444444444,
             "#bd3786"
            ],
            [
             0.5555555555555556,
             "#d8576b"
            ],
            [
             0.6666666666666666,
             "#ed7953"
            ],
            [
             0.7777777777777778,
             "#fb9f3a"
            ],
            [
             0.8888888888888888,
             "#fdca26"
            ],
            [
             1,
             "#f0f921"
            ]
           ]
          },
          "colorway": [
           "#636efa",
           "#EF553B",
           "#00cc96",
           "#ab63fa",
           "#FFA15A",
           "#19d3f3",
           "#FF6692",
           "#B6E880",
           "#FF97FF",
           "#FECB52"
          ],
          "font": {
           "color": "#2a3f5f"
          },
          "geo": {
           "bgcolor": "white",
           "lakecolor": "white",
           "landcolor": "#E5ECF6",
           "showlakes": true,
           "showland": true,
           "subunitcolor": "white"
          },
          "hoverlabel": {
           "align": "left"
          },
          "hovermode": "closest",
          "mapbox": {
           "style": "light"
          },
          "paper_bgcolor": "white",
          "plot_bgcolor": "#E5ECF6",
          "polar": {
           "angularaxis": {
            "gridcolor": "white",
            "linecolor": "white",
            "ticks": ""
           },
           "bgcolor": "#E5ECF6",
           "radialaxis": {
            "gridcolor": "white",
            "linecolor": "white",
            "ticks": ""
           }
          },
          "scene": {
           "xaxis": {
            "backgroundcolor": "#E5ECF6",
            "gridcolor": "white",
            "gridwidth": 2,
            "linecolor": "white",
            "showbackground": true,
            "ticks": "",
            "zerolinecolor": "white"
           },
           "yaxis": {
            "backgroundcolor": "#E5ECF6",
            "gridcolor": "white",
            "gridwidth": 2,
            "linecolor": "white",
            "showbackground": true,
            "ticks": "",
            "zerolinecolor": "white"
           },
           "zaxis": {
            "backgroundcolor": "#E5ECF6",
            "gridcolor": "white",
            "gridwidth": 2,
            "linecolor": "white",
            "showbackground": true,
            "ticks": "",
            "zerolinecolor": "white"
           }
          },
          "shapedefaults": {
           "line": {
            "color": "#2a3f5f"
           }
          },
          "ternary": {
           "aaxis": {
            "gridcolor": "white",
            "linecolor": "white",
            "ticks": ""
           },
           "baxis": {
            "gridcolor": "white",
            "linecolor": "white",
            "ticks": ""
           },
           "bgcolor": "#E5ECF6",
           "caxis": {
            "gridcolor": "white",
            "linecolor": "white",
            "ticks": ""
           }
          },
          "title": {
           "x": 0.05
          },
          "xaxis": {
           "automargin": true,
           "gridcolor": "white",
           "linecolor": "white",
           "ticks": "",
           "title": {
            "standoff": 15
           },
           "zerolinecolor": "white",
           "zerolinewidth": 2
          },
          "yaxis": {
           "automargin": true,
           "gridcolor": "white",
           "linecolor": "white",
           "ticks": "",
           "title": {
            "standoff": 15
           },
           "zerolinecolor": "white",
           "zerolinewidth": 2
          }
         }
        },
        "title": {
         "text": "Distribution of victim Ages"
        },
        "xaxis": {
         "anchor": "y",
         "categoryarray": [
          "F",
          "M",
          "X"
         ],
         "categoryorder": "array",
         "domain": [
          0,
          1
         ],
         "title": {
          "text": "Sex"
         }
        },
        "yaxis": {
         "anchor": "x",
         "domain": [
          0,
          1
         ],
         "title": {
          "text": "Frequency"
         }
        }
       }
      }
     },
     "metadata": {},
     "output_type": "display_data"
    },
    {
     "data": {
      "text/plain": [
       "<Figure size 900x300 with 0 Axes>"
      ]
     },
     "metadata": {},
     "output_type": "display_data"
    }
   ],
   "source": [
    "# Distribution of victim Genders\n",
    "plt.figure(figsize=(9,3))\n",
    "histogram_fig = px.histogram(df, x='Vict_Sex', title='Distribution of victim Ages', nbins=15,color=\"Vict_Sex\")\n",
    "histogram_fig.update_xaxes(title_text='Sex')\n",
    "histogram_fig.update_yaxes(title_text='Frequency')\n",
    "histogram_fig.show()\n"
   ]
  },
  {
   "cell_type": "markdown",
   "metadata": {},
   "source": [
    "Distribution of Male victim is more than female victim..."
   ]
  },
  {
   "cell_type": "markdown",
   "metadata": {},
   "source": [
    "Identify Common Premises "
   ]
  },
  {
   "cell_type": "code",
   "execution_count": 16,
   "metadata": {},
   "outputs": [
    {
     "data": {
      "image/png": "[encoded data removed]",
      "text/plain": [
       "<Figure size 1000x600 with 1 Axes>"
      ]
     },
     "metadata": {},
     "output_type": "display_data"
    }
   ],
   "source": [
    "query = '''select Premis_Desc from crime_data'''\n",
    "df= pd.read_sql(query,connection)\n",
    "plt.figure(figsize=(10, 6))\n",
    "sns.countplot(data=df, x='Premis_Desc', order=df['Premis_Desc'].value_counts().index[:10],palette='pastel')\n",
    "plt.title(\"Common Premises\")\n",
    "plt.xlabel('Premises')\n",
    "plt.ylabel(\"Frequency\")\n",
    "plt.xticks(rotation=90)\n",
    "plt.grid(axis=\"y\")\n",
    "plt.show()\n"
   ]
  },
  {
   "cell_type": "markdown",
   "metadata": {},
   "source": [
    "Most of the crime are occurred in Street than Sidewalk than panking lot"
   ]
  },
  {
   "cell_type": "markdown",
   "metadata": {},
   "source": [
    "----Retriving status data"
   ]
  },
  {
   "cell_type": "code",
   "execution_count": 17,
   "metadata": {},
   "outputs": [
    {
     "data": {
      "text/plain": [
       "status\n",
       "IC    447\n",
       "AA     27\n",
       "AO     24\n",
       "JO      1\n",
       "Name: count, dtype: int64"
      ]
     },
     "execution_count": 17,
     "metadata": {},
     "output_type": "execute_result"
    }
   ],
   "source": [
    "query= 'select status from crime_data'\n",
    "df=pd.read_sql(query,connection)\n",
    "#Classify crime by status\n",
    "status_counts = df['status'].value_counts()\n",
    "status_counts\n",
    "\n"
   ]
  },
  {
   "cell_type": "code",
   "execution_count": 18,
   "metadata": {},
   "outputs": [
    {
     "data": {
      "image/png": "[encoded data removed]",
      "text/plain": [
       "<Figure size 640x480 with 1 Axes>"
      ]
     },
     "metadata": {},
     "output_type": "display_data"
    }
   ],
   "source": [
    "status_counts.plot( kind='bar',color='skyblue')\n",
    "plt.title('Status Distribution of crime report')\n",
    "plt.xlabel('Status')\n",
    "plt.ylabel('Frequency')\n",
    "plt.xticks(rotation=0)\n",
    "plt.show()"
   ]
  },
  {
   "cell_type": "markdown",
   "metadata": {},
   "source": [
    "80% of cases are investigated just few are left"
   ]
  },
  {
   "cell_type": "markdown",
   "metadata": {},
   "source": [
    "----"
   ]
  },
  {
   "cell_type": "markdown",
   "metadata": {},
   "source": [
    "----"
   ]
  },
  {
   "cell_type": "markdown",
   "metadata": {},
   "source": [
    "Questions"
   ]
  },
  {
   "cell_type": "markdown",
   "metadata": {},
   "source": [
    "Spatial Analysis:"
   ]
  },
  {
   "cell_type": "markdown",
   "metadata": {},
   "source": [
    "1) Where are the geographical hotspots for reported crimes?"
   ]
  },
  {
   "cell_type": "markdown",
   "metadata": {},
   "source": [
    "Ans: The los angeles of california states b/w latitude 34 degree and longitude -118.30 degree to -118.20 is significant hotspot for reported crimes."
   ]
  },
  {
   "cell_type": "markdown",
   "metadata": {},
   "source": [
    "2) What is the distribution of victim ages in reported crimes?"
   ]
  },
  {
   "cell_type": "markdown",
   "metadata": {},
   "source": [
    "Ans: In above Analysis we can say that from age group 25 to 29 the number of records are high."
   ]
  },
  {
   "cell_type": "markdown",
   "metadata": {},
   "source": [
    "3. Is there a significant difference in crime rates between male and female victims?"
   ]
  },
  {
   "cell_type": "markdown",
   "metadata": {},
   "source": [
    "Ans: There is significant difference in crime rate b/w male and female victims,\n",
    "  Male victimes has commited more crimes than female victimes\n",
    "  Male crime rate 250 and female crime rate is 149\n"
   ]
  },
  {
   "cell_type": "markdown",
   "metadata": {},
   "source": [
    "4. Where do most crimes occur based on the \"Location\" column?"
   ]
  },
  {
   "cell_type": "code",
   "execution_count": 19,
   "metadata": {},
   "outputs": [
    {
     "data": {
      "text/html": [
       "<div>\n",
       "<style scoped>\n",
       "    .dataframe tbody tr th:only-of-type {\n",
       "        vertical-align: middle;\n",
       "    }\n",
       "\n",
       "    .dataframe tbody tr th {\n",
       "        vertical-align: top;\n",
       "    }\n",
       "\n",
       "    .dataframe thead th {\n",
       "        text-align: right;\n",
       "    }\n",
       "</style>\n",
       "<table border=\"1\" class=\"dataframe\">\n",
       "  <thead>\n",
       "    <tr style=\"text-align: right;\">\n",
       "      <th></th>\n",
       "      <th>location</th>\n",
       "      <th>crime_occurred</th>\n",
       "    </tr>\n",
       "  </thead>\n",
       "  <tbody>\n",
       "    <tr>\n",
       "      <th>0</th>\n",
       "      <td>800 N ALAMEDA ST</td>\n",
       "      <td>14</td>\n",
       "    </tr>\n",
       "    <tr>\n",
       "      <th>1</th>\n",
       "      <td>700 W 7TH ST</td>\n",
       "      <td>11</td>\n",
       "    </tr>\n",
       "    <tr>\n",
       "      <th>2</th>\n",
       "      <td>300 E 5TH ST</td>\n",
       "      <td>6</td>\n",
       "    </tr>\n",
       "    <tr>\n",
       "      <th>3</th>\n",
       "      <td>1100 S FIGUEROA ST</td>\n",
       "      <td>6</td>\n",
       "    </tr>\n",
       "    <tr>\n",
       "      <th>4</th>\n",
       "      <td>6TH</td>\n",
       "      <td>6</td>\n",
       "    </tr>\n",
       "  </tbody>\n",
       "</table>\n",
       "</div>"
      ],
      "text/plain": [
       "             location  crime_occurred\n",
       "0    800 N ALAMEDA ST              14\n",
       "1        700 W 7TH ST              11\n",
       "2        300 E 5TH ST               6\n",
       "3  1100 S FIGUEROA ST               6\n",
       "4                 6TH               6"
      ]
     },
     "execution_count": 19,
     "metadata": {},
     "output_type": "execute_result"
    }
   ],
   "source": [
    "#Ans: \n",
    "query= '''select location,count(location) as crime_occurred from crime_data group by location\n",
    "order by count(location) desc\n",
    "limit 5'''\n",
    "df= pd.read_sql(query,connection)\n",
    "df"
   ]
  },
  {
   "cell_type": "markdown",
   "metadata": {},
   "source": [
    "5. What is the distribution of reported crimes based on Crime Code?"
   ]
  },
  {
   "cell_type": "code",
   "execution_count": 20,
   "metadata": {},
   "outputs": [
    {
     "data": {
      "image/png": "[encoded data removed]",
      "text/plain": [
       "<Figure size 1000x800 with 1 Axes>"
      ]
     },
     "metadata": {},
     "output_type": "display_data"
    },
    {
     "name": "stdout",
     "output_type": "stream",
     "text": [
      "Crime code counts:\n",
      "Crm_cd\n",
      "330    82\n",
      "624    74\n",
      "440    44\n",
      "442    28\n",
      "510    28\n",
      "341    26\n",
      "230    24\n",
      "740    23\n",
      "745    23\n",
      "888    19\n",
      "310    16\n",
      "210    12\n",
      "480    11\n",
      "354    10\n",
      "420     9\n",
      "350     9\n",
      "930     7\n",
      "623     5\n",
      "761     5\n",
      "662     5\n",
      "946     4\n",
      "220     4\n",
      "648     3\n",
      "901     3\n",
      "850     2\n",
      "956     2\n",
      "351     2\n",
      "320     2\n",
      "625     2\n",
      "886     2\n",
      "900     2\n",
      "755     1\n",
      "649     1\n",
      "940     1\n",
      "647     1\n",
      "890     1\n",
      "421     1\n",
      "820     1\n",
      "812     1\n",
      "920     1\n",
      "666     1\n",
      "343     1\n",
      "Name: count, dtype: int64\n"
     ]
    }
   ],
   "source": [
    "#Ans: \n",
    "query='select Crm_cd from crime_data'\n",
    "# fatching data from dataframe\n",
    "crime_code_data= pd.read_sql(query,connection)\n",
    "crime_code_counts=crime_code_data['Crm_cd'].value_counts()\n",
    "plt.figure(figsize=(10, 8))\n",
    "crime_code_counts.plot(kind='bar',color='skyblue')\n",
    "plt.title('Crime code distribution of reported crime')\n",
    "plt.xlabel('Crime Code')\n",
    "plt.ylabel('Frequency')\n",
    "plt.xticks(rotation=45)\n",
    "plt.grid(axis='y')\n",
    "plt.show()\n",
    "\n",
    "#print crime code counts\n",
    "print ('Crime code counts:')\n",
    "print(crime_code_counts)\n",
    "\n"
   ]
  }
 ],
 "metadata": {
  "kernelspec": {
   "display_name": "Python 3",
   "language": "python",
   "name": "python3"
  },
  "language_info": {
   "codemirror_mode": {
    "name": "ipython",
    "version": 3
   },
   "file_extension": ".py",
   "mimetype": "text/x-python",
   "name": "python",
   "nbconvert_exporter": "python",
   "pygments_lexer": "ipython3",
   "version": "3.12.3"
  }
 },
 "nbformat": 4,
 "nbformat_minor": 2
}
